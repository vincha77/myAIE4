{
  "cells": [
    {
      "cell_type": "markdown",
      "metadata": {
        "id": "lElF3o5PR6ys"
      },
      "source": [
        "# Your First RAG Application\n",
        "\n",
        "In this notebook, we'll walk you through each of the components that are involved in a simple RAG application.\n",
        "\n",
        "We won't be leveraging any fancy tools, just the OpenAI Python SDK, Numpy, and some classic Python.\n",
        "\n",
        "> NOTE: This was done with Python 3.11.4.\n",
        "\n",
        "> NOTE: There might be [compatibility issues](https://github.com/wandb/wandb/issues/7683) if you're on NVIDIA driver >552.44 As an interim solution - you can rollback your drivers to the 552.44."
      ]
    },
    {
      "cell_type": "markdown",
      "metadata": {
        "id": "5CtcL8P8R6yt"
      },
      "source": [
        "## Table of Contents:\n",
        "\n",
        "- Task 1: Imports and Utilities\n",
        "- Task 2: Documents\n",
        "- Task 3: Embeddings and Vectors\n",
        "- Task 4: Prompts\n",
        "- Task 5: Retrieval Augmented Generation\n",
        "  - 🚧 Activity #1: Augment RAG"
      ]
    },
    {
      "cell_type": "markdown",
      "metadata": {
        "id": "1Dz6GYilR6yt"
      },
      "source": [
        "Let's look at a rather complicated looking visual representation of a basic RAG application.\n",
        "\n",
        "<img src=\"https://i.imgur.com/vD8b016.png\" />"
      ]
    },
    {
      "cell_type": "markdown",
      "metadata": {
        "id": "PjmC0KFtR6yt"
      },
      "source": [
        "## Task 1: Imports and Utility\n",
        "\n",
        "We're just doing some imports and enabling `async` to work within the Jupyter environment here, nothing too crazy!"
      ]
    },
    {
      "cell_type": "code",
      "execution_count": 1,
      "metadata": {
        "colab": {
          "base_uri": "https://localhost:8080/"
        },
        "id": "H7VEzqziR6yt",
        "outputId": "f873dd3b-55a0-4e00-ecf4-e2a0fe3af327"
      },
      "outputs": [
        {
          "name": "stdout",
          "output_type": "stream",
          "text": [
            "\n",
            "\u001b[1m[\u001b[0m\u001b[34;49mnotice\u001b[0m\u001b[1;39;49m]\u001b[0m\u001b[39;49m A new release of pip is available: \u001b[0m\u001b[31;49m23.3.1\u001b[0m\u001b[39;49m -> \u001b[0m\u001b[32;49m24.2\u001b[0m\n",
            "\u001b[1m[\u001b[0m\u001b[34;49mnotice\u001b[0m\u001b[1;39;49m]\u001b[0m\u001b[39;49m To update, run: \u001b[0m\u001b[32;49mpip install --upgrade pip\u001b[0m\n"
          ]
        }
      ],
      "source": [
        "!pip install -qU numpy matplotlib plotly pandas scipy scikit-learn openai python-dotenv"
      ]
    },
    {
      "cell_type": "code",
      "execution_count": 2,
      "metadata": {
        "id": "Z1dyrG4hR6yt"
      },
      "outputs": [],
      "source": [
        "from aimakerspace.text_utils import TextFileLoader, CharacterTextSplitter\n",
        "from aimakerspace.vectordatabase import VectorDatabase\n",
        "import asyncio"
      ]
    },
    {
      "cell_type": "code",
      "execution_count": 3,
      "metadata": {
        "id": "9OrFZRnER6yt"
      },
      "outputs": [],
      "source": [
        "import nest_asyncio\n",
        "nest_asyncio.apply()"
      ]
    },
    {
      "cell_type": "markdown",
      "metadata": {
        "id": "M0jGnpQsR6yu"
      },
      "source": [
        "## Task 2: Documents\n",
        "\n",
        "We'll be concerning ourselves with this part of the flow in the following section:\n",
        "\n",
        "<img src=\"https://i.imgur.com/jTm9gjk.png\" />"
      ]
    },
    {
      "cell_type": "markdown",
      "metadata": {
        "id": "-SFPWvRUR6yu"
      },
      "source": [
        "### Loading Source Documents\n",
        "\n",
        "So, first things first, we need some documents to work with.\n",
        "\n",
        "While we could work directly with the `.txt` files (or whatever file-types you wanted to extend this to) we can instead do some batch processing of those documents at the beginning in order to store them in a more machine compatible format.\n",
        "\n",
        "In this case, we're going to parse our text file into a single document in memory.\n",
        "\n",
        "Let's look at the relevant bits of the `TextFileLoader` class:\n",
        "\n",
        "```python\n",
        "def load_file(self):\n",
        "        with open(self.path, \"r\", encoding=self.encoding) as f:\n",
        "            self.documents.append(f.read())\n",
        "```\n",
        "\n",
        "We're simply loading the document using the built in `open` method, and storing that output in our `self.documents` list.\n"
      ]
    },
    {
      "cell_type": "code",
      "execution_count": 4,
      "metadata": {
        "colab": {
          "base_uri": "https://localhost:8080/"
        },
        "id": "Ia2sUEuGR6yu",
        "outputId": "84937ecc-c35f-4c4a-a4ab-9da72625954c"
      },
      "outputs": [
        {
          "data": {
            "text/plain": [
              "1"
            ]
          },
          "execution_count": 4,
          "metadata": {},
          "output_type": "execute_result"
        }
      ],
      "source": [
        "text_loader = TextFileLoader(\"data/PMarcaBlogs.txt\")\n",
        "documents = text_loader.load_documents()\n",
        "len(documents)"
      ]
    },
    {
      "cell_type": "code",
      "execution_count": 5,
      "metadata": {
        "colab": {
          "base_uri": "https://localhost:8080/"
        },
        "id": "bV-tj5WFR6yu",
        "outputId": "674eb315-1ff3-4597-bcf5-38ece0a812ac"
      },
      "outputs": [
        {
          "name": "stdout",
          "output_type": "stream",
          "text": [
            "\n",
            "The Pmarca Blog Archives\n",
            "(select posts from 2007-2009)\n",
            "Marc Andreessen\n",
            "copyright: Andreessen Horow\n"
          ]
        }
      ],
      "source": [
        "print(documents[0][:100])"
      ]
    },
    {
      "cell_type": "markdown",
      "metadata": {
        "id": "nHlTvCzYR6yu"
      },
      "source": [
        "### Splitting Text Into Chunks\n",
        "\n",
        "As we can see, there is one massive document.\n",
        "\n",
        "We'll want to chunk the document into smaller parts so it's easier to pass the most relevant snippets to the LLM.\n",
        "\n",
        "There is no fixed way to split/chunk documents - and you'll need to rely on some intuition as well as knowing your data *very* well in order to build the most robust system.\n",
        "\n",
        "For this toy example, we'll just split blindly on length.\n",
        "\n",
        ">There's an opportunity to clear up some terminology here, for this course we will be stick to the following:\n",
        ">\n",
        ">- \"source documents\" : The `.txt`, `.pdf`, `.html`, ..., files that make up the files and information we start with in its raw format\n",
        ">- \"document(s)\" : single (or more) text object(s)\n",
        ">- \"corpus\" : the combination of all of our documents"
      ]
    },
    {
      "cell_type": "markdown",
      "metadata": {
        "id": "2G6Voc0jR6yv"
      },
      "source": [
        "As you can imagine (though it's not specifically true in this toy example) the idea of splitting documents is to break them into managable sized chunks that retain the most relevant local context."
      ]
    },
    {
      "cell_type": "code",
      "execution_count": 6,
      "metadata": {
        "colab": {
          "base_uri": "https://localhost:8080/"
        },
        "id": "UMC4tsEmR6yv",
        "outputId": "08689c0b-57cd-4040-942a-8193e997f5cb"
      },
      "outputs": [
        {
          "data": {
            "text/plain": [
              "373"
            ]
          },
          "execution_count": 6,
          "metadata": {},
          "output_type": "execute_result"
        }
      ],
      "source": [
        "text_splitter = CharacterTextSplitter()\n",
        "split_documents = text_splitter.split_texts(documents)\n",
        "len(split_documents)"
      ]
    },
    {
      "cell_type": "markdown",
      "metadata": {
        "id": "W2wKT0WLR6yv"
      },
      "source": [
        "Let's take a look at some of the documents we've managed to split."
      ]
    },
    {
      "cell_type": "code",
      "execution_count": 7,
      "metadata": {
        "colab": {
          "base_uri": "https://localhost:8080/"
        },
        "id": "vcYMwWJoR6yv",
        "outputId": "20d69876-feca-4826-b4be-32915276987a"
      },
      "outputs": [
        {
          "data": {
            "text/plain": [
              "['\\ufeff\\nThe Pmarca Blog Archives\\n(select posts from 2007-2009)\\nMarc Andreessen\\ncopyright: Andreessen Horowitz\\ncover design: Jessica Hagy\\nproduced using: Pressbooks\\nContents\\nTHE PMARCA GUIDE TO STARTUPS\\nPart 1: Why not to do a startup 2\\nPart 2: When the VCs say \"no\" 10\\nPart 3: \"But I don\\'t know any VCs!\" 18\\nPart 4: The only thing that matters 25\\nPart 5: The Moby Dick theory of big companies 33\\nPart 6: How much funding is too little? Too much? 41\\nPart 7: Why a startup\\'s initial business plan doesn\\'t\\nmatter that much\\n49\\nTHE PMARCA GUIDE TO HIRING\\nPart 8: Hiring, managing, promoting, and Dring\\nexecutives\\n54\\nPart 9: How to hire a professional CEO 68\\nHow to hire the best people you\\'ve ever worked\\nwith\\n69\\nTHE PMARCA GUIDE TO BIG COMPANIES\\nPart 1: Turnaround! 82\\nPart 2: Retaining great people 86\\nTHE PMARCA GUIDE TO CAREER, PRODUCTIVITY,\\nAND SOME OTHER THINGS\\nIntroduction 97\\nPart 1: Opportunity 99\\nPart 2: Skills and education 107\\nPart 3: Where to go and why 120\\nThe Pmarca Guide to Personal Productivi']"
            ]
          },
          "execution_count": 7,
          "metadata": {},
          "output_type": "execute_result"
        }
      ],
      "source": [
        "split_documents[0:1]"
      ]
    },
    {
      "cell_type": "markdown",
      "metadata": {
        "id": "HOU-RFP_R6yv"
      },
      "source": [
        "## Task 3: Embeddings and Vectors\n",
        "\n",
        "Next, we have to convert our corpus into a \"machine readable\" format as we explored in the Embedding Primer notebook.\n",
        "\n",
        "Today, we're going to talk about the actual process of creating, and then storing, these embeddings, and how we can leverage that to intelligently add context to our queries."
      ]
    },
    {
      "cell_type": "markdown",
      "metadata": {},
      "source": [
        "### OpenAI API Key\n",
        "\n",
        "In order to access OpenAI's APIs, we'll need to provide our OpenAI API Key!\n",
        "\n",
        "You can work through the folder \"OpenAI API Key Setup\" for more information on this process if you don't already have an API Key!"
      ]
    },
    {
      "cell_type": "code",
      "execution_count": 8,
      "metadata": {},
      "outputs": [],
      "source": [
        "import os\n",
        "import openai\n",
        "from getpass import getpass\n",
        "\n",
        "openai.api_key = getpass(\"OpenAI API Key: \")\n",
        "os.environ[\"OPENAI_API_KEY\"] = openai.api_key"
      ]
    },
    {
      "cell_type": "markdown",
      "metadata": {},
      "source": [
        "### Vector Database\n",
        "\n",
        "Let's set up our vector database to hold all our documents and their embeddings!"
      ]
    },
    {
      "cell_type": "markdown",
      "metadata": {
        "id": "kDQrfAR1R6yv"
      },
      "source": [
        "While this is all baked into 1 call - we can look at some of the code that powers this process to get a better understanding:\n",
        "\n",
        "Let's look at our `VectorDatabase().__init__()`:\n",
        "\n",
        "```python\n",
        "def __init__(self, embedding_model: EmbeddingModel = None):\n",
        "        self.vectors = defaultdict(np.array)\n",
        "        self.embedding_model = embedding_model or EmbeddingModel()\n",
        "```\n",
        "\n",
        "As you can see - our vectors are merely stored as a dictionary of `np.array` objects.\n",
        "\n",
        "Secondly, our `VectorDatabase()` has a default `EmbeddingModel()` which is a wrapper for OpenAI's `text-embedding-3-small` model.\n",
        "\n",
        "> **Quick Info About `text-embedding-3-small`**:\n",
        "> - It has a context window of **8191** tokens\n",
        "> - It returns vectors with dimension **1536**"
      ]
    },
    {
      "cell_type": "markdown",
      "metadata": {
        "id": "L273pRdeR6yv"
      },
      "source": [
        "#### ❓Question #1:\n",
        "\n",
        "The default embedding dimension of `text-embedding-3-small` is 1536, as noted above. \n",
        "\n",
        "1. Is there any way to modify this dimension?\n",
        "2. What technique does OpenAI use to achieve this?\n",
        "\n",
        "> NOTE: Check out this [API documentation](https://platform.openai.com/docs/api-reference/embeddings/create) for the answer to question #1, and [this documentation](https://platform.openai.com/docs/guides/embeddings/use-cases) for an answer to question #2!"
      ]
    },
    {
      "cell_type": "markdown",
      "metadata": {},
      "source": [
        "## **!!!!! Answer #1   !!!!**\n",
        "\n",
        "The default embedding dimension of `text-embedding-3-small` is 1536, as noted above. \n",
        "\n",
        "1. _Is there any way to modify this dimension?_\n",
        "    \n",
        "    (a) Yes, by using the dimensions parameter in the API call to OpenAI Embeddings model.\n",
        "    \n",
        "    (b) Alternatively, the embedding dimension can be dynamically altered after retrieving the default\n",
        "        model embeddings (1536 for small and 3072 for large) by truncating the array representing the embedding\n",
        "        down to a lower dimension - in this case, be sure to RE-normalize the array to be of unit length.\n",
        "\n",
        "\n",
        "\n",
        "\n",
        "2. _What technique does OpenAI use to achieve this?_\n",
        "    \n",
        "    Matryoshka Representation Learning or MRL from a paper in 2022 allows the embedding pipeline to encode information\n",
        "        at different levels of granularity."
      ]
    },
    {
      "cell_type": "markdown",
      "metadata": {
        "id": "w5FZY7K3R6yv"
      },
      "source": [
        "We can call the `async_get_embeddings` method of our `EmbeddingModel()` on a list of `str` and receive a list of `float` back!\n",
        "\n",
        "```python\n",
        "async def async_get_embeddings(self, list_of_text: List[str]) -> List[List[float]]:\n",
        "        return await aget_embeddings(\n",
        "            list_of_text=list_of_text, engine=self.embeddings_model_name\n",
        "        )\n",
        "```"
      ]
    },
    {
      "cell_type": "markdown",
      "metadata": {
        "id": "cSct6X0aR6yv"
      },
      "source": [
        "We cast those to `np.array` when we build our `VectorDatabase()`:\n",
        "\n",
        "```python\n",
        "async def abuild_from_list(self, list_of_text: List[str]) -> \"VectorDatabase\":\n",
        "        embeddings = await self.embedding_model.async_get_embeddings(list_of_text)\n",
        "        for text, embedding in zip(list_of_text, embeddings):\n",
        "            self.insert(text, np.array(embedding))\n",
        "        return self\n",
        "```\n",
        "\n",
        "And that's all we need to do!"
      ]
    },
    {
      "cell_type": "code",
      "execution_count": 9,
      "metadata": {
        "id": "O4KoLbVDR6yv"
      },
      "outputs": [],
      "source": [
        "vector_db = VectorDatabase()\n",
        "vector_db = asyncio.run(vector_db.abuild_from_list(split_documents))"
      ]
    },
    {
      "cell_type": "markdown",
      "metadata": {
        "id": "SSZwaGvpR6yv"
      },
      "source": [
        "#### ❓Question #2:\n",
        "\n",
        "What are the benefits of using an `async` approach to collecting our embeddings?\n",
        "\n",
        "> NOTE: Determining the core difference between `async` and `sync` will be useful! If you get stuck - ask ChatGPT!"
      ]
    },
    {
      "cell_type": "markdown",
      "metadata": {},
      "source": [
        "## **!!!! Answer #2 !!!!**\n",
        "\n",
        "_What are the benefits of using an `async` approach to collecting our embeddings?_\n",
        "\n",
        "async allows the code to gather all embeddings in a multi-tasking manner, leading to faster execution; rather than a 'sync' operation which would do this in sequence and be much slower.\n"
      ]
    },
    {
      "cell_type": "markdown",
      "metadata": {
        "id": "nRBdIt-xR6yw"
      },
      "source": [
        "So, to review what we've done so far in natural language:\n",
        "\n",
        "1. We load source documents\n",
        "2. We split those source documents into smaller chunks (documents)\n",
        "3. We send each of those documents to the `text-embedding-3-small` OpenAI API endpoint\n",
        "4. We store each of the text representations with the vector representations as keys/values in a dictionary"
      ]
    },
    {
      "cell_type": "markdown",
      "metadata": {
        "id": "4-vWANZyR6yw"
      },
      "source": [
        "### Semantic Similarity\n",
        "\n",
        "The next step is to be able to query our `VectorDatabase()` with a `str` and have it return to us vectors and text that is most relevant from our corpus.\n",
        "\n",
        "We're going to use the following process to achieve this in our toy example:\n",
        "\n",
        "1. We need to embed our query with the same `EmbeddingModel()` as we used to construct our `VectorDatabase()`\n",
        "2. We loop through every vector in our `VectorDatabase()` and use a distance measure to compare how related they are\n",
        "3. We return a list of the top `k` closest vectors, with their text representations\n",
        "\n",
        "There's some very heavy optimization that can be done at each of these steps - but let's just focus on the basic pattern in this notebook.\n",
        "\n",
        "> We are using [cosine similarity](https://www.engati.com/glossary/cosine-similarity) as a distance metric in this example - but there are many many distance metrics you could use - like [these](https://flavien-vidal.medium.com/similarity-distances-for-natural-language-processing-16f63cd5ba55)\n",
        "\n",
        "> We are using a rather inefficient way of calculating relative distance between the query vector and all other vectors - there are more advanced approaches that are much more efficient, like [ANN](https://towardsdatascience.com/comprehensive-guide-to-approximate-nearest-neighbors-algorithms-8b94f057d6b6)"
      ]
    },
    {
      "cell_type": "code",
      "execution_count": 10,
      "metadata": {
        "colab": {
          "base_uri": "https://localhost:8080/"
        },
        "id": "76d96uavR6yw",
        "outputId": "bbfccc31-20a2-41c7-c14d-46554a43ed2d"
      },
      "outputs": [
        {
          "data": {
            "text/plain": [
              "[('ordingly.\\nSeventh, when hiring the executive to run your former specialty, be\\ncareful you don’t hire someone weak on purpose.\\nThis sounds silly, but you wouldn’t believe how oaen it happens.\\nThe CEO who used to be a product manager who has a weak\\nproduct management executive. The CEO who used to be in\\nsales who has a weak sales executive. The CEO who used to be\\nin marketing who has a weak marketing executive.\\nI call this the “Michael Eisner Memorial Weak Executive Problem” — aaer the CEO of Disney who had previously been a brilliant TV network executive. When he bought ABC at Disney, it\\npromptly fell to fourth place. His response? “If I had an extra\\ntwo days a week, I could turn around ABC myself.” Well, guess\\nwhat, he didn’t have an extra two days a week.\\nA CEO — or a startup founder — oaen has a hard time letting\\ngo of the function that brought him to the party. The result: you\\nhire someone weak into the executive role for that function so\\nthat you can continue to be “the man” — cons',\n",
              "  np.float64(0.6539043027545371)),\n",
              " ('m. They have areas where they are truly deXcient in judgment or skill set. That’s just life. Almost nobody is brilliant\\nat everything. When hiring and when Hring executives, you\\nmust therefore focus on strength rather than lack of weakness. Everybody has severe weaknesses even if you can’t see\\nthem yet. When managing, it’s oaen useful to micromanage and\\nto provide remedial training around these weaknesses. Doing so\\nmay make the diWerence between an executive succeeding or\\nfailing.\\nFor example, you might have a brilliant engineering executive\\nwho generates excellent team loyalty, has terriXc product judgment and makes the trains run on time. This same executive\\nmay be very poor at relating to the other functions in the company. She may generate far more than her share of cross-functional conYicts, cut herself oW from critical information, and\\nsigniXcantly impede your ability to sell and market eWectively.\\nYour alternatives are:\\n(a) Macro-manage and give her an annual or quarterly object',\n",
              "  np.float64(0.5036247837648783)),\n",
              " ('ed?\\nIn reality — as opposed to Marc’s warped view of reality — it will\\nbe extremely helpful for Marc [if he were actually the CEO,\\nwhich he is not] to meet with the new head of engineering daily\\nwhen she comes on board and review all of her thinking and\\ndecisions. This level of micromanagement will accelerate her\\ntraining and improve her long-term eWectiveness. It will make\\nher seem smarter to the rest of the organization which will build\\ncredibility and conXdence while she comes up to speed. Micromanaging new executives is generally a good idea for a limited\\nperiod of time.\\nHowever, that is not the only time that it makes sense to micro66 The Pmarca Blog Archives\\nmanage executives. It turns out that just about every executive\\nin the world has a few things that are seriously wrong with\\nthem. They have areas where they are truly deXcient in judgment or skill set. That’s just life. Almost nobody is brilliant\\nat everything. When hiring and when Hring executives, you\\nmust therefore focus o',\n",
              "  np.float64(0.48148610617910664))]"
            ]
          },
          "execution_count": 10,
          "metadata": {},
          "output_type": "execute_result"
        }
      ],
      "source": [
        "vector_db.search_by_text(\"What is the Michael Eisner Memorial Weak Executive Problem?\", k=3)"
      ]
    },
    {
      "cell_type": "markdown",
      "metadata": {
        "id": "TehsfIiKR6yw"
      },
      "source": [
        "## Task 4: Prompts\n",
        "\n",
        "In the following section, we'll be looking at the role of prompts - and how they help us to guide our application in the right direction.\n",
        "\n",
        "In this notebook, we're going to rely on the idea of \"zero-shot in-context learning\".\n",
        "\n",
        "This is a lot of words to say: \"We will ask it to perform our desired task in the prompt, and provide no examples.\""
      ]
    },
    {
      "cell_type": "markdown",
      "metadata": {
        "id": "yXpA0UveR6yw"
      },
      "source": [
        "### XYZRolePrompt\n",
        "\n",
        "Before we do that, let's stop and think a bit about how OpenAI's chat models work.\n",
        "\n",
        "We know they have roles - as is indicated in the following API [documentation](https://platform.openai.com/docs/api-reference/chat/create#chat/create-messages)\n",
        "\n",
        "There are three roles, and they function as follows (taken directly from [OpenAI](https://platform.openai.com/docs/guides/gpt/chat-completions-api)):\n",
        "\n",
        "- `{\"role\" : \"system\"}` : The system message helps set the behavior of the assistant. For example, you can modify the personality of the assistant or provide specific instructions about how it should behave throughout the conversation. However note that the system message is optional and the model’s behavior without a system message is likely to be similar to using a generic message such as \"You are a helpful assistant.\"\n",
        "- `{\"role\" : \"user\"}` : The user messages provide requests or comments for the assistant to respond to.\n",
        "- `{\"role\" : \"assistant\"}` : Assistant messages store previous assistant responses, but can also be written by you to give examples of desired behavior.\n",
        "\n",
        "The main idea is this:\n",
        "\n",
        "1. You start with a system message that outlines how the LLM should respond, what kind of behaviours you can expect from it, and more\n",
        "2. Then, you can provide a few examples in the form of \"assistant\"/\"user\" pairs\n",
        "3. Then, you prompt the model with the true \"user\" message.\n",
        "\n",
        "In this example, we'll be forgoing the 2nd step for simplicities sake."
      ]
    },
    {
      "cell_type": "markdown",
      "metadata": {
        "id": "gdZ2KWKSR6yw"
      },
      "source": [
        "#### Utility Functions\n",
        "\n",
        "You'll notice that we're using some utility functions from the `aimakerspace` module - let's take a peek at these and see what they're doing!"
      ]
    },
    {
      "cell_type": "markdown",
      "metadata": {
        "id": "GFbeJDDsR6yw"
      },
      "source": [
        "##### XYZRolePrompt"
      ]
    },
    {
      "cell_type": "markdown",
      "metadata": {
        "id": "5mojJSE3R6yw"
      },
      "source": [
        "Here we have our `system`, `user`, and `assistant` role prompts.\n",
        "\n",
        "Let's take a peek at what they look like:\n",
        "\n",
        "```python\n",
        "class BasePrompt:\n",
        "    def __init__(self, prompt):\n",
        "        \"\"\"\n",
        "        Initializes the BasePrompt object with a prompt template.\n",
        "\n",
        "        :param prompt: A string that can contain placeholders within curly braces\n",
        "        \"\"\"\n",
        "        self.prompt = prompt\n",
        "        self._pattern = re.compile(r\"\\{([^}]+)\\}\")\n",
        "\n",
        "    def format_prompt(self, **kwargs):\n",
        "        \"\"\"\n",
        "        Formats the prompt string using the keyword arguments provided.\n",
        "\n",
        "        :param kwargs: The values to substitute into the prompt string\n",
        "        :return: The formatted prompt string\n",
        "        \"\"\"\n",
        "        matches = self._pattern.findall(self.prompt)\n",
        "        return self.prompt.format(**{match: kwargs.get(match, \"\") for match in matches})\n",
        "\n",
        "    def get_input_variables(self):\n",
        "        \"\"\"\n",
        "        Gets the list of input variable names from the prompt string.\n",
        "\n",
        "        :return: List of input variable names\n",
        "        \"\"\"\n",
        "        return self._pattern.findall(self.prompt)\n",
        "```\n",
        "\n",
        "Then we have our `RolePrompt` which laser focuses us on the role pattern found in most API endpoints for LLMs.\n",
        "\n",
        "```python\n",
        "class RolePrompt(BasePrompt):\n",
        "    def __init__(self, prompt, role: str):\n",
        "        \"\"\"\n",
        "        Initializes the RolePrompt object with a prompt template and a role.\n",
        "\n",
        "        :param prompt: A string that can contain placeholders within curly braces\n",
        "        :param role: The role for the message ('system', 'user', or 'assistant')\n",
        "        \"\"\"\n",
        "        super().__init__(prompt)\n",
        "        self.role = role\n",
        "\n",
        "    def create_message(self, **kwargs):\n",
        "        \"\"\"\n",
        "        Creates a message dictionary with a role and a formatted message.\n",
        "\n",
        "        :param kwargs: The values to substitute into the prompt string\n",
        "        :return: Dictionary containing the role and the formatted message\n",
        "        \"\"\"\n",
        "        return {\"role\": self.role, \"content\": self.format_prompt(**kwargs)}\n",
        "```\n",
        "\n",
        "We'll look at how the `SystemRolePrompt` is constructed to get a better idea of how that extension works:\n",
        "\n",
        "```python\n",
        "class SystemRolePrompt(RolePrompt):\n",
        "    def __init__(self, prompt: str):\n",
        "        super().__init__(prompt, \"system\")\n",
        "```\n",
        "\n",
        "That pattern is repeated for our `UserRolePrompt` and our `AssistantRolePrompt` as well."
      ]
    },
    {
      "cell_type": "markdown",
      "metadata": {
        "id": "D361R6sMR6yw"
      },
      "source": [
        "##### ChatOpenAI"
      ]
    },
    {
      "cell_type": "markdown",
      "metadata": {
        "id": "HJVQ2Pm8R6yw"
      },
      "source": [
        "Next we have our model, which is converted to a format analagous to libraries like LangChain and LlamaIndex.\n",
        "\n",
        "Let's take a peek at how that is constructed:\n",
        "\n",
        "```python\n",
        "class ChatOpenAI:\n",
        "    def __init__(self, model_name: str = \"gpt-4o-mini\"):\n",
        "        self.model_name = model_name\n",
        "        self.openai_api_key = os.getenv(\"OPENAI_API_KEY\")\n",
        "        if self.openai_api_key is None:\n",
        "            raise ValueError(\"OPENAI_API_KEY is not set\")\n",
        "\n",
        "    def run(self, messages, text_only: bool = True):\n",
        "        if not isinstance(messages, list):\n",
        "            raise ValueError(\"messages must be a list\")\n",
        "\n",
        "        openai.api_key = self.openai_api_key\n",
        "        response = openai.ChatCompletion.create(\n",
        "            model=self.model_name, messages=messages\n",
        "        )\n",
        "\n",
        "        if text_only:\n",
        "            return response.choices[0].message.content\n",
        "\n",
        "        return response\n",
        "```"
      ]
    },
    {
      "cell_type": "markdown",
      "metadata": {
        "id": "qCU7FfhIR6yw"
      },
      "source": [
        "#### ❓ Question #3:\n",
        "\n",
        "When calling the OpenAI API - are there any ways we can achieve more reproducible outputs?\n",
        "\n",
        "> NOTE: Check out [this section](https://platform.openai.com/docs/guides/text-generation/) of the OpenAI documentation for the answer!"
      ]
    },
    {
      "cell_type": "markdown",
      "metadata": {},
      "source": [
        "## !!!! Answer #3 !!!!\n",
        "\n",
        "_When calling the OpenAI API - are there any ways we can achieve more reproducible outputs?_\n",
        "\n",
        "Yes, by setting the temperature parameter to a low value (e.g., 0).\n"
      ]
    },
    {
      "cell_type": "markdown",
      "metadata": {
        "id": "c5wcjMLCR6yw"
      },
      "source": [
        "### Creating and Prompting OpenAI's `gpt-4o-mini`!\n",
        "\n",
        "Let's tie all these together and use it to prompt `gpt-4o-mini`!"
      ]
    },
    {
      "cell_type": "code",
      "execution_count": 11,
      "metadata": {
        "id": "WIfpIot7R6yw"
      },
      "outputs": [],
      "source": [
        "from aimakerspace.openai_utils.prompts import (\n",
        "    UserRolePrompt,\n",
        "    SystemRolePrompt,\n",
        "    AssistantRolePrompt,\n",
        ")\n",
        "\n",
        "from aimakerspace.openai_utils.chatmodel import ChatOpenAI\n",
        "\n",
        "chat_openai = ChatOpenAI()\n",
        "user_prompt_template = \"{content}\"\n",
        "user_role_prompt = UserRolePrompt(user_prompt_template)\n",
        "system_prompt_template = (\n",
        "    \"You are an expert in {expertise}, you always answer in a kind way.\"\n",
        ")\n",
        "system_role_prompt = SystemRolePrompt(system_prompt_template)\n",
        "\n",
        "messages = [\n",
        "    system_role_prompt.create_message(expertise=\"Python\"),\n",
        "    user_role_prompt.create_message(\n",
        "        content=\"What is the best way to write a loop?\"\n",
        "    ),\n",
        "]\n",
        "\n",
        "response = chat_openai.run(messages)"
      ]
    },
    {
      "cell_type": "code",
      "execution_count": 12,
      "metadata": {
        "colab": {
          "base_uri": "https://localhost:8080/"
        },
        "id": "dHo7lssNR6yw",
        "outputId": "1d3823fa-bb6b-45f6-ddba-b41686388324"
      },
      "outputs": [
        {
          "name": "stdout",
          "output_type": "stream",
          "text": [
            "In Python, the best way to write a loop often depends on your specific use case, but here are some general guidelines using the two most common types of loops: `for` loops and `while` loops.\n",
            "\n",
            "### For Loop\n",
            "A `for` loop is particularly useful when you want to iterate over a sequence (like a list, tuple, string, or any iterable). Here’s an example of iterating over a list:\n",
            "\n",
            "```python\n",
            "fruits = ['apple', 'banana', 'cherry']\n",
            "for fruit in fruits:\n",
            "    print(fruit)\n",
            "```\n",
            "\n",
            "### While Loop\n",
            "A `while` loop is useful when you want to repeat an action until a condition changes. Here's an example:\n",
            "\n",
            "```python\n",
            "count = 0\n",
            "while count < 5:\n",
            "    print(count)\n",
            "    count += 1\n",
            "```\n",
            "\n",
            "### Best Practices\n",
            "1. **Use comprehensions when possible**: For simple iterations, list comprehensions can make your code cleaner and more Pythonic.\n",
            "\n",
            "   ```python\n",
            "   squares = [x**2 for x in range(10)]\n",
            "   print(squares)\n",
            "   ```\n",
            "\n",
            "2. **Avoid infinite loops**: When using `while` loops, ensure the condition will eventually become `False`, or you will create an infinite loop.\n",
            "\n",
            "3. **Keep it readable**: Always prioritize readability in your loops. Clear variable names and structure will help both you and others understand the code later.\n",
            "\n",
            "4. **Break and Continue**: Use `break` to exit a loop and `continue` to skip to the next iteration, but use them judiciously so your code remains clean.\n",
            "\n",
            "5. **Enumerate**: If you need a counter while iterating, consider using `enumerate()` for better readability:\n",
            "\n",
            "   ```python\n",
            "   for index, fruit in enumerate(fruits):\n",
            "       print(f\"{index}: {fruit}\")\n",
            "   ```\n",
            "\n",
            "By following these guidelines, you'll be able to write effective and maintainable loops in Python. Feel free to ask if you have any specific use cases in mind!\n"
          ]
        }
      ],
      "source": [
        "print(response)"
      ]
    },
    {
      "cell_type": "markdown",
      "metadata": {
        "id": "r2nxxhB2R6yy"
      },
      "source": [
        "## Task 5: Retrieval Augmented Generation\n",
        "\n",
        "Now we can create a RAG prompt - which will help our system behave in a way that makes sense!\n",
        "\n",
        "There is much you could do here, many tweaks and improvements to be made!"
      ]
    },
    {
      "cell_type": "code",
      "execution_count": 13,
      "metadata": {
        "id": "D1hamzGaR6yy"
      },
      "outputs": [],
      "source": [
        "RAG_PROMPT_TEMPLATE = \"\"\" \\\n",
        "Use the provided context to answer the user's query.\n",
        "\n",
        "You may not answer the user's query unless there is specific context in the following text.\n",
        "\n",
        "If you do not know the answer, or cannot answer, please respond with \"I don't know\".\n",
        "\"\"\"\n",
        "\n",
        "rag_prompt = SystemRolePrompt(RAG_PROMPT_TEMPLATE)\n",
        "\n",
        "USER_PROMPT_TEMPLATE = \"\"\" \\\n",
        "Context:\n",
        "{context}\n",
        "\n",
        "User Query:\n",
        "{user_query}\n",
        "\"\"\"\n",
        "\n",
        "\n",
        "user_prompt = UserRolePrompt(USER_PROMPT_TEMPLATE)\n",
        "\n",
        "class RetrievalAugmentedQAPipeline:\n",
        "    def __init__(self, llm: ChatOpenAI(), vector_db_retriever: VectorDatabase) -> None:\n",
        "        self.llm = llm\n",
        "        self.vector_db_retriever = vector_db_retriever\n",
        "\n",
        "    def run_pipeline(self, user_query: str) -> str:\n",
        "        context_list = self.vector_db_retriever.search_by_text(user_query, k=4)\n",
        "\n",
        "        context_prompt = \"\"\n",
        "        for context in context_list:\n",
        "            context_prompt += context[0] + \"\\n\"\n",
        "\n",
        "        formatted_system_prompt = rag_prompt.create_message()\n",
        "\n",
        "        formatted_user_prompt = user_prompt.create_message(user_query=user_query, context=context_prompt)\n",
        "\n",
        "        return {\"response\" : self.llm.run([formatted_system_prompt, formatted_user_prompt]), \"context\" : context_list}"
      ]
    },
    {
      "cell_type": "markdown",
      "metadata": {
        "id": "zZIJI19uR6yz"
      },
      "source": [
        "#### ❓ Question #4:\n",
        "\n",
        "What prompting strategies could you use to make the LLM have a more thoughtful, detailed response?\n",
        "\n",
        "What is that strategy called?\n",
        "\n",
        "> NOTE: You can look through the Week 1 Day 1 \"Prompting OpenAI Like A Developer\" material for an answer to this question!"
      ]
    },
    {
      "cell_type": "markdown",
      "metadata": {},
      "source": [
        "## !!!! Answer #4 !!!!\n",
        "\n",
        "_What prompting strategies could you use to make the LLM have a more thoughtful, detailed response?_\n",
        "\n",
        "_What is that strategy called?_\n",
        "\n",
        "By providing clear and crisp guidance to the model via prompts.  Specifically, asking the model for a step-by-step reasoned response.  The technique is called Chain-of-Thought prompting.\n",
        "\n"
      ]
    },
    {
      "cell_type": "code",
      "execution_count": 14,
      "metadata": {
        "id": "kqbE9fZ6R6yz"
      },
      "outputs": [],
      "source": [
        "retrieval_augmented_qa_pipeline = RetrievalAugmentedQAPipeline(\n",
        "    vector_db_retriever=vector_db,\n",
        "    llm=chat_openai\n",
        ")"
      ]
    },
    {
      "cell_type": "code",
      "execution_count": 15,
      "metadata": {
        "colab": {
          "base_uri": "https://localhost:8080/"
        },
        "id": "jAGhaCGOR6yz",
        "outputId": "e4fb3a1b-d2bc-4e18-ec31-dc0adf767163"
      },
      "outputs": [
        {
          "data": {
            "text/plain": [
              "{'response': \"The 'Michael Eisner Memorial Weak Executive Problem' refers to the tendency of a CEO or startup founder to hire an executive who is weak in the same area in which the CEO has expertise. This often happens because the CEO has difficulty letting go of the function that originally contributed to their success, leading to a situation where they can continue to dominate that area. The term is named after Michael Eisner, the former CEO of Disney, who struggled with the performance of ABC after its acquisition, yet believed he could turn it around if he had more time. The problem highlights the risks of hiring weak executives to maintain personal control, rather than focusing on strong leadership in those areas.\",\n",
              " 'context': [('ordingly.\\nSeventh, when hiring the executive to run your former specialty, be\\ncareful you don’t hire someone weak on purpose.\\nThis sounds silly, but you wouldn’t believe how oaen it happens.\\nThe CEO who used to be a product manager who has a weak\\nproduct management executive. The CEO who used to be in\\nsales who has a weak sales executive. The CEO who used to be\\nin marketing who has a weak marketing executive.\\nI call this the “Michael Eisner Memorial Weak Executive Problem” — aaer the CEO of Disney who had previously been a brilliant TV network executive. When he bought ABC at Disney, it\\npromptly fell to fourth place. His response? “If I had an extra\\ntwo days a week, I could turn around ABC myself.” Well, guess\\nwhat, he didn’t have an extra two days a week.\\nA CEO — or a startup founder — oaen has a hard time letting\\ngo of the function that brought him to the party. The result: you\\nhire someone weak into the executive role for that function so\\nthat you can continue to be “the man” — cons',\n",
              "   np.float64(0.6582387824516003)),\n",
              "  ('m. They have areas where they are truly deXcient in judgment or skill set. That’s just life. Almost nobody is brilliant\\nat everything. When hiring and when Hring executives, you\\nmust therefore focus on strength rather than lack of weakness. Everybody has severe weaknesses even if you can’t see\\nthem yet. When managing, it’s oaen useful to micromanage and\\nto provide remedial training around these weaknesses. Doing so\\nmay make the diWerence between an executive succeeding or\\nfailing.\\nFor example, you might have a brilliant engineering executive\\nwho generates excellent team loyalty, has terriXc product judgment and makes the trains run on time. This same executive\\nmay be very poor at relating to the other functions in the company. She may generate far more than her share of cross-functional conYicts, cut herself oW from critical information, and\\nsigniXcantly impede your ability to sell and market eWectively.\\nYour alternatives are:\\n(a) Macro-manage and give her an annual or quarterly object',\n",
              "   np.float64(0.5088537081849307)),\n",
              "  ('ed?\\nIn reality — as opposed to Marc’s warped view of reality — it will\\nbe extremely helpful for Marc [if he were actually the CEO,\\nwhich he is not] to meet with the new head of engineering daily\\nwhen she comes on board and review all of her thinking and\\ndecisions. This level of micromanagement will accelerate her\\ntraining and improve her long-term eWectiveness. It will make\\nher seem smarter to the rest of the organization which will build\\ncredibility and conXdence while she comes up to speed. Micromanaging new executives is generally a good idea for a limited\\nperiod of time.\\nHowever, that is not the only time that it makes sense to micro66 The Pmarca Blog Archives\\nmanage executives. It turns out that just about every executive\\nin the world has a few things that are seriously wrong with\\nthem. They have areas where they are truly deXcient in judgment or skill set. That’s just life. Almost nobody is brilliant\\nat everything. When hiring and when Hring executives, you\\nmust therefore focus o',\n",
              "   np.float64(0.47903916559307824)),\n",
              "  ('nYicts, cut herself oW from critical information, and\\nsigniXcantly impede your ability to sell and market eWectively.\\nYour alternatives are:\\n(a) Macro-manage and give her an annual or quarterly objective\\nto Xx it, or…\\n(b) Intensively micromanage her interactions until she learns\\nthe fundamental interpersonal skills required to be an eWective\\nexecutive.\\nI am arguing that doing (a) will likely result in weak performance. The reason is that she very likely has no idea how to be\\neWective with her peers. If somebody is an executive, it’s very\\nlikely that somewhere along the line somebody gave her feedback — perhaps abstractly — about all of her weaknesses. Yet\\nthe weakness remains. As a result, executives generally require\\nmore hands-on management than lower level employees to\\nimprove weak areas.\\nSo, micromanagement is like Xne wine. A little at the right times\\nwill really enhance things; too much all the time and you’ll end\\nup in rehab.\\nPart 8: Hiring, managing, promoting, and Dring execut',\n",
              "   np.float64(0.46813893418566327))]}"
            ]
          },
          "execution_count": 15,
          "metadata": {},
          "output_type": "execute_result"
        }
      ],
      "source": [
        "retrieval_augmented_qa_pipeline.run_pipeline(\"What is the 'Michael Eisner Memorial Weak Executive Problem'?\")"
      ]
    },
    {
      "cell_type": "markdown",
      "metadata": {},
      "source": [
        "### 🏗️ Activity #1:\n",
        "\n",
        "Enhance your RAG application in some way! \n",
        "\n",
        "Suggestions are: \n",
        "\n",
        "- Allow it to work with PDF files\n",
        "- Implement a new distance metric\n",
        "- Add metadata support to the vector database\n",
        "\n",
        "While these are suggestions, you should feel free to make whatever augmentations you desire! \n",
        "\n",
        "> NOTE: These additions might require you to work within the `aimakerspace` library - that's expected!"
      ]
    },
    {
      "cell_type": "markdown",
      "metadata": {},
      "source": [
        "## **Summary of my work for Activity #1**"
      ]
    },
    {
      "cell_type": "markdown",
      "metadata": {},
      "source": [
        "### I have implemented two types of RAG pipelines below.\n",
        "Key features:\n",
        "1.  Both RAG pipelines load information from pdf files\n",
        "2.  In the first pipeline, I use a single pdf document - an academic paper in finance and pose a few high-level questions about the paper.\n",
        "3.  In the second pipeline, I load two pdf documents on the same subject at different points in time.  Specifically, I load Warren Buffett's letter to shareholders from 2022 and 2023.  This requires me to also encode some metadata to help identify which year the information refers to.  I implement this in a very simple way - by encoding a phrase with the relevant year at the start of each chunk.  I am eager to see how this type of metadata can be handled in a more efficient way.\n",
        "4.  Clearly, the second pipeline can be generalized to any number of documents on the same topic over time; a very realistic scenario in many applications...\n"
      ]
    },
    {
      "cell_type": "markdown",
      "metadata": {},
      "source": [
        "Key steps implemented below\n",
        "1.  Load each pdf doc and convert to text doc using pymupdf module.\n",
        "2.  Split each text doc to get chunked text doc\n",
        "3.  For the multi-document pipeline, add the metadata about the document to the start of each chunk string.  This is a short piece of text stating that this chunk is from {year}\n",
        "4.  Merge the chunked strings for each doc into a single list of chunks\n",
        "5.  make the vector db and proceed as usual"
      ]
    },
    {
      "cell_type": "code",
      "execution_count": 16,
      "metadata": {},
      "outputs": [],
      "source": [
        "### YOUR CODE HERE"
      ]
    },
    {
      "cell_type": "markdown",
      "metadata": {},
      "source": [
        "### Install necessary packages"
      ]
    },
    {
      "cell_type": "code",
      "execution_count": 17,
      "metadata": {},
      "outputs": [
        {
          "name": "stdout",
          "output_type": "stream",
          "text": [
            "Requirement already satisfied: pymupdf in /Users/vinodchandrashekaran/.virtualenvs/aie4challenge/lib/python3.11/site-packages (1.24.9)\n",
            "Requirement already satisfied: PyMuPDFb==1.24.9 in /Users/vinodchandrashekaran/.virtualenvs/aie4challenge/lib/python3.11/site-packages (from pymupdf) (1.24.9)\n",
            "\n",
            "\u001b[1m[\u001b[0m\u001b[34;49mnotice\u001b[0m\u001b[1;39;49m]\u001b[0m\u001b[39;49m A new release of pip is available: \u001b[0m\u001b[31;49m23.3.1\u001b[0m\u001b[39;49m -> \u001b[0m\u001b[32;49m24.2\u001b[0m\n",
            "\u001b[1m[\u001b[0m\u001b[34;49mnotice\u001b[0m\u001b[1;39;49m]\u001b[0m\u001b[39;49m To update, run: \u001b[0m\u001b[32;49mpip install --upgrade pip\u001b[0m\n"
          ]
        }
      ],
      "source": [
        "!pip install pymupdf\n",
        "# !pip install pypdf"
      ]
    },
    {
      "cell_type": "markdown",
      "metadata": {},
      "source": [
        "### Imports"
      ]
    },
    {
      "cell_type": "code",
      "execution_count": 18,
      "metadata": {},
      "outputs": [],
      "source": [
        "# from myutils.pypdf_to_text import TextFromPyPdf\n",
        "from myutils.pymupdf_to_text import TextFromPyMuPdf"
      ]
    },
    {
      "cell_type": "code",
      "execution_count": 19,
      "metadata": {},
      "outputs": [],
      "source": [
        "from IPython.display import display, Markdown\n",
        "\n",
        "def pretty_print(message: str) -> str:\n",
        "    display(Markdown(message))"
      ]
    },
    {
      "cell_type": "markdown",
      "metadata": {},
      "source": [
        "### RAG on a Single PDF Document"
      ]
    },
    {
      "cell_type": "markdown",
      "metadata": {},
      "source": [
        "#### Load pdf document, convert it to text, chunk the text and build vector database"
      ]
    },
    {
      "cell_type": "code",
      "execution_count": 20,
      "metadata": {},
      "outputs": [],
      "source": [
        "list_of_pdfs = ['./data/LSV_value_jf_pub_1994.pdf']\n",
        "chunk_size = 1000\n",
        "chunk_overlap = 200"
      ]
    },
    {
      "cell_type": "code",
      "execution_count": 21,
      "metadata": {},
      "outputs": [
        {
          "name": "stdout",
          "output_type": "stream",
          "text": [
            "completed chunking: final collection has 143 chunks\n",
            "completed chunking for all docs: final corpus has 143 chunks \n"
          ]
        }
      ],
      "source": [
        "all_chunks = []\n",
        "textfrompdf = TextFromPyMuPdf(list_of_pdf_docs=list_of_pdfs)\n",
        "list_of_documents = textfrompdf.process_all_pdfs()[0]\n",
        "text_splitter = CharacterTextSplitter(chunk_size=chunk_size, chunk_overlap=chunk_overlap)\n",
        "split_documents = text_splitter.split_texts(list_of_documents)\n",
        "print(f'completed chunking: final collection has {len(split_documents)} chunks')\n",
        "all_chunks.extend(split_documents)\n",
        "print(f'completed chunking for all docs: final corpus has {len(all_chunks)} chunks ')"
      ]
    },
    {
      "cell_type": "code",
      "execution_count": 22,
      "metadata": {},
      "outputs": [],
      "source": [
        "my_vector_db = VectorDatabase()\n",
        "my_vector_db = asyncio.run(my_vector_db.abuild_from_list(all_chunks))"
      ]
    },
    {
      "cell_type": "markdown",
      "metadata": {},
      "source": [
        "#### Results from sample query to vector db"
      ]
    },
    {
      "cell_type": "code",
      "execution_count": 23,
      "metadata": {},
      "outputs": [
        {
          "data": {
            "text/plain": [
              "[(' \\nsimply equating a good investment with a well-run company irrespective of \\nprice. Regardless of the reason, some investors tend to get overly excited \\nabout stocks that have done very well in the past and buy them up, so that \\nthese \"glamour\" stocks become overpriced. Similarly, they overreact to stocks \\nthat have done very badly, oversell them, and these out-of-favor \"value\" \\nstocks become underpriced. Contrarian investors bet against such naive \\ninvestors. Because contrarian strategies invest disproportionately in stocks \\nthat are underpriced and underinvest in stocks that are overpriced, they \\noutperform the market (see De Bondt and Thaler (1985) and Haugen (1994)). \\nAn alternative explanation of why value strategies have produced superior \\nreturns, argued most forcefully by Fama and French (1992), is that they are \\nfundamentally riskier. That is, investors in value stocks, such as high book- \\nto-market stocks, tend to bear higher fundamental risk of some sort, and \\ntheir higher a',\n",
              "  np.float64(0.608811776407888)),\n",
              " ('oth extended and refined these results. \\nFinally, Chan, Hamao, and Lakonishok (1991) show that a high ratio of cash \\nflow to price also predicts higher returns. Interestingly, many of these results \\nhave been obtained for both the United States and Japan. Certain types of \\nvalue strategies, then, appear to have beaten the market. \\nWhile there is some agreement that value strategies have produced supe- \\nrior returns, the interpretation of why they have done so is more controver- \\nsial. Value strategies might produce higher returns because they are contrar- \\nian to \"naive\"1 strategies followed by other investors. These naive strategies \\nmight range from extrapolating past earnings growth too far into the future, \\nto assuming a trend in stock prices, to overreacting to good or bad news, or to \\nsimply equating a good investment with a well-run company irrespective of \\nprice. Regardless of the reason, some investors tend to get overly excited \\nabout stocks that have done very well in the pa',\n",
              "  np.float64(0.5362504465244344)),\n",
              " ('\\n THE JOURNAL \\nOF FINANCE \\n* VOL. XLIX, NO. 5 * DECEMBER \\n1994 \\nContrarian Investment, \\nExtrapolation, \\nand Risk \\nJOSEF LAKONISHOK, ANDREI SHLEIFER, and \\nROBERT W. VISHNY* \\nABSTRACT \\nFor many years, scholars and investment \\nprofessionals have argued that value \\nstrategies outperform the market. These value strategies call for buying stocks that \\nhave low prices relative to earnings, dividends, book assets, or other measures of \\nfundamental value. While there is some agreement that value strategies produce \\nhigher returns, the interpretation \\nof why they do so is more controversial. This \\narticle provides evidence that value strategies yield higher returns because these \\nstrategies exploit the suboptimal behavior of the typical investor and not because \\nthese strategies are fundamentally riskier. \\nFOR MANY YEARS, SCHOLARS \\nand investment professionals have argued that \\nvalue strategies \\noutperform the market (Graham and Dodd (1934) and \\nDreman (1977)). These value strategies call for bu',\n",
              "  np.float64(0.5225679328130559)),\n",
              " ('French (1992), is that they are \\nfundamentally riskier. That is, investors in value stocks, such as high book- \\nto-market stocks, tend to bear higher fundamental risk of some sort, and \\ntheir higher average returns are simply compensation for this risk. This \\nargument is also used by critics of De Bondt and Thaler (Chan (1988) and \\nBall and Kothari (1989)) to dismiss their overreaction story. Whether value \\nstrategies have produced higher returns because they are contrarian to naive \\nstrategies or because they are fundamentally riskier remains an open ques- \\ntion. \\nIn this article, we try to shed further light on the two potential explana- \\ntions for why value strategies work. We do so along two dimensions. First, we \\nexamine more closely the predictions of the contrarian model. In particular, \\none natural version of the contrarian model argues that the overpriced \\nglamour stocks are those which, first, have performed well in the past, and \\nsecond, are expected by the market to perform',\n",
              "  np.float64(0.5189530413945247)),\n",
              " ('del. \\nIn this model, out-of-favor (or value) stocks have been underpriced relative to \\ntheir risk and return characteristics, \\nand investing \\nin them has indeed \\nearned abnormal returns. \\nThis conclusion raises the obvious question: how can the 10 to 11 percent \\nper year in extra returns on value stocks over glamour stocks have persisted \\nfor so long? One possible explanation is that investors simply did not know \\nabout them. This explanation has some plausibility \\nin that quantitative \\n\\n Contrarian Investment, Extrapolation, and Risk \\n1575 \\nportfolio selection and evaluation are relatively recent activities. Most in- \\nvestors might not have been able, until recently, to perform the analysis done \\nin this article. Of course, advocacy of value strategies is decades old, going \\nback at least to Graham and Dodd (1934). But such advocacy is usually not \\naccompanied by defensible statistical work and hence might not be entirely \\npersuasive, especially since many other strategies are advocat',\n",
              "  np.float64(0.5168990338132096)),\n",
              " ('skier. \\nFOR MANY YEARS, SCHOLARS \\nand investment professionals have argued that \\nvalue strategies \\noutperform the market (Graham and Dodd (1934) and \\nDreman (1977)). These value strategies call for buying stocks that have low \\nprices relative to earnings, dividends, historical prices, book assets, or other \\nmeasures of value. In recent years, value strategies have attracted academic \\nattention as well. Basu (1977), Jaffe, Keim, and Westerfield (1989), Chan, \\nHamao, and Lakonishok (1991), and Fama and French (1992) show that \\nstocks with high earnings/price \\nratios earn higher returns. De Bondt and \\nThaler (1985, 1987) argue that extreme losers outperform the market over \\nthe subsequent several years. Despite considerable criticism (Chan (1988) \\nand Ball and Kothari (1989)), their analysis has generally stood up to the \\ntests (Chopra, Lakonishok, and Ritter (1992)). Rosenberg, Reid, and Lanstein \\n(1984) show that stocks with high book relative to market values of equity \\noutperform the ',\n",
              "  np.float64(0.5096601684880689)),\n",
              " (' extreme good states. Roughly speaking, value stocks \\ncould be described as having higher up-market betas and lower down-market \\nbetas than glamour stocks with respect to economic conditions. Importantly, \\nwhile the value strategy did disproportionately well in extreme good times, \\nits performance in extreme bad times was also quite impressive. Performance \\nin extreme bad states is often the last refuge of those claiming that a high \\nreturn strategy must be riskier, even when conventional measures of risk \\nsuch as beta and standard deviation do not show it. The evidence indicates \\nsome positive relation between relative performance of the value strategy and \\nmeasures of prosperity, but there are no significant traces of a conventional \\nasset pricing equilibrium in which the higher returns on the value strategy \\nare compensation for higher systematic risk. \\nFinally, for completeness, Table VIII presents some more traditional risk \\nmeasures for portfolios using our classification schemes',\n",
              "  np.float64(0.4865156938336379)),\n",
              " ('n model. \\nV. Are Contrarian Strategies Riskier? \\nTwo alternative theories have been proposed to explain why value strate- \\ngies have produced higher returns in the past. The first theory says that they \\nhave done so because they exploit the mistakes \\nof naive investors. The \\nprevious section showed that investors appear to be extrapolating the past \\ntoo far into the future, even though the future does not warrant such \\nextrapolation. The second explanation of the superior returns to value strate- \\ngies is that they expose investors to greater systematic risk. In this section, \\nwe examine this explanation directly. \\nValue stocks would be fundamentally riskier than glamour stocks if, first, \\nthey underperform glamour stocks in some states of the world, and second, \\nthose are on average \"bad\" states, in which the marginal utility of wealth is \\nhigh, making value stocks unattractive to risk-averse investors. This simple \\ntheory motivates our empirical approach. \\nTo begin, we look at the co',\n",
              "  np.float64(0.4833266075893426)),\n",
              " ('was 21 percent compared to 3 percent for T-bills. \\nIn comparison to the reward-to-risk ratio for stocks vis-a-vis T-bills, the \\nreward-to-risk ratio for investing in value stocks is extremely high. A risk \\nmodel based on differences in standard deviation cannot explain the superior \\nreturns on value stocks. \\nVI. Summary and Interpretation of the Findings \\nThe results in this article establish (in varying degrees of detail) three \\npropositions. First, a variety of investment \\nstrategies that involve buying \\nout-of-favor (value) stocks have outperformed glamour strategies over the \\nApril 1968 to April 1990 period. Second, a likely reason that these value \\nstrategies have worked so well relative to the glamour strategies is the fact \\nthat the actual future growth rates of earnings, cash flow, etc. of glamour \\nstocks relative to value stocks turned out to be much lower than they were in \\nthe past, or as the multiples on those stocks indicate the market expected \\nthem to be. That is, market',\n",
              "  np.float64(0.4813561314081285)),\n",
              " (' states, in which the marginal utility of wealth is \\nhigh, making value stocks unattractive to risk-averse investors. This simple \\ntheory motivates our empirical approach. \\nTo begin, we look at the consistency of performance of the value and \\nglamour strategies over time and ask how often value underperforms glam- \\nour. We then check whether the times when value underperforms are reces- \\nsions, times of severe market declines, or otherwise \"bad\" states of the world \\nin which the marginal utility of consumption is high. These tests do not \\nprovide much support for the view that value strategies are fundamentally \\nriskier. Finally, we look at some traditional measures of risk, such as beta \\nand the standard deviation of returns, to compare value and glamour strate- \\ngies. \\nTable VI and Figure 2 present the year-by-year performance of the value \\nstrategy relative to the glamour strategy over the April 1968 to April 1990 \\n\\n Contrarian Investment, Extrapolation, and Risk \\n1565 \\nTable VI \\nYe',\n",
              "  np.float64(0.47912353076513114))]"
            ]
          },
          "execution_count": 23,
          "metadata": {},
          "output_type": "execute_result"
        }
      ],
      "source": [
        "my_vector_db.search_by_text(\"What is value investing?\", k=10)"
      ]
    },
    {
      "cell_type": "markdown",
      "metadata": {},
      "source": [
        "#### System Role Prompt"
      ]
    },
    {
      "cell_type": "code",
      "execution_count": 24,
      "metadata": {},
      "outputs": [],
      "source": [
        "RAG_PROMPT_TEMPLATE_TAIL = \"\"\"\\\n",
        "{doc_specific_prompt}\n",
        "\n",
        "Use ONLY the provided context to answer the user's query.\n",
        "\n",
        "You may not answer the user's query unless there is specific context in the following text.\n",
        "\n",
        "If you do not know the answer, or cannot answer, please respond with \"I don't know\".\n",
        "\"\"\""
      ]
    },
    {
      "cell_type": "code",
      "execution_count": 25,
      "metadata": {},
      "outputs": [],
      "source": [
        "lsv_doc_specific_prompt = \"\"\"\n",
        "You are an expert in investment management and in the drivers of different stock market investing strategies.\n",
        "You will be provided with a collection of papers on this topic.\n",
        "The questions will relate to the content of these papers.\n",
        "\n",
        "Take your time and think through the question step-by-step and provide your response to the question.\n",
        "\n",
        "\"\"\""
      ]
    },
    {
      "cell_type": "code",
      "execution_count": 26,
      "metadata": {},
      "outputs": [],
      "source": [
        "LSV_RAG_PROMPT_TEMPLATE = RAG_PROMPT_TEMPLATE_TAIL.format(doc_specific_prompt=lsv_doc_specific_prompt)\n",
        "lsv_rag_prompt = SystemRolePrompt(LSV_RAG_PROMPT_TEMPLATE)\n"
      ]
    },
    {
      "cell_type": "markdown",
      "metadata": {},
      "source": [
        "#### User Role Prompt"
      ]
    },
    {
      "cell_type": "code",
      "execution_count": 27,
      "metadata": {},
      "outputs": [],
      "source": [
        "USER_PROMPT_TEMPLATE = \"\"\" \\\n",
        "Context:\n",
        "{context}\n",
        "\n",
        "User Query:\n",
        "{user_query}\n",
        "\"\"\"\n",
        "\n",
        "lsv_user_prompt = UserRolePrompt(USER_PROMPT_TEMPLATE)"
      ]
    },
    {
      "cell_type": "code",
      "execution_count": 28,
      "metadata": {},
      "outputs": [],
      "source": [
        "class NewRetrievalAugmentedQAPipeline:\n",
        "    def __init__(self, llm: ChatOpenAI(), vector_db_retriever: VectorDatabase) -> None:\n",
        "        self.llm = llm\n",
        "        self.vector_db_retriever = vector_db_retriever\n",
        "\n",
        "    def run_pipeline(self, user_query: str) -> str:\n",
        "        context_list = self.vector_db_retriever.search_by_text(user_query, k=10)\n",
        "\n",
        "        context_prompt = \"\"\n",
        "        for context in context_list:\n",
        "            context_prompt += context[0] + \"\\n\"\n",
        "\n",
        "        formatted_system_prompt = lsv_rag_prompt.create_message()\n",
        "\n",
        "        formatted_user_prompt = lsv_user_prompt.create_message(user_query=user_query, context=context_prompt)\n",
        "\n",
        "        return {\"response\" : self.llm.run([formatted_system_prompt, formatted_user_prompt]), \"context\" : context_list}"
      ]
    },
    {
      "cell_type": "code",
      "execution_count": 29,
      "metadata": {},
      "outputs": [],
      "source": [
        "my_retrieval_augmented_qa_pipeline = NewRetrievalAugmentedQAPipeline(\n",
        "    vector_db_retriever=my_vector_db,\n",
        "    llm=chat_openai\n",
        ")"
      ]
    },
    {
      "cell_type": "code",
      "execution_count": 30,
      "metadata": {},
      "outputs": [
        {
          "data": {
            "text/plain": [
              "{'response': \"Value strategies are considered successful for a couple of key reasons as highlighted in the context provided:\\n\\n1. **Contrarian Investment**: Value strategies often include a contrarian approach that exploits the mistakes of naive investors who tend to overreact to past performance. Investors might overly favor 'glamour' stocks—those that have performed well recently—leading to their overpricing. Conversely, 'value' stocks—those that have underperformed—may become underpriced. Contrarian investors leverage this by investing in these underpriced stocks, thereby potentially leading to superior returns.\\n\\n2. **Behavioral Mispricing**: Some research suggests that the higher expected returns from value strategies are due to behavioral errors in the market. For instance, investors may extrapolate past performance too far into the future, leading to mispricing opportunities that value strategies can capitalize on.\\n\\n3. **Less Evidence of Greater Risk**: The context also indicates that value strategies are not necessarily riskier than glamour strategies. Despite some criticisms suggesting that higher returns from value stocks are compensation for higher risk, empirical evidence shows little support for the notion that value strategies expose investors to greater fundamental risk.\\n\\nOverall, the success of value strategies is attributed to their ability to exploit mispricing caused by investor behavior rather than an inherent risk associated with investing in value stocks.\",\n",
              " 'context': [('oth extended and refined these results. \\nFinally, Chan, Hamao, and Lakonishok (1991) show that a high ratio of cash \\nflow to price also predicts higher returns. Interestingly, many of these results \\nhave been obtained for both the United States and Japan. Certain types of \\nvalue strategies, then, appear to have beaten the market. \\nWhile there is some agreement that value strategies have produced supe- \\nrior returns, the interpretation of why they have done so is more controver- \\nsial. Value strategies might produce higher returns because they are contrar- \\nian to \"naive\"1 strategies followed by other investors. These naive strategies \\nmight range from extrapolating past earnings growth too far into the future, \\nto assuming a trend in stock prices, to overreacting to good or bad news, or to \\nsimply equating a good investment with a well-run company irrespective of \\nprice. Regardless of the reason, some investors tend to get overly excited \\nabout stocks that have done very well in the pa',\n",
              "   np.float64(0.6381111397872712)),\n",
              "  (' \\nsimply equating a good investment with a well-run company irrespective of \\nprice. Regardless of the reason, some investors tend to get overly excited \\nabout stocks that have done very well in the past and buy them up, so that \\nthese \"glamour\" stocks become overpriced. Similarly, they overreact to stocks \\nthat have done very badly, oversell them, and these out-of-favor \"value\" \\nstocks become underpriced. Contrarian investors bet against such naive \\ninvestors. Because contrarian strategies invest disproportionately in stocks \\nthat are underpriced and underinvest in stocks that are overpriced, they \\noutperform the market (see De Bondt and Thaler (1985) and Haugen (1994)). \\nAn alternative explanation of why value strategies have produced superior \\nreturns, argued most forcefully by Fama and French (1992), is that they are \\nfundamentally riskier. That is, investors in value stocks, such as high book- \\nto-market stocks, tend to bear higher fundamental risk of some sort, and \\ntheir higher a',\n",
              "   np.float64(0.5984125319273168)),\n",
              "  ('French (1992), is that they are \\nfundamentally riskier. That is, investors in value stocks, such as high book- \\nto-market stocks, tend to bear higher fundamental risk of some sort, and \\ntheir higher average returns are simply compensation for this risk. This \\nargument is also used by critics of De Bondt and Thaler (Chan (1988) and \\nBall and Kothari (1989)) to dismiss their overreaction story. Whether value \\nstrategies have produced higher returns because they are contrarian to naive \\nstrategies or because they are fundamentally riskier remains an open ques- \\ntion. \\nIn this article, we try to shed further light on the two potential explana- \\ntions for why value strategies work. We do so along two dimensions. First, we \\nexamine more closely the predictions of the contrarian model. In particular, \\none natural version of the contrarian model argues that the overpriced \\nglamour stocks are those which, first, have performed well in the past, and \\nsecond, are expected by the market to perform',\n",
              "   np.float64(0.580687969420853)),\n",
              "  ('skier. \\nFOR MANY YEARS, SCHOLARS \\nand investment professionals have argued that \\nvalue strategies \\noutperform the market (Graham and Dodd (1934) and \\nDreman (1977)). These value strategies call for buying stocks that have low \\nprices relative to earnings, dividends, historical prices, book assets, or other \\nmeasures of value. In recent years, value strategies have attracted academic \\nattention as well. Basu (1977), Jaffe, Keim, and Westerfield (1989), Chan, \\nHamao, and Lakonishok (1991), and Fama and French (1992) show that \\nstocks with high earnings/price \\nratios earn higher returns. De Bondt and \\nThaler (1985, 1987) argue that extreme losers outperform the market over \\nthe subsequent several years. Despite considerable criticism (Chan (1988) \\nand Ball and Kothari (1989)), their analysis has generally stood up to the \\ntests (Chopra, Lakonishok, and Ritter (1992)). Rosenberg, Reid, and Lanstein \\n(1984) show that stocks with high book relative to market values of equity \\noutperform the ',\n",
              "   np.float64(0.568794611107165)),\n",
              "  ('(and inferior) \\nperformance of value strategies, as well as at their performance in bad states \\nof the world, such as extreme down markets and economic recessions. We also \\nlook at the betas and standard deviations of value and glamour strategies. \\nWe find little, if any, support for the view that value strategies are funda- \\nmentally riskier. \\nOur results raise the obvious question of how the higher expected returns \\non value strategies could have continued if such strategies are not fundamen- \\ntally riskier? We present some possible explanations that rely both on behav- \\nioral strategies \\nfavored by individual investors and on agency problems \\nplaguing institutional investors. \\nThe next section of the article briefly discusses our methodology. Section II \\nexamines a variety of simple classification schemes for glamour and value \\nstocks based on the book-to-market ratio, the cash flow-to-price ratio, the \\nearnings-to-price ratio, and past growth in sales. Section II shows that all of ',\n",
              "   np.float64(0.5618268421706383)),\n",
              "  ('n model. \\nV. Are Contrarian Strategies Riskier? \\nTwo alternative theories have been proposed to explain why value strate- \\ngies have produced higher returns in the past. The first theory says that they \\nhave done so because they exploit the mistakes \\nof naive investors. The \\nprevious section showed that investors appear to be extrapolating the past \\ntoo far into the future, even though the future does not warrant such \\nextrapolation. The second explanation of the superior returns to value strate- \\ngies is that they expose investors to greater systematic risk. In this section, \\nwe examine this explanation directly. \\nValue stocks would be fundamentally riskier than glamour stocks if, first, \\nthey underperform glamour stocks in some states of the world, and second, \\nthose are on average \"bad\" states, in which the marginal utility of wealth is \\nhigh, making value stocks unattractive to risk-averse investors. This simple \\ntheory motivates our empirical approach. \\nTo begin, we look at the co',\n",
              "   np.float64(0.5581664830992364)),\n",
              "  ('ssification schemes for glamour and value \\nstocks based on the book-to-market ratio, the cash flow-to-price ratio, the \\nearnings-to-price ratio, and past growth in sales. Section II shows that all of \\nthese simple value strategies have produced superior returns and motivates \\nour subsequent use of combinations of measures of past and expected growth. \\nSection III then examines \\nthe performance of value strategies \\nthat are \\ndefined using both past growth and current multiples. These two-dimensional \\nvalue strategies outperform glamour strategies by approximately 10 to 11 \\npercent per year. Moreover, the superior performance of value stocks relative \\nto glamour stocks persists when we restrict our attention to the largest 50 \\npercent or largest 20 percent of stocks by market capitalization. Section IV \\nprovides evidence that contrarian strategies work because they exploit expec- \\ntational errors implicit in stock prices. Specifically, the differences in ex- \\npected growth rates between ',\n",
              "   np.float64(0.5505551916519262)),\n",
              "  (' extreme good states. Roughly speaking, value stocks \\ncould be described as having higher up-market betas and lower down-market \\nbetas than glamour stocks with respect to economic conditions. Importantly, \\nwhile the value strategy did disproportionately well in extreme good times, \\nits performance in extreme bad times was also quite impressive. Performance \\nin extreme bad states is often the last refuge of those claiming that a high \\nreturn strategy must be riskier, even when conventional measures of risk \\nsuch as beta and standard deviation do not show it. The evidence indicates \\nsome positive relation between relative performance of the value strategy and \\nmeasures of prosperity, but there are no significant traces of a conventional \\nasset pricing equilibrium in which the higher returns on the value strategy \\nare compensation for higher systematic risk. \\nFinally, for completeness, Table VIII presents some more traditional risk \\nmeasures for portfolios using our classification schemes',\n",
              "   np.float64(0.5471243096230167)),\n",
              "  ('stocks that \\nwill earn them high abnormal returns within a few months, rather than 4 \\npercent per year over the next 5 years. Institutional money managers often \\nhave even shorter time horizons. They often cannot afford to underperform \\nthe index or their peers for any nontrivial period of time, for if they do, their \\nsponsors will withdraw the funds. A value strategy that takes 3 to 5 years to \\npay off but may underperform the market in the meantime (i.e., have a large \\ntracking error) might simply be too risky for money managers from the \\nviewpoint of career concerns, especially if the strategy itself is more difficult \\nto justify to sponsors. If a money manager fears getting fired before a value \\nstrategy pays off, he will avoid using such a strategy. Importantly, while \\ntracking error can explain why a money manager would not want too strong a \\ntilt toward either value or growth, it does not explain why he would not tilt \\nslightly toward value given its apparently superior risk/ret',\n",
              "   np.float64(0.5399478272991303)),\n",
              "  (\" this respect, the motivation behind the contrarian strategies ex- \\nplored in this article is quite different from that for the strategies explored by \\nJegadeesh and Titman (1993), Bernard and Thomas (1989), and Givoly and \\n\\n 1564 \\nThe Journal of Finance \\nLakonishok (1979). The momentum-based strategies of those articles rely on \\nthe market's short-term failure to recognize a trend. In contrast, the superior \\nreturns to value strategies \\ndocumented here seem to be driven by the \\nmarket's unwarranted belief in the continuation of a long-term trend and its \\ngradual abandonment of that belief. \\nIn summary, the evidence in Table V is consistent with the extrapolation \\nmodel. Glamour stocks have historically grown fast in sales, earnings, and \\ncash flow relative to value stocks. According to most of our measures, the \\nmarket expected the superior growth of glamour firms to continue for many \\nyears. In the very short-run, the expectations of continued superior growth of \\nglamour stocks were \",\n",
              "   np.float64(0.5349711579514942))]}"
            ]
          },
          "execution_count": 30,
          "metadata": {},
          "output_type": "execute_result"
        }
      ],
      "source": [
        "my_retrieval_augmented_qa_pipeline.run_pipeline(\"Why are value strategies successful?\")"
      ]
    },
    {
      "cell_type": "code",
      "execution_count": 31,
      "metadata": {},
      "outputs": [],
      "source": [
        "gpt_response = \\\n",
        "    my_retrieval_augmented_qa_pipeline.run_pipeline(\"Why are value strategies successful?\")"
      ]
    },
    {
      "cell_type": "code",
      "execution_count": 32,
      "metadata": {},
      "outputs": [
        {
          "data": {
            "text/markdown": [
              "Value strategies are considered successful for a couple of primary reasons, based on the context provided:\n",
              "\n",
              "1. **Contrarian Behavior**: Value strategies may exploit the mistakes made by naive investors who tend to overreact to stock performance. Investors often become overly excited about stocks that have performed well (glamour stocks), thereby driving their prices up and making them overpriced. Conversely, they may overreact to poorly performing stocks, causing these value stocks to become underpriced. Contrarian investors take advantage of these discrepancies by investing disproportionately in underpriced stocks and underinvesting in overpriced stocks, resulting in superior market performance.\n",
              "\n",
              "2. **Risk Considerations**: An alternative explanation suggested by researchers such as Fama and French is that value strategies involve greater fundamental risk. Investors in value stocks, like those with high book-to-market ratios, may bear higher risk, and thus their higher average returns could simply be a compensation for this risk. However, the analysis presented indicates little evidence supporting the notion that value strategies are fundamentally riskier than glamour strategies.\n",
              "\n",
              "In summary, the success of value strategies can be attributed to their contrarian nature, capitalizing on investor behavioral biases, and potentially higher returns as compensation for increased risk, although the evidence for the latter is inconclusive."
            ],
            "text/plain": [
              "<IPython.core.display.Markdown object>"
            ]
          },
          "metadata": {},
          "output_type": "display_data"
        }
      ],
      "source": [
        "pretty_print(gpt_response['response'])"
      ]
    },
    {
      "cell_type": "code",
      "execution_count": 33,
      "metadata": {},
      "outputs": [
        {
          "data": {
            "text/plain": [
              "{'response': 'An investor can identify value stocks using several characteristics, including:\\n\\n1. **Low Prices Relative to Earnings**: This can be evaluated through low earnings-to-price ratios.\\n  \\n2. **Low Prices Relative to Dividends**: Investors can look for stocks with low dividend yields relative to their price.\\n\\n3. **Low Prices Relative to Historical Prices**: Price comparisons to historical values could indicate undervaluation.\\n\\n4. **High Book-to-Market Ratio**: Stocks with a high ratio of book value to market value are often considered value stocks.\\n\\n5. **High Cash Flow-to-Price Ratio**: A high ratio of cash flow relative to price can also predict higher returns.\\n\\n6. **Out-of-Favor Status**: Value stocks are typically those that have been overlooked or underpriced in the market compared to glamour stocks.\\n\\nThese characteristics are supported by empirical evidence indicating that value strategies have produced superior returns over time.',\n",
              " 'context': [(' \\nsimply equating a good investment with a well-run company irrespective of \\nprice. Regardless of the reason, some investors tend to get overly excited \\nabout stocks that have done very well in the past and buy them up, so that \\nthese \"glamour\" stocks become overpriced. Similarly, they overreact to stocks \\nthat have done very badly, oversell them, and these out-of-favor \"value\" \\nstocks become underpriced. Contrarian investors bet against such naive \\ninvestors. Because contrarian strategies invest disproportionately in stocks \\nthat are underpriced and underinvest in stocks that are overpriced, they \\noutperform the market (see De Bondt and Thaler (1985) and Haugen (1994)). \\nAn alternative explanation of why value strategies have produced superior \\nreturns, argued most forcefully by Fama and French (1992), is that they are \\nfundamentally riskier. That is, investors in value stocks, such as high book- \\nto-market stocks, tend to bear higher fundamental risk of some sort, and \\ntheir higher a',\n",
              "   np.float64(0.6025467976049173)),\n",
              "  ('oth extended and refined these results. \\nFinally, Chan, Hamao, and Lakonishok (1991) show that a high ratio of cash \\nflow to price also predicts higher returns. Interestingly, many of these results \\nhave been obtained for both the United States and Japan. Certain types of \\nvalue strategies, then, appear to have beaten the market. \\nWhile there is some agreement that value strategies have produced supe- \\nrior returns, the interpretation of why they have done so is more controver- \\nsial. Value strategies might produce higher returns because they are contrar- \\nian to \"naive\"1 strategies followed by other investors. These naive strategies \\nmight range from extrapolating past earnings growth too far into the future, \\nto assuming a trend in stock prices, to overreacting to good or bad news, or to \\nsimply equating a good investment with a well-run company irrespective of \\nprice. Regardless of the reason, some investors tend to get overly excited \\nabout stocks that have done very well in the pa',\n",
              "   np.float64(0.5787429481376885)),\n",
              "  ('skier. \\nFOR MANY YEARS, SCHOLARS \\nand investment professionals have argued that \\nvalue strategies \\noutperform the market (Graham and Dodd (1934) and \\nDreman (1977)). These value strategies call for buying stocks that have low \\nprices relative to earnings, dividends, historical prices, book assets, or other \\nmeasures of value. In recent years, value strategies have attracted academic \\nattention as well. Basu (1977), Jaffe, Keim, and Westerfield (1989), Chan, \\nHamao, and Lakonishok (1991), and Fama and French (1992) show that \\nstocks with high earnings/price \\nratios earn higher returns. De Bondt and \\nThaler (1985, 1987) argue that extreme losers outperform the market over \\nthe subsequent several years. Despite considerable criticism (Chan (1988) \\nand Ball and Kothari (1989)), their analysis has generally stood up to the \\ntests (Chopra, Lakonishok, and Ritter (1992)). Rosenberg, Reid, and Lanstein \\n(1984) show that stocks with high book relative to market values of equity \\noutperform the ',\n",
              "   np.float64(0.5620162662195257)),\n",
              "  ('was 21 percent compared to 3 percent for T-bills. \\nIn comparison to the reward-to-risk ratio for stocks vis-a-vis T-bills, the \\nreward-to-risk ratio for investing in value stocks is extremely high. A risk \\nmodel based on differences in standard deviation cannot explain the superior \\nreturns on value stocks. \\nVI. Summary and Interpretation of the Findings \\nThe results in this article establish (in varying degrees of detail) three \\npropositions. First, a variety of investment \\nstrategies that involve buying \\nout-of-favor (value) stocks have outperformed glamour strategies over the \\nApril 1968 to April 1990 period. Second, a likely reason that these value \\nstrategies have worked so well relative to the glamour strategies is the fact \\nthat the actual future growth rates of earnings, cash flow, etc. of glamour \\nstocks relative to value stocks turned out to be much lower than they were in \\nthe past, or as the multiples on those stocks indicate the market expected \\nthem to be. That is, market',\n",
              "   np.float64(0.5465075291389418)),\n",
              "  ('ssification schemes for glamour and value \\nstocks based on the book-to-market ratio, the cash flow-to-price ratio, the \\nearnings-to-price ratio, and past growth in sales. Section II shows that all of \\nthese simple value strategies have produced superior returns and motivates \\nour subsequent use of combinations of measures of past and expected growth. \\nSection III then examines \\nthe performance of value strategies \\nthat are \\ndefined using both past growth and current multiples. These two-dimensional \\nvalue strategies outperform glamour strategies by approximately 10 to 11 \\npercent per year. Moreover, the superior performance of value stocks relative \\nto glamour stocks persists when we restrict our attention to the largest 50 \\npercent or largest 20 percent of stocks by market capitalization. Section IV \\nprovides evidence that contrarian strategies work because they exploit expec- \\ntational errors implicit in stock prices. Specifically, the differences in ex- \\npected growth rates between ',\n",
              "   np.float64(0.5462312575134738)),\n",
              "  ('from these biases. \\n\\n Contrarian Investment, Extrapolation, and Risk \\n1577 \\nAre the anomalous excess returns on value stocks likely to persist? It is \\npossible that over time more investors will become convinced of the value of \\nbeing a contrarian with a long horizon and the returns to value strategies \\nwill fall. Perhaps the recent move into disciplined quantitative investment \\nstrategies, evaluated based only on performance and not on individual stock \\npicks, will increase the demand for value stocks and reduce the agency \\nproblems that result in picking glamour stocks. Such sea changes rarely occur \\novernight, however. The time-series and cross-country evidence support the \\nidea that the behavioral and institutional \\nfactors underlying the higher \\nreturns to value stocks have been pervasive and enduring features of equity \\nmarkets. \\nPerhaps the most interesting implication of the conjecture that institu- \\ntional investors gravitate toward glamour stocks is that this may explain \\nthe',\n",
              "   np.float64(0.5400770912610108)),\n",
              "  ('del. \\nIn this model, out-of-favor (or value) stocks have been underpriced relative to \\ntheir risk and return characteristics, \\nand investing \\nin them has indeed \\nearned abnormal returns. \\nThis conclusion raises the obvious question: how can the 10 to 11 percent \\nper year in extra returns on value stocks over glamour stocks have persisted \\nfor so long? One possible explanation is that investors simply did not know \\nabout them. This explanation has some plausibility \\nin that quantitative \\n\\n Contrarian Investment, Extrapolation, and Risk \\n1575 \\nportfolio selection and evaluation are relatively recent activities. Most in- \\nvestors might not have been able, until recently, to perform the analysis done \\nin this article. Of course, advocacy of value strategies is decades old, going \\nback at least to Graham and Dodd (1934). But such advocacy is usually not \\naccompanied by defensible statistical work and hence might not be entirely \\npersuasive, especially since many other strategies are advocat',\n",
              "   np.float64(0.5399824931040569)),\n",
              "  ('turns anomaly. \\nIndividual investors might focus on glamour strategies for a variety of \\nreasons. First, they may make judgment errors and extrapolate past growth \\nrates of glamour stocks, such as Walmart or Microsoft, even when such \\ngrowth rates are highly unlikely to persist in the future. Putting excessive \\nweight on recent past history, as opposed to a rational prior, is a common \\njudgment error in psychological experiments and not just in the stock market. \\nAlternatively, individuals might just equate well-run firms with good invest- \\nments, regardless of price. After all, how can you lose money on Microsoft or \\nWalmart? Indeed, brokers typically \\nrecommend \\n\"good\" companies \\nwith \\n\"steady\" earnings and dividend growth. \\n\\n 1576 \\nThe Journal of Finance \\nPresumably, institutional \\ninvestors should be somewhat more free from \\njudgment biases and excitement about \"good companies\" than individuals, \\nand so should flock to value strategies.\"8 But institutional investors may have \\nreaso',\n",
              "   np.float64(0.5373206250026548)),\n",
              "  (' extreme good states. Roughly speaking, value stocks \\ncould be described as having higher up-market betas and lower down-market \\nbetas than glamour stocks with respect to economic conditions. Importantly, \\nwhile the value strategy did disproportionately well in extreme good times, \\nits performance in extreme bad times was also quite impressive. Performance \\nin extreme bad states is often the last refuge of those claiming that a high \\nreturn strategy must be riskier, even when conventional measures of risk \\nsuch as beta and standard deviation do not show it. The evidence indicates \\nsome positive relation between relative performance of the value strategy and \\nmeasures of prosperity, but there are no significant traces of a conventional \\nasset pricing equilibrium in which the higher returns on the value strategy \\nare compensation for higher systematic risk. \\nFinally, for completeness, Table VIII presents some more traditional risk \\nmeasures for portfolios using our classification schemes',\n",
              "   np.float64(0.536876967223216)),\n",
              "  ('(and inferior) \\nperformance of value strategies, as well as at their performance in bad states \\nof the world, such as extreme down markets and economic recessions. We also \\nlook at the betas and standard deviations of value and glamour strategies. \\nWe find little, if any, support for the view that value strategies are funda- \\nmentally riskier. \\nOur results raise the obvious question of how the higher expected returns \\non value strategies could have continued if such strategies are not fundamen- \\ntally riskier? We present some possible explanations that rely both on behav- \\nioral strategies \\nfavored by individual investors and on agency problems \\nplaguing institutional investors. \\nThe next section of the article briefly discusses our methodology. Section II \\nexamines a variety of simple classification schemes for glamour and value \\nstocks based on the book-to-market ratio, the cash flow-to-price ratio, the \\nearnings-to-price ratio, and past growth in sales. Section II shows that all of ',\n",
              "   np.float64(0.5256174242528165))]}"
            ]
          },
          "execution_count": 33,
          "metadata": {},
          "output_type": "execute_result"
        }
      ],
      "source": [
        "my_retrieval_augmented_qa_pipeline.run_pipeline(\"What characteristics can an investor use to identify value stocks?\")"
      ]
    },
    {
      "cell_type": "code",
      "execution_count": 34,
      "metadata": {},
      "outputs": [],
      "source": [
        "gpt_response = \\\n",
        "    my_retrieval_augmented_qa_pipeline.run_pipeline(\"What characteristics can an investor use to identify value stocks?\")"
      ]
    },
    {
      "cell_type": "code",
      "execution_count": 35,
      "metadata": {},
      "outputs": [
        {
          "data": {
            "text/markdown": [
              "Investors can identify value stocks using several characteristics, including:\n",
              "\n",
              "1. **Low Prices Relative to Earnings**: Investing in stocks with low price-to-earnings (P/E) ratios.\n",
              "\n",
              "2. **Large Book-to-Market Ratios**: Stocks with high book values relative to their market prices tend to be categorized as value stocks.\n",
              "\n",
              "3. **High Cash Flow-to-Price Ratios**: A high ratio of cash flow to price can predict higher returns.\n",
              "\n",
              "4. **Low Prices Relative to Other Measures of Value**: This includes low prices relative to dividends, historical prices, or other value metrics.\n",
              "\n",
              "5. **Out-of-Favor Status**: Identifying stocks that have underperformed in the market and are currently out of favor can also signal value opportunities.\n",
              "\n",
              "These characteristics help investors differentiate value stocks from glamour stocks, which are often priced based on the expectation of future growth that may not materialize."
            ],
            "text/plain": [
              "<IPython.core.display.Markdown object>"
            ]
          },
          "metadata": {},
          "output_type": "display_data"
        }
      ],
      "source": [
        "pretty_print(gpt_response['response'])"
      ]
    },
    {
      "cell_type": "code",
      "execution_count": 36,
      "metadata": {},
      "outputs": [
        {
          "data": {
            "text/plain": [
              "{'response': 'The cumulative return to value stocks outperformed glamour stocks by 90 percent over Years 1 through 5 after formation.',\n",
              " 'context': [(' Table I, we present the returns for Years 1 through 5 after \\nthe formation (R1 through R5), the average annual 5-year return (AR), the \\ncumulative 5-year return (CR5), and the size-adjusted average annual 5-year \\nreturn (SAAR). The numbers presented are -the averages across all formation \\nperiods in the sample. The results confirm and extend the results established \\nby Rosenberg, Reid, and Lanstein (1984), Chan, Hamao, and Lakonishok \\n(1991), and Fama and French (1992). On average over the postformation \\nyears, the low B/M (glamour) stocks have an average annual return of 9.3 \\npercent and the high B/M (value) stocks have an average annual return of \\n19.8 percent, for a difference of 10.5 percent per year. If portfolios are held \\nwith the limited rebalancing described above, then cumulatively value stocks \\noutperform glamour stocks by 90 percent over Years 1 through 5. Adjusting \\nfor size reduces the estimated return differences between value and glamour \\nstocks somewhat, but the diffe',\n",
              "   np.float64(0.5636539584183704)),\n",
              "  (' \\nI \\nI \\nI \\nI \\nI \\nI \\nI \\nI \\nI \\nI \\nI \\nI \\ni \\nl \\nl \\nl \\nl \\nl \\nl \\nl \\n68 \\n69 \\n70 \\n71 \\n72 \\n73 \\n74 \\n75 \\n76 \\n77 \\n78 \\n79 \\n80 \\n81 \\n82 \\n83 \\n84 \\n85 \\n86 \\n87 \\n88 \\n89 \\nYear \\nFigure 2. Year-by-year returns: Value minus glamour. At the end of each April between \\n1968 and 1989, 9 groups of stocks are formed. \\nThe stocks are independently sorted in ascending \\norder \\ninto 3 groups \\n((1) bottom \\n30 percent, (2) middle 40 percent, and (3) top 30 percent) \\nbased on \\neach of two variables: cash-flow-to-price \\n(C/P) and growth-in-sales (GS). The value portfolio \\nconsists of those stocks in the highest C/P groups and the lowest GS group. The glamour \\nportfolio consists of those stocks in the lowest C/P group and the highest GS group. The \\nnumbers presented are annual buy-and-hold \\nreturns for the value portfolio \\nminus returns for the \\nglamour portfolio. \\nAnnual buy-and-hold \\nreturns are calculated beginning at the end of April for \\nthe given year. R indicates NBER recession years, and D indicates years in which t',\n",
              "   np.float64(0.5397672819377473)),\n",
              "  ('ios of C/P but high \\nB/M \\nratios. Most likely, the B/M \\nratio adds information here because it \\nproxies for past growth, which is useful in conjunction with a measure of \\nexpected future growth. \\nThe results of this subsection can be summarized \\nand interpreted as \\nfollows. First, two-dimensional value strategies, in which firms are indepen- \\ndently classified into 3 subgroups according to each of two fundamental \\nvariables, produce returns on the order of 10 to 11 percent per year higher \\nthan those on similarly constructed glamour strategies over the April 1968 to \\nApril 1990 period. Second, the results suggest that value strategies based \\njointly on past performance and expected future performance produce higher \\nreturns than more ad hoc strategies such as that based exclusively on the \\nB/M ratio. \\nB. Do These Results Apply As Well to Large Stocks? \\nEven though we have shown that the superior returns to value strategies \\npersist even after adjusting for size, the returns on such str',\n",
              "   np.float64(0.5392442719227996)),\n",
              "  ('\\njusted returns is virtually the same for value and glamour portfolios. But the \\nresults in Table III suggest that, by focusing on larger value stocks, investors \\ncould still get most of the extra return from value stocks without this higher \\nstandard deviation. The extra return on a portfolio of large value stocks \\ncannot therefore be explained by appealing to its higher standard deviation. \\nFinally, the difference in standard deviation of returns between value and \\nglamour portfolios (24.1 versus 21.6 percent per year) is quite small in \\ncomparison to the difference in average return (10 percent per year). For \\nexample, over the 1926 to 1988 period the extra return on the S & P 500 over \\nT-bills was approximately 8 percent per year, while the average standard \\ndeviation on the S & P 500 was 21 percent compared to 3 percent for T-bills. \\nIn comparison to the reward-to-risk ratio for stocks vis-a-vis T-bills, the \\nreward-to-risk ratio for investing in value stocks is extremely high. A ',\n",
              "   np.float64(0.5381785257850167)),\n",
              "  ('del. \\nIn this model, out-of-favor (or value) stocks have been underpriced relative to \\ntheir risk and return characteristics, \\nand investing \\nin them has indeed \\nearned abnormal returns. \\nThis conclusion raises the obvious question: how can the 10 to 11 percent \\nper year in extra returns on value stocks over glamour stocks have persisted \\nfor so long? One possible explanation is that investors simply did not know \\nabout them. This explanation has some plausibility \\nin that quantitative \\n\\n Contrarian Investment, Extrapolation, and Risk \\n1575 \\nportfolio selection and evaluation are relatively recent activities. Most in- \\nvestors might not have been able, until recently, to perform the analysis done \\nin this article. Of course, advocacy of value strategies is decades old, going \\nback at least to Graham and Dodd (1934). But such advocacy is usually not \\naccompanied by defensible statistical work and hence might not be entirely \\npersuasive, especially since many other strategies are advocat',\n",
              "   np.float64(0.5334738924704439)),\n",
              "  ('oth extended and refined these results. \\nFinally, Chan, Hamao, and Lakonishok (1991) show that a high ratio of cash \\nflow to price also predicts higher returns. Interestingly, many of these results \\nhave been obtained for both the United States and Japan. Certain types of \\nvalue strategies, then, appear to have beaten the market. \\nWhile there is some agreement that value strategies have produced supe- \\nrior returns, the interpretation of why they have done so is more controver- \\nsial. Value strategies might produce higher returns because they are contrar- \\nian to \"naive\"1 strategies followed by other investors. These naive strategies \\nmight range from extrapolating past earnings growth too far into the future, \\nto assuming a trend in stock prices, to overreacting to good or bad news, or to \\nsimply equating a good investment with a well-run company irrespective of \\nprice. Regardless of the reason, some investors tend to get overly excited \\nabout stocks that have done very well in the pa',\n",
              "   np.float64(0.5319323850198509)),\n",
              "  (' on the \\nassumption that dividends are proportional to cash flow. A similar formula \\n\\n 1548 \\nThe Journal of Finance \\nTable I \\nReturns for Decile Portfolios \\nBased on One-Dimensional \\nClassifications \\nby Various Measures \\nof Value \\nAt the end of each April between 1968 and 1989, 10-decile portfolios are formed in ascending \\norder based on B/M, C/P, E/P, \\nand GS. B/M is the ratio of book value of equity to market \\nvalue of equity; C/P is the ratio of cash flow to market value of equity; E/P \\nis the ratio of \\nearnings to market value of equity, and GS refers to preformation 5-year average growth rate of \\nsales. The returns presented in the table are averages over all formation periods. Rt is the \\naverage return in year t after formation, t = 1. \\n5. AR is the average annual return over 5 \\npostformation years. CR5 is the compounded 5-year return assuming annual rebalancing. SAAR \\nis the average annual size-adjusted return computed over 5 postformation years. The glamour \\nportfolio refers to',\n",
              "   np.float64(0.5316516196924093)),\n",
              "  ('s returns for the \\nglamour portfolio. \\nAnnual buy-and-hold \\nreturns are calculated beginning at the end of April for \\nthe given year. R indicates NBER recession years, and D indicates years in which the CRSP \\nequally weighted index declined in nominal terms. \\nperiod. We consider differences in cumulative returns between deciles (9, 10) \\nand (1, 2) for C/P \\nand B/M, \\nand between groups (3, 1) and (1, 3) for \\n(C/P, GS) over 1-, 3-, and 5-year holding horizons starting each year in the \\nsample (1968, 1969, etc.). The arithmetic mean across years for each horizon \\nis reported at the bottom of each column along with t-statistics for the test of \\nthe hypothesis that the difference in returns between value and glamour \\nportfolios is equal to zero. Standard errors for t-tests involving overlapping 3- \\nand 5-year horizons are computed using the method of Hansen-Hodrick \\n(1980), assuming annual MA(2) and MA(4) processes, respectively. \\nThe results show that value strategies \\nhave consistently \\no',\n",
              "   np.float64(0.5236810880579733)),\n",
              "  ('was 21 percent compared to 3 percent for T-bills. \\nIn comparison to the reward-to-risk ratio for stocks vis-a-vis T-bills, the \\nreward-to-risk ratio for investing in value stocks is extremely high. A risk \\nmodel based on differences in standard deviation cannot explain the superior \\nreturns on value stocks. \\nVI. Summary and Interpretation of the Findings \\nThe results in this article establish (in varying degrees of detail) three \\npropositions. First, a variety of investment \\nstrategies that involve buying \\nout-of-favor (value) stocks have outperformed glamour strategies over the \\nApril 1968 to April 1990 period. Second, a likely reason that these value \\nstrategies have worked so well relative to the glamour strategies is the fact \\nthat the actual future growth rates of earnings, cash flow, etc. of glamour \\nstocks relative to value stocks turned out to be much lower than they were in \\nthe past, or as the multiples on those stocks indicate the market expected \\nthem to be. That is, market',\n",
              "   np.float64(0.5231928794258918)),\n",
              "  (\"e 2 present the year-by-year performance of the value \\nstrategy relative to the glamour strategy over the April 1968 to April 1990 \\n\\n Contrarian Investment, Extrapolation, and Risk \\n1565 \\nTable VI \\nYear-by-Year \\nReturns: Value-Glamour \\nPanel 1: At the end of each April between 1968 and 1989, 10-decile portfolios are formed based \\non the ratio of previous-year's cash flow to end-of-April market-value of equity (C/P). For each \\nportfolio, 1-, 3-, and 5-year holding-period returns are computed. For each formation period, \\nPanel 1 reports the difference in the 1-, 3-, and 5-year return between the 2 highest C/P (value) \\nand 2 lowest C/P (glamour) portfolios. \\nPanel 2: At the end of each April between 1968 and 1989, 9 groups of stocks are formed as \\nfollows. All stocks are independently sorted into 3 groups ((1) bottom 30 percent, (2) middle 40 \\npercent, and (3) top 30 percent) by the ratio of previous-year's \\ncash flow to end-of-April \\nmarket-value of equity (C/P) \\nand by the preformation \",\n",
              "   np.float64(0.5220056090224418))]}"
            ]
          },
          "execution_count": 36,
          "metadata": {},
          "output_type": "execute_result"
        }
      ],
      "source": [
        "my_retrieval_augmented_qa_pipeline.run_pipeline(\"What is the cumulative return to value over the past several decades?\")"
      ]
    },
    {
      "cell_type": "code",
      "execution_count": 37,
      "metadata": {},
      "outputs": [],
      "source": [
        "gpt_response = \\\n",
        "    my_retrieval_augmented_qa_pipeline.run_pipeline(\"What is the cumulative return to value over the past several decades?\")"
      ]
    },
    {
      "cell_type": "code",
      "execution_count": 38,
      "metadata": {},
      "outputs": [
        {
          "data": {
            "text/markdown": [
              "The cumulative return to value stocks over the Years 1 through 5 is 90 percent, as value stocks outperform glamour stocks during this period."
            ],
            "text/plain": [
              "<IPython.core.display.Markdown object>"
            ]
          },
          "metadata": {},
          "output_type": "display_data"
        }
      ],
      "source": [
        "pretty_print(gpt_response['response'])"
      ]
    },
    {
      "cell_type": "markdown",
      "metadata": {},
      "source": [
        "### RAG on Multiple PDF Documents"
      ]
    },
    {
      "cell_type": "markdown",
      "metadata": {},
      "source": [
        "#### Load pdf documents, convert each to text, chunk the texts, add metadata as a string and build vector database"
      ]
    },
    {
      "cell_type": "code",
      "execution_count": 39,
      "metadata": {},
      "outputs": [],
      "source": [
        "chunk_prefix = 'Warren Buffett letter in year {year} '"
      ]
    },
    {
      "cell_type": "code",
      "execution_count": 40,
      "metadata": {},
      "outputs": [],
      "source": [
        "list_of_years = [\n",
        "    '2022',\n",
        "    '2023'\n",
        "]\n",
        "\n",
        "list_of_pdfs = ['data/' + x + 'ltr.pdf' for x in list_of_years]\n",
        "\n",
        "chunk_size = 1000\n",
        "chunk_overlap = 200"
      ]
    },
    {
      "cell_type": "code",
      "execution_count": 41,
      "metadata": {},
      "outputs": [
        {
          "name": "stdout",
          "output_type": "stream",
          "text": [
            "completed chunking for year 2022 doc: it has 39 chunks\n",
            "completed chunking for year 2023 doc: it has 64 chunks\n",
            "completed chunking for all docs across all years: final corpus has 103 chunks \n"
          ]
        }
      ],
      "source": [
        "all_chunks = []\n",
        "\n",
        "for year in list_of_years:\n",
        "    pdffile = './data/' + year + 'ltr.pdf'\n",
        "    textfrompdf = TextFromPyMuPdf(list_of_pdf_docs=[pdffile])\n",
        "    list_of_documents = textfrompdf.process_all_pdfs()[0]\n",
        "    text_splitter = CharacterTextSplitter(chunk_size=chunk_size, chunk_overlap=chunk_overlap)\n",
        "    split_documents = text_splitter.split_texts(list_of_documents)\n",
        "    split_documents = [chunk_prefix.format(year=year) + ' ' + x for x in split_documents]\n",
        "    print(f'completed chunking for year {year} doc: it has {len(split_documents)} chunks')\n",
        "    all_chunks.extend(split_documents)\n",
        "print(f'completed chunking for all docs across all years: final corpus has {len(all_chunks)} chunks ')"
      ]
    },
    {
      "cell_type": "code",
      "execution_count": 42,
      "metadata": {},
      "outputs": [],
      "source": [
        "my_vector_db = VectorDatabase()\n",
        "my_vector_db = asyncio.run(my_vector_db.abuild_from_list(all_chunks))"
      ]
    },
    {
      "cell_type": "markdown",
      "metadata": {},
      "source": [
        "#### Results from sample query to vector db"
      ]
    },
    {
      "cell_type": "code",
      "execution_count": 43,
      "metadata": {},
      "outputs": [
        {
          "data": {
            "text/plain": [
              "[('Warren Buffett letter in year 2023  \\n Charlie Munger – The Architect of Berkshire Hathaway  \\nCharlie Munger died on November 28, just 33 days before his 100th birthday. \\nThough born and raised in Omaha, he spent 80% of his life domiciled \\nelsewhere. Consequently, it was not until 1959 when he was 35 that I first met him. \\nIn 1962, he decided that he should take up money management. \\nThree years later he told me – correctly! – that I had made a dumb decision in \\nbuying control of Berkshire. But, he assured me, since I had already made the move, \\nhe would tell me how to correct my mistake. \\nIn what I next relate, bear in mind that Charlie and his family did not have a \\ndime invested in the small investing partnership that I was then managing and whose \\nmoney I had used for the Berkshire purchase. Moreover, neither of us expected that \\nCharlie would ever own a share of Berkshire stock. \\nNevertheless, Charlie, in 1965, promptly advised me: “Warren, forget about \\never buying another company like Berkshire. But now that you co',\n",
              "  np.float64(0.6902684664580093)),\n",
              " ('Warren Buffett letter in year 2023  ed that \\nCharlie would ever own a share of Berkshire stock. \\nNevertheless, Charlie, in 1965, promptly advised me: “Warren, forget about \\never buying another company like Berkshire. But now that you control Berkshire, add \\nto it wonderful businesses purchased at fair prices and give up buying fair businesses \\nat wonderful prices. In other words, abandon everything you learned from your hero, \\nBen Graham. It works but only when practiced at small scale.” With much back-sliding \\nI subsequently followed his instructions. \\nMany years later, Charlie became my partner in running Berkshire and, \\nrepeatedly, jerked me back to sanity when my old habits surfaced. Until his death, he \\ncontinued in this role and together we, along with those who early on invested with \\nus, ended up far better off than Charlie and I had ever dreamed possible. \\nIn reality, Charlie was the “architect” of the present Berkshire, and I acted as \\nthe “general contractor” to carry out the day-by-day construction of his vis',\n",
              "  np.float64(0.6222751457481138)),\n",
              " ('Warren Buffett letter in year 2022  ind and, though it has been becalmed from time to time, its propelling force has always\\nreturned.\\nI have been investing for 80 years – more than one-third of our country’s lifetime. Despite\\nour citizens’ penchant – almost enthusiasm – for self-criticism and self-doubt, I have yet to see a\\ntime when it made sense to make a long-term bet against America. And I doubt very much that\\nany reader of this letter will have a different experience in the future.\\nNothing Beats Having a Great Partner\\nCharlie and I think pretty much alike. But what it takes me a page to explain, he sums up\\nin a sentence. His version, moreover, is always more clearly reasoned and also more\\nartfully – some might add bluntly – stated.\\nHere are a few of his thoughts, many lifted from a very recent podcast:\\n• The world is full of foolish gamblers, and they will not do as well as the patient investor.\\n• If you don’t see the world the way it is, it’s like judging something through a distorted lens.\\n• All I want to know is ',\n",
              "  np.float64(0.599997663615292)),\n",
              " ('Warren Buffett letter in year 2022  en and I hated railroad stocks for decades, but the world changed and finally the\\ncountry had four huge railroads of vital importance to the American economy. We were\\nslow to recognize the change, but better late than never.\\n• Finally, I will add two short sentences by Charlie that have been his decision-clinchers for\\ndecades: “Warren, think more about it. You’re smart and I’m right.”\\nAnd so it goes. I never have a phone call with Charlie without learning something. And,\\nwhile he makes me think, he also makes me laugh.\\n* * * * * * * * * * * *\\nI will add to Charlie’s list a rule of my own: Find a very smart high-grade\\npartner – preferably slightly older than you – and then listen very carefully to what he says.\\nA Family Gathering in Omaha\\nCharlie and I are shameless. Last year, at our first shareholder get-together in three years,\\nwe greeted you with our usual commercial hustle.\\nFrom the opening bell, we went straight for your wallet. In short order, our See’s kiosk\\nsold you eleven tons',\n",
              "  np.float64(0.5864013657493197)),\n",
              " ('Warren Buffett letter in year 2022  e investments, we have no say in management.\\n3\\n\\n Our goal in both forms of ownership is to make meaningful investments in businesses with\\nboth long-lasting favorable economic characteristics and trustworthy managers. Please note\\nparticularly that we own publicly-traded stocks based on our expectations about their long-term\\nbusiness performance, not because we view them as vehicles for adroit purchases and sales. That\\npoint is crucial: Charlie and I are not stock-pickers; we are business-pickers.\\nOver the years, I have made many mistakes. Consequently, our extensive collection of\\nbusinesses currently consists of a few enterprises that have truly extraordinary economics, many\\nthat enjoy very good economic characteristics, and a large group that are marginal. Along the way,\\nother businesses in which I have invested have died, their products unwanted by the public.\\nCapitalism has two sides: The system creates an ever-growing pile of losers while concurrently\\ndelivering a gusher of improved',\n",
              "  np.float64(0.5797274826179911)),\n",
              " ('Warren Buffett letter in year 2023  t, wise and likes to challenge my thinking. We have never, \\nhowever, had a shouting match or anything close to a ruptured relationship. We never will. \\nFurthermore, Bertie, and her three daughters as well, have a large portion of their savings \\nin Berkshire shares. Their ownership spans decades, and every year Bertie will read what I have \\nto say. My job is to anticipate her questions and give her honest answers. \\n3 \\n\\n Bertie, like most of you, understands many accounting terms, but she is not ready for a \\nCPA exam. She follows business news – reading four newspapers daily – but doesn’t consider \\nherself an economic expert. She is sensible – very sensible – instinctively knowing that pundits \\nshould always be ignored. After all, if she could reliably predict tomorrow’s winners, would she \\nfreely share her valuable insights and thereby increase competitive buying? That would be like \\nfinding gold and then handing a map to the neighbors showing its location. \\nBertie understands the power',\n",
              "  np.float64(0.5755727668960807)),\n",
              " ('Warren Buffett letter in year 2022  ng after you are not; a mediocre company won’t do that.\\n• Warren and I don’t focus on the froth of the market. We seek out good long-term\\ninvestments and stubbornly hold them for a long time.\\n• Ben Graham said, “Day to day, the stock market is a voting machine; in the long term it’s\\na weighing machine.” If you keep making something more valuable, then some wise person\\nis going to notice it and start buying.\\n• There is no such thing as a 100% sure thing when investing. Thus, the use of leverage is\\ndangerous. A string of wonderful numbers times zero will always equal zero. Don’t count\\non getting rich twice.\\n• You don’t, however, need to own a lot of things in order to get rich.\\n• You have to keep learning if you want to become a great investor. When the world changes,\\nyou must change.\\n• Warren and I hated railroad stocks for decades, but the world changed and finally the\\ncountry had four huge railroads of vital importance to the American economy. We were\\nslow to recognize the change, but',\n",
              "  np.float64(0.5651222271204597)),\n",
              " ('Warren Buffett letter in year 2023   to make, however, and Berkshire has had its share \\nof disappointments. \\n5 \\n\\n In 1863, Hugh McCulloch, the first Comptroller of the United States, sent a letter to all \\nnational banks. His instructions included this warning: “Never deal with a rascal under the \\nexpectation that you can prevent him from cheating you.” Many bankers who thought they could \\n“manage” the rascal problem have learned the wisdom of Mr. McCulloch’s advice – and I have as \\nwell. People are not that easy to read. Sincerity and empathy can easily be faked. That is as true \\nnow as it was in 1863. \\nThis combination of the two necessities I’ve described for acquiring businesses has for \\nlong been our goal in purchases and, for a while, we had an abundance of candidates to evaluate. \\nIf I missed one – and I missed plenty – another always came along. \\nThose days are long behind us; size did us in, though increased competition for purchases \\nwas also a factor. \\nBerkshire now has – by far – the largest GAAP net worth rec',\n",
              "  np.float64(0.5633110465494786)),\n",
              " ('Warren Buffett letter in year 2022  . . . . . . . . . . . . .\\n19.8%\\n9.9%\\nOverall Gain – 1964-2022 . . . . . . . . . . . . . . . . . . . . . . . . . . . . . . . . . . . . . . . . . . . . . . . . . . . . . . . .\\n3,787,464%\\n24,708%\\nNote: Data are for calendar years with these exceptions: 1965 and 1966, year ended 9/30; 1967, 15 months ended 12/31.\\n2\\n\\n BERKSHIRE HATHAWAY INC.\\nTo the Shareholders of Berkshire Hathaway Inc.:\\nCharlie Munger, my long-time partner, and I have the job of managing the savings of a\\ngreat number of individuals. We are grateful for their enduring trust, a relationship that often spans\\nmuch of their adult lifetime. It is those dedicated savers that are forefront in my mind as I write\\nthis letter.\\nA common belief is that people choose to save when young, expecting thereby to maintain\\ntheir living standards after retirement. Any assets that remain at death, this theory says, will usually\\nbe left to their families or, possibly, to friends and philanthropy.\\nOur experience has differed. We believe Berkshire',\n",
              "  np.float64(0.5575810419831392)),\n",
              " ('Warren Buffett letter in year 2023  uge winners have emerged from a great \\nmany dozens of decisions. And we now have a small cadre of long-time managers who never muse \\nabout going elsewhere and who regard 65 as just another birthday. \\n* * * * * * * * * * * * \\nBerkshire benefits from an unusual constancy and clarity of purpose. While we emphasize \\ntreating our employees, communities and suppliers well – who wouldn’t wish to do so? – our \\nallegiance will always be to our country and our shareholders. We never forget that, though your \\nmoney is comingled with ours, it does not belong to us. \\n6 \\n\\n With that focus, and with our present mix of businesses, Berkshire should do a bit better \\nthan the average American corporation and, more important, should also operate with materially \\nless risk of permanent loss of capital. Anything beyond “slightly better,” though, is wishful \\nthinking. This modest aspiration wasn’t the case when Bertie went all-in on Berkshire – but it \\nis now. \\nOur Not-So-Secret Weapon \\nOccasionally, markets',\n",
              "  np.float64(0.555115370366161))]"
            ]
          },
          "execution_count": 43,
          "metadata": {},
          "output_type": "execute_result"
        }
      ],
      "source": [
        "my_vector_db.search_by_text(\"What does Warren Buffett say about Charlie Munger?\", k=10)"
      ]
    },
    {
      "cell_type": "markdown",
      "metadata": {},
      "source": [
        "#### System Role Prompt"
      ]
    },
    {
      "cell_type": "code",
      "execution_count": 44,
      "metadata": {},
      "outputs": [],
      "source": [
        "RAG_PROMPT_TEMPLATE_TAIL = \"\"\"\\\n",
        "{doc_specific_prompt}\n",
        "\n",
        "Use ONLY the provided context to answer the user's query.\n",
        "\n",
        "You may not answer the user's query unless there is specific context in the following text.\n",
        "\n",
        "If you do not know the answer, or cannot answer, please respond with \"I don't know\".\n",
        "\"\"\""
      ]
    },
    {
      "cell_type": "code",
      "execution_count": 45,
      "metadata": {},
      "outputs": [],
      "source": [
        "bh_doc_specific_prompt = \"\"\"\n",
        "You are an expert in understanding letters written by CEOs of major financial corporations to their shareholders.\n",
        "These letters cover a lot of ground about the high-level activities of the company, the economic and other challenges faced by the company during that year and potential opportunities for growth in the future, etc.\n",
        "\n",
        "You will be provided with a set of annual letters written by Warren Buffett to \n",
        "the shareholders of Berkshire Hathaway.  The questions will relate to his commentary in these letters.\n",
        "\n",
        "Take your time and think through the question step-by-step and provide your response to the question.\n",
        "\n",
        "\"\"\""
      ]
    },
    {
      "cell_type": "code",
      "execution_count": 46,
      "metadata": {},
      "outputs": [],
      "source": [
        "BH_RAG_PROMPT_TEMPLATE = RAG_PROMPT_TEMPLATE_TAIL.format(doc_specific_prompt=bh_doc_specific_prompt)\n",
        "bh_rag_prompt = SystemRolePrompt(BH_RAG_PROMPT_TEMPLATE)\n"
      ]
    },
    {
      "cell_type": "markdown",
      "metadata": {},
      "source": [
        "#### User Role Prompt"
      ]
    },
    {
      "cell_type": "code",
      "execution_count": 47,
      "metadata": {},
      "outputs": [],
      "source": [
        "USER_PROMPT_TEMPLATE = \"\"\" \\\n",
        "Context:\n",
        "{context}\n",
        "\n",
        "User Query:\n",
        "{user_query}\n",
        "\"\"\"\n",
        "\n",
        "bh_user_prompt = UserRolePrompt(USER_PROMPT_TEMPLATE)"
      ]
    },
    {
      "cell_type": "code",
      "execution_count": 48,
      "metadata": {},
      "outputs": [],
      "source": [
        "class NewRetrievalAugmentedQAPipeline:\n",
        "    def __init__(self, llm: ChatOpenAI(), vector_db_retriever: VectorDatabase) -> None:\n",
        "        self.llm = llm\n",
        "        self.vector_db_retriever = vector_db_retriever\n",
        "\n",
        "    def run_pipeline(self, user_query: str) -> str:\n",
        "        context_list = self.vector_db_retriever.search_by_text(user_query, k=10)\n",
        "\n",
        "        context_prompt = \"\"\n",
        "        for context in context_list:\n",
        "            context_prompt += context[0] + \"\\n\"\n",
        "\n",
        "        formatted_system_prompt = bh_rag_prompt.create_message()\n",
        "\n",
        "        formatted_user_prompt = bh_user_prompt.create_message(user_query=user_query, context=context_prompt)\n",
        "\n",
        "        return {\"response\" : self.llm.run([formatted_system_prompt, formatted_user_prompt]), \"context\" : context_list}"
      ]
    },
    {
      "cell_type": "code",
      "execution_count": 49,
      "metadata": {},
      "outputs": [],
      "source": [
        "my_retrieval_augmented_qa_pipeline = NewRetrievalAugmentedQAPipeline(\n",
        "    vector_db_retriever=my_vector_db,\n",
        "    llm=chat_openai\n",
        ")"
      ]
    },
    {
      "cell_type": "code",
      "execution_count": 50,
      "metadata": {},
      "outputs": [
        {
          "data": {
            "text/plain": [
              "{'response': 'Warren Buffett shares a heartfelt tribute to Charlie Munger, highlighting his significant impact on Berkshire Hathaway and their partnership. He describes Munger as the \"architect\" of the present Berkshire, while he himself acted as the \"general contractor\" to carry out Munger\\'s vision. Buffett recounts their first meeting in 1959 and how Munger advised him against buying another company like Berkshire, encouraging him instead to focus on acquiring wonderful businesses at fair prices.\\n\\nBuffett acknowledges Munger\\'s sharp intellect and clarity in reasoning, noting that he often delivers insights more succinctly and artfully than Buffett himself can. Throughout their long partnership, Munger has helped Buffett stay grounded and return to rational thinking when Buffett\\'s old habits resurged. Buffett appreciates Munger\\'s straightforwardness and the way he challenges his thinking, describing their relationship as one without conflicts and characterized by mutual respect and learning.\\n\\nIn summary, Buffett portrays Munger as a wise and essential partner, whose contributions have been instrumental in the success of Berkshire Hathaway.',\n",
              " 'context': [('Warren Buffett letter in year 2023  \\n Charlie Munger – The Architect of Berkshire Hathaway  \\nCharlie Munger died on November 28, just 33 days before his 100th birthday. \\nThough born and raised in Omaha, he spent 80% of his life domiciled \\nelsewhere. Consequently, it was not until 1959 when he was 35 that I first met him. \\nIn 1962, he decided that he should take up money management. \\nThree years later he told me – correctly! – that I had made a dumb decision in \\nbuying control of Berkshire. But, he assured me, since I had already made the move, \\nhe would tell me how to correct my mistake. \\nIn what I next relate, bear in mind that Charlie and his family did not have a \\ndime invested in the small investing partnership that I was then managing and whose \\nmoney I had used for the Berkshire purchase. Moreover, neither of us expected that \\nCharlie would ever own a share of Berkshire stock. \\nNevertheless, Charlie, in 1965, promptly advised me: “Warren, forget about \\never buying another company like Berkshire. But now that you co',\n",
              "   np.float64(0.6902684664580093)),\n",
              "  ('Warren Buffett letter in year 2023  ed that \\nCharlie would ever own a share of Berkshire stock. \\nNevertheless, Charlie, in 1965, promptly advised me: “Warren, forget about \\never buying another company like Berkshire. But now that you control Berkshire, add \\nto it wonderful businesses purchased at fair prices and give up buying fair businesses \\nat wonderful prices. In other words, abandon everything you learned from your hero, \\nBen Graham. It works but only when practiced at small scale.” With much back-sliding \\nI subsequently followed his instructions. \\nMany years later, Charlie became my partner in running Berkshire and, \\nrepeatedly, jerked me back to sanity when my old habits surfaced. Until his death, he \\ncontinued in this role and together we, along with those who early on invested with \\nus, ended up far better off than Charlie and I had ever dreamed possible. \\nIn reality, Charlie was the “architect” of the present Berkshire, and I acted as \\nthe “general contractor” to carry out the day-by-day construction of his vis',\n",
              "   np.float64(0.6222751457481138)),\n",
              "  ('Warren Buffett letter in year 2022  ind and, though it has been becalmed from time to time, its propelling force has always\\nreturned.\\nI have been investing for 80 years – more than one-third of our country’s lifetime. Despite\\nour citizens’ penchant – almost enthusiasm – for self-criticism and self-doubt, I have yet to see a\\ntime when it made sense to make a long-term bet against America. And I doubt very much that\\nany reader of this letter will have a different experience in the future.\\nNothing Beats Having a Great Partner\\nCharlie and I think pretty much alike. But what it takes me a page to explain, he sums up\\nin a sentence. His version, moreover, is always more clearly reasoned and also more\\nartfully – some might add bluntly – stated.\\nHere are a few of his thoughts, many lifted from a very recent podcast:\\n• The world is full of foolish gamblers, and they will not do as well as the patient investor.\\n• If you don’t see the world the way it is, it’s like judging something through a distorted lens.\\n• All I want to know is ',\n",
              "   np.float64(0.599997663615292)),\n",
              "  ('Warren Buffett letter in year 2022  en and I hated railroad stocks for decades, but the world changed and finally the\\ncountry had four huge railroads of vital importance to the American economy. We were\\nslow to recognize the change, but better late than never.\\n• Finally, I will add two short sentences by Charlie that have been his decision-clinchers for\\ndecades: “Warren, think more about it. You’re smart and I’m right.”\\nAnd so it goes. I never have a phone call with Charlie without learning something. And,\\nwhile he makes me think, he also makes me laugh.\\n* * * * * * * * * * * *\\nI will add to Charlie’s list a rule of my own: Find a very smart high-grade\\npartner – preferably slightly older than you – and then listen very carefully to what he says.\\nA Family Gathering in Omaha\\nCharlie and I are shameless. Last year, at our first shareholder get-together in three years,\\nwe greeted you with our usual commercial hustle.\\nFrom the opening bell, we went straight for your wallet. In short order, our See’s kiosk\\nsold you eleven tons',\n",
              "   np.float64(0.5864013657493197)),\n",
              "  ('Warren Buffett letter in year 2022  e investments, we have no say in management.\\n3\\n\\n Our goal in both forms of ownership is to make meaningful investments in businesses with\\nboth long-lasting favorable economic characteristics and trustworthy managers. Please note\\nparticularly that we own publicly-traded stocks based on our expectations about their long-term\\nbusiness performance, not because we view them as vehicles for adroit purchases and sales. That\\npoint is crucial: Charlie and I are not stock-pickers; we are business-pickers.\\nOver the years, I have made many mistakes. Consequently, our extensive collection of\\nbusinesses currently consists of a few enterprises that have truly extraordinary economics, many\\nthat enjoy very good economic characteristics, and a large group that are marginal. Along the way,\\nother businesses in which I have invested have died, their products unwanted by the public.\\nCapitalism has two sides: The system creates an ever-growing pile of losers while concurrently\\ndelivering a gusher of improved',\n",
              "   np.float64(0.5797274826179911)),\n",
              "  ('Warren Buffett letter in year 2023  t, wise and likes to challenge my thinking. We have never, \\nhowever, had a shouting match or anything close to a ruptured relationship. We never will. \\nFurthermore, Bertie, and her three daughters as well, have a large portion of their savings \\nin Berkshire shares. Their ownership spans decades, and every year Bertie will read what I have \\nto say. My job is to anticipate her questions and give her honest answers. \\n3 \\n\\n Bertie, like most of you, understands many accounting terms, but she is not ready for a \\nCPA exam. She follows business news – reading four newspapers daily – but doesn’t consider \\nherself an economic expert. She is sensible – very sensible – instinctively knowing that pundits \\nshould always be ignored. After all, if she could reliably predict tomorrow’s winners, would she \\nfreely share her valuable insights and thereby increase competitive buying? That would be like \\nfinding gold and then handing a map to the neighbors showing its location. \\nBertie understands the power',\n",
              "   np.float64(0.5755727668960807)),\n",
              "  ('Warren Buffett letter in year 2022  ng after you are not; a mediocre company won’t do that.\\n• Warren and I don’t focus on the froth of the market. We seek out good long-term\\ninvestments and stubbornly hold them for a long time.\\n• Ben Graham said, “Day to day, the stock market is a voting machine; in the long term it’s\\na weighing machine.” If you keep making something more valuable, then some wise person\\nis going to notice it and start buying.\\n• There is no such thing as a 100% sure thing when investing. Thus, the use of leverage is\\ndangerous. A string of wonderful numbers times zero will always equal zero. Don’t count\\non getting rich twice.\\n• You don’t, however, need to own a lot of things in order to get rich.\\n• You have to keep learning if you want to become a great investor. When the world changes,\\nyou must change.\\n• Warren and I hated railroad stocks for decades, but the world changed and finally the\\ncountry had four huge railroads of vital importance to the American economy. We were\\nslow to recognize the change, but',\n",
              "   np.float64(0.5651222271204597)),\n",
              "  ('Warren Buffett letter in year 2023   to make, however, and Berkshire has had its share \\nof disappointments. \\n5 \\n\\n In 1863, Hugh McCulloch, the first Comptroller of the United States, sent a letter to all \\nnational banks. His instructions included this warning: “Never deal with a rascal under the \\nexpectation that you can prevent him from cheating you.” Many bankers who thought they could \\n“manage” the rascal problem have learned the wisdom of Mr. McCulloch’s advice – and I have as \\nwell. People are not that easy to read. Sincerity and empathy can easily be faked. That is as true \\nnow as it was in 1863. \\nThis combination of the two necessities I’ve described for acquiring businesses has for \\nlong been our goal in purchases and, for a while, we had an abundance of candidates to evaluate. \\nIf I missed one – and I missed plenty – another always came along. \\nThose days are long behind us; size did us in, though increased competition for purchases \\nwas also a factor. \\nBerkshire now has – by far – the largest GAAP net worth rec',\n",
              "   np.float64(0.5633110465494786)),\n",
              "  ('Warren Buffett letter in year 2022  . . . . . . . . . . . . .\\n19.8%\\n9.9%\\nOverall Gain – 1964-2022 . . . . . . . . . . . . . . . . . . . . . . . . . . . . . . . . . . . . . . . . . . . . . . . . . . . . . . . .\\n3,787,464%\\n24,708%\\nNote: Data are for calendar years with these exceptions: 1965 and 1966, year ended 9/30; 1967, 15 months ended 12/31.\\n2\\n\\n BERKSHIRE HATHAWAY INC.\\nTo the Shareholders of Berkshire Hathaway Inc.:\\nCharlie Munger, my long-time partner, and I have the job of managing the savings of a\\ngreat number of individuals. We are grateful for their enduring trust, a relationship that often spans\\nmuch of their adult lifetime. It is those dedicated savers that are forefront in my mind as I write\\nthis letter.\\nA common belief is that people choose to save when young, expecting thereby to maintain\\ntheir living standards after retirement. Any assets that remain at death, this theory says, will usually\\nbe left to their families or, possibly, to friends and philanthropy.\\nOur experience has differed. We believe Berkshire',\n",
              "   np.float64(0.5575810419831392)),\n",
              "  ('Warren Buffett letter in year 2023  uge winners have emerged from a great \\nmany dozens of decisions. And we now have a small cadre of long-time managers who never muse \\nabout going elsewhere and who regard 65 as just another birthday. \\n* * * * * * * * * * * * \\nBerkshire benefits from an unusual constancy and clarity of purpose. While we emphasize \\ntreating our employees, communities and suppliers well – who wouldn’t wish to do so? – our \\nallegiance will always be to our country and our shareholders. We never forget that, though your \\nmoney is comingled with ours, it does not belong to us. \\n6 \\n\\n With that focus, and with our present mix of businesses, Berkshire should do a bit better \\nthan the average American corporation and, more important, should also operate with materially \\nless risk of permanent loss of capital. Anything beyond “slightly better,” though, is wishful \\nthinking. This modest aspiration wasn’t the case when Bertie went all-in on Berkshire – but it \\nis now. \\nOur Not-So-Secret Weapon \\nOccasionally, markets',\n",
              "   np.float64(0.555115370366161))]}"
            ]
          },
          "execution_count": 50,
          "metadata": {},
          "output_type": "execute_result"
        }
      ],
      "source": [
        "my_retrieval_augmented_qa_pipeline.run_pipeline(\"What does Warren Buffett say about Charlie Munger?\")"
      ]
    },
    {
      "cell_type": "code",
      "execution_count": 51,
      "metadata": {},
      "outputs": [],
      "source": [
        "gpt_response = \\\n",
        "    my_retrieval_augmented_qa_pipeline.run_pipeline(\"What does Warren Buffett say about Charlie Munger?\")"
      ]
    },
    {
      "cell_type": "code",
      "execution_count": 52,
      "metadata": {},
      "outputs": [
        {
          "data": {
            "text/markdown": [
              "Warren Buffett describes Charlie Munger as a significant influence and partner in running Berkshire Hathaway. He refers to Charlie as the \"architect\" of the present Berkshire, highlighting that while he (Buffett) acted as the \"general contractor,\" Munger provided essential guidance and ideas that fundamentally shaped their investment philosophy. Buffett recounts his early interactions with Munger and how Munger correctly advised him on investment strategies, steering him away from buying other companies like Berkshire and instead focusing on acquiring wonderful businesses at fair prices. He appreciates Munger's clarity in reasoning and his ability to challenge Buffett's thinking, stating that Munger has always brought him back to sanity when his old habits emerge. Buffett also emphasizes the deep mutual respect and understanding in their partnership, describing their relationship as one that has never featured conflict or shouting matches."
            ],
            "text/plain": [
              "<IPython.core.display.Markdown object>"
            ]
          },
          "metadata": {},
          "output_type": "display_data"
        }
      ],
      "source": [
        "pretty_print(gpt_response['response'])"
      ]
    },
    {
      "cell_type": "code",
      "execution_count": 53,
      "metadata": {},
      "outputs": [
        {
          "data": {
            "text/plain": [
              "{'response': 'Yes, Berkshire Hathaway faced challenges in 2023, particularly that most of its non-insurance businesses experienced lower earnings. However, this decline was expected to be cushioned by decent results from its two largest non-insurance businesses, BNSF and Berkshire Hathaway Energy, which together accounted for more than 30% of operating earnings in 2022.',\n",
              " 'context': [('Warren Buffett letter in year 2023  . . . . . . .\\n14,937 \\n14,549 \\nOperating earnings . . . . . . . . . . . . . . . . . . . . . . . . . .\\n$37,350 \\n$30,853 \\nAt Berkshire’s annual gathering on May 6, 2023, I presented the first quarter’s results \\nwhich had been released early that morning. I followed with a short summary of the outlook for \\nthe full year: (1) most of our non-insurance businesses faced lower earnings in 2023; (2) that \\ndecline would be cushioned by decent results at our two largest non-insurance businesses, BNSF \\nand Berkshire Hathaway Energy (“BHE”) which, combined, had accounted for more than 30% of \\noperating earnings in 2022; (3) our investment income was certain to materially grow because the \\nhuge U.S. Treasury bill position held by Berkshire had finally begun to pay us far more than the \\npittance we had been receiving and (4) insurance would likely do well, both because its \\nunderwriting earnings are not correlated to earnings elsewhere in the economy and, beyond that, \\nproperty-casualty insurance pri',\n",
              "   np.float64(0.6618090675314333)),\n",
              "  ('Warren Buffett letter in year 2023  t relinquish. When economic upsets occur, as they will, \\nBerkshire’s goal will be to function as an asset to the country – just as it was in a very minor way \\nin 2008-9 – and to help extinguish the financial fire rather than to be among the many companies \\nthat, inadvertently or otherwise, ignited the conflagration. \\n7 \\n\\n Our goal is realistic. Berkshire’s strength comes from its Niagara of diverse earnings \\ndelivered after interest costs, taxes and substantial charges for depreciation and amortization \\n(“EBITDA” is a banned measurement at Berkshire). We also operate with minimal requirements \\nfor cash, even if the country encounters a prolonged period of global economic weakness, fear and \\nnear-paralysis. \\nBerkshire does not currently pay dividends, and its share repurchases are 100% \\ndiscretionary. Annual debt maturities are never material. \\nYour company also holds a cash and U.S. Treasury bill position far in excess of what \\nconventional wisdom deems necessary. During the 2008 panic',\n",
              "   np.float64(0.6424244744776354)),\n",
              "  ('Warren Buffett letter in year 2023  of patience and an extended period of \\n“friendly” prices. The process is like turning a battleship. That is an important disadvantage which \\nwe did not face in our early days at Berkshire. \\nThe Scorecard in 2023 \\nEvery quarter we issue a press release that reports our summarized operating earnings (or \\nloss) in a manner similar to what is shown below. Here is the full-year compilation: \\n \\n(in $ millions) \\n \\n2023 \\n2022 \\nInsurance-underwriting . . . . . . . . . . . . . . . . . . . . . .\\n$ 5,428 \\n$\\n(30) \\nInsurance-investment income . . . . . . . . . . . . . . . . .\\n9,567 \\n6,484 \\nRailroad . . . . . . . . . . . . . . . . . . . . . . . . . . . . . . . . . .\\n5,087 \\n5,946 \\nUtilities and energy . . . . . . . . . . . . . . . . . . . . . . . . .\\n2,331 \\n3,904 \\nOther businesses and miscellaneous items . . . . . . .\\n14,937 \\n14,549 \\nOperating earnings . . . . . . . . . . . . . . . . . . . . . . . . . .\\n$37,350 \\n$30,853 \\nAt Berkshire’s annual gathering on May 6, 2023, I presented the first quarter’s r',\n",
              "   np.float64(0.6388298986686554)),\n",
              "  ('Warren Buffett letter in year 2023   to make, however, and Berkshire has had its share \\nof disappointments. \\n5 \\n\\n In 1863, Hugh McCulloch, the first Comptroller of the United States, sent a letter to all \\nnational banks. His instructions included this warning: “Never deal with a rascal under the \\nexpectation that you can prevent him from cheating you.” Many bankers who thought they could \\n“manage” the rascal problem have learned the wisdom of Mr. McCulloch’s advice – and I have as \\nwell. People are not that easy to read. Sincerity and empathy can easily be faked. That is as true \\nnow as it was in 1863. \\nThis combination of the two necessities I’ve described for acquiring businesses has for \\nlong been our goal in purchases and, for a while, we had an abundance of candidates to evaluate. \\nIf I missed one – and I missed plenty – another always came along. \\nThose days are long behind us; size did us in, though increased competition for purchases \\nwas also a factor. \\nBerkshire now has – by far – the largest GAAP net worth rec',\n",
              "   np.float64(0.6333785136235968)),\n",
              "  ('Warren Buffett letter in year 2022  compounding, our\\navoidance of major mistakes and – most important of all – the American Tailwind. America would\\nhave done fine without Berkshire. The reverse is not true.\\nBerkshire now enjoys major ownership in an unmatched collection of huge and diversified\\nbusinesses. Let’s first look at the 5,000 or so publicly-held companies that trade daily on\\nNASDAQ, the NYSE and related venues. Within this group is housed the members of the S&P\\n500 Index, an elite collection of large and well-known American companies.\\nIn aggregate, the 500 earned $1.8 trillion in 2021. I don’t yet have the final results for 2022.\\nUsing, therefore, the 2021 figures, only 128 of the 500 (including Berkshire itself) earned $3 billion\\nor more. Indeed, 23 lost money.\\n7\\n\\n At yearend 2022, Berkshire was the largest owner of eight of these giants: American\\nExpress, Bank of America, Chevron, Coca-Cola, HP Inc., Moody’s, Occidental Petroleum and\\nParamount Global.\\nIn addition to those eight investees, Berkshire owns 100% o',\n",
              "   np.float64(0.6319190223973004)),\n",
              "  ('Warren Buffett letter in year 2023  cide which model they prefer. \\nWhen the dust settles, America’s power needs and the consequent capital expenditure will \\nbe staggering. I did not anticipate or even consider the adverse developments in regulatory returns \\nand, along with Berkshire’s two partners at BHE, I made a costly mistake in not doing so. \\n* * * * * * * * * * * * \\nEnough about problems: Our insurance business performed exceptionally well last year, \\nsetting records in sales, float and underwriting profits. Property-casualty insurance (“P/C”) \\nprovides the core of Berkshire’s well-being and growth. We have been in the business for 57 years \\nand despite our nearly 5,000-fold increase in volume – from $17 million to $83 billion – we have \\nmuch room to grow. \\nBeyond that, we have learned – too often, painfully – a good deal about what types of \\ninsurance business and what sort of people to avoid. The most important lesson is that our \\nunderwriters can be thin, fat, male, female, young, old, foreign or domestic. But th',\n",
              "   np.float64(0.6278421225444022)),\n",
              "  ('Warren Buffett letter in year 2023  mediately juices net worth). \\nThere remain only a handful of companies in this country capable of truly moving the \\nneedle at Berkshire, and they have been endlessly picked over by us and by others. Some we can \\nvalue; some we can’t. And, if we can, they have to be attractively priced. Outside the U.S., there \\nare essentially no candidates that are meaningful options for capital deployment at Berkshire. All \\nin all, we have no possibility of eye-popping performance. \\nNevertheless, managing Berkshire is mostly fun and always interesting. On the positive \\nside, after 59 years of assemblage, the company now owns either a portion or 100% of various \\nbusinesses that, on a weighted basis, have somewhat better prospects than exist at most large \\nAmerican companies. By both luck and pluck, a few huge winners have emerged from a great \\nmany dozens of decisions. And we now have a small cadre of long-time managers who never muse \\nabout going elsewhere and who regard 65 as just another birthday. \\n',\n",
              "   np.float64(0.62756620214768)),\n",
              "  ('Warren Buffett letter in year 2022  lent to manipulate numbers: Only a deep desire\\nto deceive is required. “Bold imaginative accounting,” as a CEO once described his deception to\\nme, has become one of the shames of capitalism.\\n58 Years – and a Few Figures\\nIn 1965, Berkshire was a one-trick pony, the owner of a venerable – but doomed – New\\nEngland textile operation. With that business on a death march, Berkshire needed an immediate\\nfresh start. Looking back, I was slow to recognize the severity of its problems.\\nAnd then came a stroke of good luck: National Indemnity became available in 1967, and\\nwe shifted our resources toward insurance and other non-textile operations.\\nThus began our journey to 2023, a bumpy road involving a combination of continuous\\nsavings by our owners (that is, by their retaining earnings), the power of compounding, our\\navoidance of major mistakes and – most important of all – the American Tailwind. America would\\nhave done fine without Berkshire. The reverse is not true.\\nBerkshire now enjoys major ow',\n",
              "   np.float64(0.6190570780390195)),\n",
              "  ('Warren Buffett letter in year 2023  – another always came along. \\nThose days are long behind us; size did us in, though increased competition for purchases \\nwas also a factor. \\nBerkshire now has – by far – the largest GAAP net worth recorded by any American \\nbusiness. Record operating income and a strong stock market led to a yearend figure of $561 \\nbillion. The total GAAP net worth for the other 499 S&P companies – a who’s who of American \\nbusiness – was $8.9 trillion in 2022. (The 2023 number for the S&P has not yet been tallied but is \\nunlikely to materially exceed $9.5 trillion.) \\nBy this measure, Berkshire now occupies nearly 6% of the universe in which it operates. \\nDoubling our huge base is simply not possible within, say, a five-year period, particularly because \\nwe are highly averse to issuing shares (an act that immediately juices net worth). \\nThere remain only a handful of companies in this country capable of truly moving the \\nneedle at Berkshire, and they have been endlessly picked over by us and by others. S',\n",
              "   np.float64(0.6185595365836466)),\n",
              "  ('Warren Buffett letter in year 2022  arterly or even annually. Capital\\ngains, to be sure, have been hugely important to Berkshire over past decades, and we expect them\\nto be meaningfully positive in future decades. But their quarter-by-quarter gyrations, regularly and\\nmindlessly headlined by media, totally misinform investors.\\n5\\n\\n A second positive development for Berkshire last year was our purchase of Alleghany\\nCorporation, a property-casualty insurer captained by Joe Brandon. I’ve worked with Joe in the\\npast, and he understands both Berkshire and insurance. Alleghany delivers special value to\\nus because Berkshire’s unmatched financial strength allows its insurance subsidiaries to follow\\nvaluable and enduring investment strategies unavailable to virtually all competitors.\\nAided by Alleghany, our insurance float increased during 2022 from $147 billion to $164\\nbillion. With disciplined underwriting, these funds have a decent chance of being cost-free over\\ntime. Since purchasing our first property-casualty insurer in 1967,',\n",
              "   np.float64(0.617770436558448))]}"
            ]
          },
          "execution_count": 53,
          "metadata": {},
          "output_type": "execute_result"
        }
      ],
      "source": [
        "my_retrieval_augmented_qa_pipeline.run_pipeline(\"Did Berkshire Hathaway face any major challenges in 2023?\")"
      ]
    },
    {
      "cell_type": "code",
      "execution_count": 54,
      "metadata": {},
      "outputs": [],
      "source": [
        "gpt_response = \\\n",
        "    my_retrieval_augmented_qa_pipeline.run_pipeline(\"Did Berkshire Hathaway face any major challenges in 2023?\")"
      ]
    },
    {
      "cell_type": "code",
      "execution_count": 55,
      "metadata": {},
      "outputs": [
        {
          "data": {
            "text/markdown": [
              "Yes, Berkshire Hathaway faced challenges in 2023, as indicated by Warren Buffett's commentary. Most of the non-insurance businesses experienced lower earnings, which would be somewhat cushioned by the performance of its two largest non-insurance businesses, BNSF and Berkshire Hathaway Energy. Additionally, there were indications of a prolonged period of global economic weakness and fear, which could impact performance."
            ],
            "text/plain": [
              "<IPython.core.display.Markdown object>"
            ]
          },
          "metadata": {},
          "output_type": "display_data"
        }
      ],
      "source": [
        "pretty_print(gpt_response['response'])"
      ]
    },
    {
      "cell_type": "code",
      "execution_count": 56,
      "metadata": {},
      "outputs": [
        {
          "data": {
            "text/plain": [
              "{'response': \"In comparing Berkshire Hathaway's report for 2022 and 2023, several key financial figures and operational insights can be observed:\\n\\n1. **Operating Earnings**:\\n   - In 2022, Berkshire reported operating earnings of $30,853 million.\\n   - In 2023, operating earnings increased to $37,350 million, indicating a significant growth year-over-year.\\n\\n2. **Individual Business Performance**:\\n   - **Insurance Underwriting**:\\n     - 2022: ($30) million (loss)\\n     - 2023: $5,428 million (profit), showcasing a substantial turnaround in the insurance underwriting segment.\\n   - **Insurance Investment Income**:\\n     - 2022: $6,484 million\\n     - 2023: $9,567 million, indicating an increase in investment income.\\n   - **Railroad**:\\n     - 2022: $5,946 million\\n     - 2023: $5,087 million, showing a decrease in earnings from this segment.\\n   - **Utilities and Energy**:\\n     - 2022: $3,904 million\\n     - 2023: $2,331 million, reflecting a decline in earnings as well.\\n   - **Other Businesses and Miscellaneous Items**:\\n     - 2022: $14,549 million\\n     - 2023: $14,937 million, a slight increase.\\n\\n3. **Overall Earnings**:\\n   - Berkshire's operating earnings improved from $30.9 billion in 2022 to $37.4 billion in 2023.\\n   - The GAAP net earnings (which may include unrealized capital gains) were reported at negative ($23 billion) for 2022, and $96 billion for 2023, indicating a recovery after a turbulent 2022.\\n\\n4. **Outlook**:\\n   - In 2023, Warren Buffett indicated that most non-insurance businesses faced lower earnings, but the decline would be cushioned by the strong performance of BNSF and Berkshire Hathaway Energy. He also noted that investment income was expected to grow significantly due to the improved yield on U.S. Treasury bills.\\n\\n5. **General Commentary**:\\n   - Buffett pointed towards challenges faced in the industry and the importance of insurance-as a core element of growth. In 2023, he expressed concerns regarding inflation in the economy impacting various sectors but emphasized Berkshire's resilience and strategic positioning.\\n\\nOverall, the 2023 report reflects an increase in operating earnings and significant recovery in the insurance underwriting segment, despite declines in some business areas and continued economic challenges.\",\n",
              " 'context': [('Warren Buffett letter in year 2023  . . . . . . .\\n14,937 \\n14,549 \\nOperating earnings . . . . . . . . . . . . . . . . . . . . . . . . . .\\n$37,350 \\n$30,853 \\nAt Berkshire’s annual gathering on May 6, 2023, I presented the first quarter’s results \\nwhich had been released early that morning. I followed with a short summary of the outlook for \\nthe full year: (1) most of our non-insurance businesses faced lower earnings in 2023; (2) that \\ndecline would be cushioned by decent results at our two largest non-insurance businesses, BNSF \\nand Berkshire Hathaway Energy (“BHE”) which, combined, had accounted for more than 30% of \\noperating earnings in 2022; (3) our investment income was certain to materially grow because the \\nhuge U.S. Treasury bill position held by Berkshire had finally begun to pay us far more than the \\npittance we had been receiving and (4) insurance would likely do well, both because its \\nunderwriting earnings are not correlated to earnings elsewhere in the economy and, beyond that, \\nproperty-casualty insurance pri',\n",
              "   np.float64(0.7248437225246579)),\n",
              "  ('Warren Buffett letter in year 2023  of patience and an extended period of \\n“friendly” prices. The process is like turning a battleship. That is an important disadvantage which \\nwe did not face in our early days at Berkshire. \\nThe Scorecard in 2023 \\nEvery quarter we issue a press release that reports our summarized operating earnings (or \\nloss) in a manner similar to what is shown below. Here is the full-year compilation: \\n \\n(in $ millions) \\n \\n2023 \\n2022 \\nInsurance-underwriting . . . . . . . . . . . . . . . . . . . . . .\\n$ 5,428 \\n$\\n(30) \\nInsurance-investment income . . . . . . . . . . . . . . . . .\\n9,567 \\n6,484 \\nRailroad . . . . . . . . . . . . . . . . . . . . . . . . . . . . . . . . . .\\n5,087 \\n5,946 \\nUtilities and energy . . . . . . . . . . . . . . . . . . . . . . . . .\\n2,331 \\n3,904 \\nOther businesses and miscellaneous items . . . . . . .\\n14,937 \\n14,549 \\nOperating earnings . . . . . . . . . . . . . . . . . . . . . . . . . .\\n$37,350 \\n$30,853 \\nAt Berkshire’s annual gathering on May 6, 2023, I presented the first quarter’s r',\n",
              "   np.float64(0.7091645631030129)),\n",
              "  ('Warren Buffett letter in year 2023  ber 31, 2023 . . . . .” \\nSo sanctified, this worse-than-useless “net income” figure quickly gets transmitted \\nthroughout the world via the internet and media. All parties believe they have done their job – and, \\nlegally, they have. \\nWe, however, are left uncomfortable. At Berkshire, our view is that “earnings” should be a \\nsensible concept that Bertie will find somewhat useful – but only as a starting point – in \\nevaluating a business. Accordingly, Berkshire also reports to Bertie and you what we call \\n“operating earnings.” Here is the story they tell: $27.6 billion for 2021; $30.9 billion for 2022 and \\n$37.4 billion for 2023. \\n4 \\n\\n The primary difference between the mandated figures and the ones Berkshire prefers is that \\nwe exclude unrealized capital gains or losses that at times can exceed $5 billion a day. Ironically, \\nour preference was pretty much the rule until 2018, when the “improvement” was mandated. \\nGalileo’s experience, several centuries ago, should have taught us not to m',\n",
              "   np.float64(0.6712682738847189)),\n",
              "  ('Warren Buffett letter in year 2023  freely share her valuable insights and thereby increase competitive buying? That would be like \\nfinding gold and then handing a map to the neighbors showing its location. \\nBertie understands the power – for good or bad – of incentives, the weaknesses of humans, \\nthe “tells” that can be recognized when observing human behavior. She knows who is “selling” \\nand who can be trusted. In short, she is nobody’s fool. \\nSo, what would interest Bertie this year? \\nOperating Results, Fact and Fiction \\nLet’s begin with the numbers. The official annual report begins on K-1 and extends for 124 \\npages. It is filled with a vast amount of information – some important, some trivial. \\nAmong its disclosures many owners, along with financial reporters, will focus on page \\nK-72. There, they will find the proverbial “bottom line” labeled “Net earnings (loss).” The \\nnumbers read $90 billion for 2021, ($23 billion) for 2022 and $96 billion for 2023. \\nWhat in the world is going on? \\nYou seek guidance and are told',\n",
              "   np.float64(0.6685636459996234)),\n",
              "  ('Warren Buffett letter in year 2022  arterly or even annually. Capital\\ngains, to be sure, have been hugely important to Berkshire over past decades, and we expect them\\nto be meaningfully positive in future decades. But their quarter-by-quarter gyrations, regularly and\\nmindlessly headlined by media, totally misinform investors.\\n5\\n\\n A second positive development for Berkshire last year was our purchase of Alleghany\\nCorporation, a property-casualty insurer captained by Joe Brandon. I’ve worked with Joe in the\\npast, and he understands both Berkshire and insurance. Alleghany delivers special value to\\nus because Berkshire’s unmatched financial strength allows its insurance subsidiaries to follow\\nvaluable and enduring investment strategies unavailable to virtually all competitors.\\nAided by Alleghany, our insurance float increased during 2022 from $147 billion to $164\\nbillion. With disciplined underwriting, these funds have a decent chance of being cost-free over\\ntime. Since purchasing our first property-casualty insurer in 1967,',\n",
              "   np.float64(0.6534581000705937)),\n",
              "  ('Warren Buffett letter in year 2022  ring 2022 from $147 billion to $164\\nbillion. With disciplined underwriting, these funds have a decent chance of being cost-free over\\ntime. Since purchasing our first property-casualty insurer in 1967, Berkshire’s float has increased\\n8,000-fold through acquisitions, operations and innovations. Though not recognized in our\\nfinancial statements, this float has been an extraordinary asset for Berkshire. New shareholders\\ncan get an understanding of its value by reading our annually updated explanation of float on\\npage A-2.\\n* * * * * * * * * * * *\\nA very minor gain in per-share intrinsic value took place in 2022 through Berkshire share\\nrepurchases as well as similar moves at Apple and American Express, both significant investees\\nof ours. At Berkshire, we directly increased your interest in our unique collection of businesses by\\nrepurchasing 1.2% of the company’s outstanding shares. At Apple and Amex, repurchases\\nincreased Berkshire’s ownership a bit without any cost to us.\\nThe math isn’t com',\n",
              "   np.float64(0.6493385591518877)),\n",
              "  ('Warren Buffett letter in year 2022  inners to work wonders. And, yes, it helps to start early and live\\ninto your 90s as well.\\nThe Past Year in Brief\\nBerkshire had a good year in 2022. The company’s operating earnings – our term for\\nincome calculated using Generally Accepted Accounting Principles (“GAAP”), exclusive of\\ncapital gains or losses from equity holdings – set a record at $30.8 billion. Charlie and I focus on\\nthis operational figure and urge you to do so as well. The GAAP figure, absent our adjustment,\\nfluctuates wildly and capriciously at every reporting date. Note its acrobatic behavior in 2022,\\nwhich is in no way unusual:\\nEarnings in $ billions\\n2022 Quarter\\n“Operating Earnings”\\nGAAP Earnings We\\nare Required to Report\\n1\\n7.0\\n5.5\\n2\\n9.3\\n(43.8)\\n3\\n7.8\\n(2.7)\\n4\\n6.7\\n18.2\\nThe GAAP earnings are 100% misleading when viewed quarterly or even annually. Capital\\ngains, to be sure, have been hugely important to Berkshire over past decades, and we expect them\\nto be meaningfully positive in future decades. But their quarter-by-q',\n",
              "   np.float64(0.648698660280393)),\n",
              "  ('Warren Buffett letter in year 2022  compounding, our\\navoidance of major mistakes and – most important of all – the American Tailwind. America would\\nhave done fine without Berkshire. The reverse is not true.\\nBerkshire now enjoys major ownership in an unmatched collection of huge and diversified\\nbusinesses. Let’s first look at the 5,000 or so publicly-held companies that trade daily on\\nNASDAQ, the NYSE and related venues. Within this group is housed the members of the S&P\\n500 Index, an elite collection of large and well-known American companies.\\nIn aggregate, the 500 earned $1.8 trillion in 2021. I don’t yet have the final results for 2022.\\nUsing, therefore, the 2021 figures, only 128 of the 500 (including Berkshire itself) earned $3 billion\\nor more. Indeed, 23 lost money.\\n7\\n\\n At yearend 2022, Berkshire was the largest owner of eight of these giants: American\\nExpress, Bank of America, Chevron, Coca-Cola, HP Inc., Moody’s, Occidental Petroleum and\\nParamount Global.\\nIn addition to those eight investees, Berkshire owns 100% o',\n",
              "   np.float64(0.6368725647240497)),\n",
              "  ('Warren Buffett letter in year 2023  cide which model they prefer. \\nWhen the dust settles, America’s power needs and the consequent capital expenditure will \\nbe staggering. I did not anticipate or even consider the adverse developments in regulatory returns \\nand, along with Berkshire’s two partners at BHE, I made a costly mistake in not doing so. \\n* * * * * * * * * * * * \\nEnough about problems: Our insurance business performed exceptionally well last year, \\nsetting records in sales, float and underwriting profits. Property-casualty insurance (“P/C”) \\nprovides the core of Berkshire’s well-being and growth. We have been in the business for 57 years \\nand despite our nearly 5,000-fold increase in volume – from $17 million to $83 billion – we have \\nmuch room to grow. \\nBeyond that, we have learned – too often, painfully – a good deal about what types of \\ninsurance business and what sort of people to avoid. The most important lesson is that our \\nunderwriters can be thin, fat, male, female, young, old, foreign or domestic. But th',\n",
              "   np.float64(0.6335989019478978)),\n",
              "  ('Warren Buffett letter in year 2023  mediately juices net worth). \\nThere remain only a handful of companies in this country capable of truly moving the \\nneedle at Berkshire, and they have been endlessly picked over by us and by others. Some we can \\nvalue; some we can’t. And, if we can, they have to be attractively priced. Outside the U.S., there \\nare essentially no candidates that are meaningful options for capital deployment at Berkshire. All \\nin all, we have no possibility of eye-popping performance. \\nNevertheless, managing Berkshire is mostly fun and always interesting. On the positive \\nside, after 59 years of assemblage, the company now owns either a portion or 100% of various \\nbusinesses that, on a weighted basis, have somewhat better prospects than exist at most large \\nAmerican companies. By both luck and pluck, a few huge winners have emerged from a great \\nmany dozens of decisions. And we now have a small cadre of long-time managers who never muse \\nabout going elsewhere and who regard 65 as just another birthday. \\n',\n",
              "   np.float64(0.6285114803339327))]}"
            ]
          },
          "execution_count": 56,
          "metadata": {},
          "output_type": "execute_result"
        }
      ],
      "source": [
        "my_retrieval_augmented_qa_pipeline.run_pipeline(\"Compare Berkshire Hathaway's report for 2022 and 2023?\")"
      ]
    },
    {
      "cell_type": "code",
      "execution_count": 57,
      "metadata": {},
      "outputs": [],
      "source": [
        "gpt_response = \\\n",
        "    my_retrieval_augmented_qa_pipeline.run_pipeline(\"Compare Berkshire Hathaway's report for 2022 and 2023?\")"
      ]
    },
    {
      "cell_type": "code",
      "execution_count": 58,
      "metadata": {},
      "outputs": [
        {
          "data": {
            "text/markdown": [
              "Based on the provided context, here's a comparison of Berkshire Hathaway's report for 2022 and 2023:\n",
              "\n",
              "1. **Operating Earnings**:\n",
              "   - **2022**: $30,853 million\n",
              "   - **2023**: $37,350 million\n",
              "   - There was an increase in operating earnings from 2022 to 2023.\n",
              "\n",
              "2. **Insurance-Underwriting**:\n",
              "   - **2022**: $(30) million\n",
              "   - **2023**: $5,428 million\n",
              "   - The insurance-underwriting component showed a significant turnaround from a loss in 2022 to a substantial profit in 2023.\n",
              "\n",
              "3. **Insurance-Investment Income**:\n",
              "   - **2022**: $6,484 million\n",
              "   - **2023**: $9,567 million\n",
              "   - There was a noticeable increase in insurance-investment income in 2023.\n",
              "\n",
              "4. **Railroad**:\n",
              "   - **2022**: $5,946 million\n",
              "   - **2023**: $5,087 million\n",
              "   - Operating earnings from the railroad segment decreased from 2022 to 2023.\n",
              "\n",
              "5. **Utilities and Energy**:\n",
              "   - **2022**: $3,904 million\n",
              "   - **2023**: $2,331 million\n",
              "   - There was a sharp decline in operating earnings from utilities and energy.\n",
              "\n",
              "6. **Other Businesses and Miscellaneous Items**:\n",
              "   - **2022**: $14,549 million\n",
              "   - **2023**: $14,937 million\n",
              "   - This segment saw a slight increase in earnings.\n",
              "\n",
              "7. **Overall Outlook**:\n",
              "   - In 2023, Buffett noted that most of the non-insurance businesses faced lower earnings compared to 2022. This overall decline was offset by the strong performance of Berkshire's largest non-insurance businesses, namely BNSF and Berkshire Hathaway Energy.\n",
              "\n",
              "In summary, Berkshire Hathaway reported an overall increase in operating earnings in 2023 compared to 2022, driven largely by a remarkable recovery in insurance-underwriting and increased insurance-investment income, despite declines in railroad and utility earnings."
            ],
            "text/plain": [
              "<IPython.core.display.Markdown object>"
            ]
          },
          "metadata": {},
          "output_type": "display_data"
        }
      ],
      "source": [
        "pretty_print(gpt_response['response'])"
      ]
    },
    {
      "cell_type": "code",
      "execution_count": 59,
      "metadata": {},
      "outputs": [
        {
          "data": {
            "text/plain": [
              "{'response': 'In Warren Buffett\\'s letters to shareholders for 2022 and 2023, his overall sentiment about Berkshire Hathaway reflects a shift in outlook regarding the company\\'s performance and future prospects.\\n\\nIn 2022, Buffett expressed a sense of achievement regarding the value created through acquisitions and the growth of Berkshire\\'s insurance float. He highlighted the successful acquisition of Alleghany Corporation and noted the positive impact of disciplined underwriting. Despite acknowledging market challenges, he conveyed a sense of confidence in Berkshire\\'s resilience and its ability to outperform the average American corporation while operating with lower risk.\\n\\nIn contrast, the 2023 letter presents a more cautious tone. Buffett indicated that most non-insurance businesses at Berkshire were likely to face lower earnings for the year. While he pointed out that the decline would be cushioned by solid results from BNSF and Berkshire Hathaway Energy, he acknowledged the challenges posed by a limited number of suitable investment opportunities and the absence of significant candidates outside the U.S. Overall, Buffett’s outlook for 2023 reflects concerns about the company\\'s growth potential, pointing to a modest aspiration for performance and recognizing that there would be no \"eye-popping\" performance in the near future.\\n\\nIn summary, while the 2022 letter conveyed confidence and reflect on strong past performance and positive developments, the 2023 letter adopted a more conservative stance, highlighting economic challenges and a more tempered view on growth opportunities for Berkshire Hathaway.',\n",
              " 'context': [('Warren Buffett letter in year 2023  . . . . . . .\\n14,937 \\n14,549 \\nOperating earnings . . . . . . . . . . . . . . . . . . . . . . . . . .\\n$37,350 \\n$30,853 \\nAt Berkshire’s annual gathering on May 6, 2023, I presented the first quarter’s results \\nwhich had been released early that morning. I followed with a short summary of the outlook for \\nthe full year: (1) most of our non-insurance businesses faced lower earnings in 2023; (2) that \\ndecline would be cushioned by decent results at our two largest non-insurance businesses, BNSF \\nand Berkshire Hathaway Energy (“BHE”) which, combined, had accounted for more than 30% of \\noperating earnings in 2022; (3) our investment income was certain to materially grow because the \\nhuge U.S. Treasury bill position held by Berkshire had finally begun to pay us far more than the \\npittance we had been receiving and (4) insurance would likely do well, both because its \\nunderwriting earnings are not correlated to earnings elsewhere in the economy and, beyond that, \\nproperty-casualty insurance pri',\n",
              "   np.float64(0.7254458703126319)),\n",
              "  ('Warren Buffett letter in year 2023  of patience and an extended period of \\n“friendly” prices. The process is like turning a battleship. That is an important disadvantage which \\nwe did not face in our early days at Berkshire. \\nThe Scorecard in 2023 \\nEvery quarter we issue a press release that reports our summarized operating earnings (or \\nloss) in a manner similar to what is shown below. Here is the full-year compilation: \\n \\n(in $ millions) \\n \\n2023 \\n2022 \\nInsurance-underwriting . . . . . . . . . . . . . . . . . . . . . .\\n$ 5,428 \\n$\\n(30) \\nInsurance-investment income . . . . . . . . . . . . . . . . .\\n9,567 \\n6,484 \\nRailroad . . . . . . . . . . . . . . . . . . . . . . . . . . . . . . . . . .\\n5,087 \\n5,946 \\nUtilities and energy . . . . . . . . . . . . . . . . . . . . . . . . .\\n2,331 \\n3,904 \\nOther businesses and miscellaneous items . . . . . . .\\n14,937 \\n14,549 \\nOperating earnings . . . . . . . . . . . . . . . . . . . . . . . . . .\\n$37,350 \\n$30,853 \\nAt Berkshire’s annual gathering on May 6, 2023, I presented the first quarter’s r',\n",
              "   np.float64(0.6735314960559661)),\n",
              "  ('Warren Buffett letter in year 2023  mediately juices net worth). \\nThere remain only a handful of companies in this country capable of truly moving the \\nneedle at Berkshire, and they have been endlessly picked over by us and by others. Some we can \\nvalue; some we can’t. And, if we can, they have to be attractively priced. Outside the U.S., there \\nare essentially no candidates that are meaningful options for capital deployment at Berkshire. All \\nin all, we have no possibility of eye-popping performance. \\nNevertheless, managing Berkshire is mostly fun and always interesting. On the positive \\nside, after 59 years of assemblage, the company now owns either a portion or 100% of various \\nbusinesses that, on a weighted basis, have somewhat better prospects than exist at most large \\nAmerican companies. By both luck and pluck, a few huge winners have emerged from a great \\nmany dozens of decisions. And we now have a small cadre of long-time managers who never muse \\nabout going elsewhere and who regard 65 as just another birthday. \\n',\n",
              "   np.float64(0.6690986018216664)),\n",
              "  ('Warren Buffett letter in year 2022  . . . . . . . . . . . . .\\n19.8%\\n9.9%\\nOverall Gain – 1964-2022 . . . . . . . . . . . . . . . . . . . . . . . . . . . . . . . . . . . . . . . . . . . . . . . . . . . . . . . .\\n3,787,464%\\n24,708%\\nNote: Data are for calendar years with these exceptions: 1965 and 1966, year ended 9/30; 1967, 15 months ended 12/31.\\n2\\n\\n BERKSHIRE HATHAWAY INC.\\nTo the Shareholders of Berkshire Hathaway Inc.:\\nCharlie Munger, my long-time partner, and I have the job of managing the savings of a\\ngreat number of individuals. We are grateful for their enduring trust, a relationship that often spans\\nmuch of their adult lifetime. It is those dedicated savers that are forefront in my mind as I write\\nthis letter.\\nA common belief is that people choose to save when young, expecting thereby to maintain\\ntheir living standards after retirement. Any assets that remain at death, this theory says, will usually\\nbe left to their families or, possibly, to friends and philanthropy.\\nOur experience has differed. We believe Berkshire',\n",
              "   np.float64(0.6679178172286154)),\n",
              "  ('Warren Buffett letter in year 2023  freely share her valuable insights and thereby increase competitive buying? That would be like \\nfinding gold and then handing a map to the neighbors showing its location. \\nBertie understands the power – for good or bad – of incentives, the weaknesses of humans, \\nthe “tells” that can be recognized when observing human behavior. She knows who is “selling” \\nand who can be trusted. In short, she is nobody’s fool. \\nSo, what would interest Bertie this year? \\nOperating Results, Fact and Fiction \\nLet’s begin with the numbers. The official annual report begins on K-1 and extends for 124 \\npages. It is filled with a vast amount of information – some important, some trivial. \\nAmong its disclosures many owners, along with financial reporters, will focus on page \\nK-72. There, they will find the proverbial “bottom line” labeled “Net earnings (loss).” The \\nnumbers read $90 billion for 2021, ($23 billion) for 2022 and $96 billion for 2023. \\nWhat in the world is going on? \\nYou seek guidance and are told',\n",
              "   np.float64(0.6668764157582231)),\n",
              "  ('Warren Buffett letter in year 2022  arterly or even annually. Capital\\ngains, to be sure, have been hugely important to Berkshire over past decades, and we expect them\\nto be meaningfully positive in future decades. But their quarter-by-quarter gyrations, regularly and\\nmindlessly headlined by media, totally misinform investors.\\n5\\n\\n A second positive development for Berkshire last year was our purchase of Alleghany\\nCorporation, a property-casualty insurer captained by Joe Brandon. I’ve worked with Joe in the\\npast, and he understands both Berkshire and insurance. Alleghany delivers special value to\\nus because Berkshire’s unmatched financial strength allows its insurance subsidiaries to follow\\nvaluable and enduring investment strategies unavailable to virtually all competitors.\\nAided by Alleghany, our insurance float increased during 2022 from $147 billion to $164\\nbillion. With disciplined underwriting, these funds have a decent chance of being cost-free over\\ntime. Since purchasing our first property-casualty insurer in 1967,',\n",
              "   np.float64(0.6602258280456023)),\n",
              "  ('Warren Buffett letter in year 2023  uge winners have emerged from a great \\nmany dozens of decisions. And we now have a small cadre of long-time managers who never muse \\nabout going elsewhere and who regard 65 as just another birthday. \\n* * * * * * * * * * * * \\nBerkshire benefits from an unusual constancy and clarity of purpose. While we emphasize \\ntreating our employees, communities and suppliers well – who wouldn’t wish to do so? – our \\nallegiance will always be to our country and our shareholders. We never forget that, though your \\nmoney is comingled with ours, it does not belong to us. \\n6 \\n\\n With that focus, and with our present mix of businesses, Berkshire should do a bit better \\nthan the average American corporation and, more important, should also operate with materially \\nless risk of permanent loss of capital. Anything beyond “slightly better,” though, is wishful \\nthinking. This modest aspiration wasn’t the case when Bertie went all-in on Berkshire – but it \\nis now. \\nOur Not-So-Secret Weapon \\nOccasionally, markets',\n",
              "   np.float64(0.6579122304135439)),\n",
              "  ('Warren Buffett letter in year 2022  ring 2022 from $147 billion to $164\\nbillion. With disciplined underwriting, these funds have a decent chance of being cost-free over\\ntime. Since purchasing our first property-casualty insurer in 1967, Berkshire’s float has increased\\n8,000-fold through acquisitions, operations and innovations. Though not recognized in our\\nfinancial statements, this float has been an extraordinary asset for Berkshire. New shareholders\\ncan get an understanding of its value by reading our annually updated explanation of float on\\npage A-2.\\n* * * * * * * * * * * *\\nA very minor gain in per-share intrinsic value took place in 2022 through Berkshire share\\nrepurchases as well as similar moves at Apple and American Express, both significant investees\\nof ours. At Berkshire, we directly increased your interest in our unique collection of businesses by\\nrepurchasing 1.2% of the company’s outstanding shares. At Apple and Amex, repurchases\\nincreased Berkshire’s ownership a bit without any cost to us.\\nThe math isn’t com',\n",
              "   np.float64(0.6546119016694076)),\n",
              "  ('Warren Buffett letter in year 2022  lent to manipulate numbers: Only a deep desire\\nto deceive is required. “Bold imaginative accounting,” as a CEO once described his deception to\\nme, has become one of the shames of capitalism.\\n58 Years – and a Few Figures\\nIn 1965, Berkshire was a one-trick pony, the owner of a venerable – but doomed – New\\nEngland textile operation. With that business on a death march, Berkshire needed an immediate\\nfresh start. Looking back, I was slow to recognize the severity of its problems.\\nAnd then came a stroke of good luck: National Indemnity became available in 1967, and\\nwe shifted our resources toward insurance and other non-textile operations.\\nThus began our journey to 2023, a bumpy road involving a combination of continuous\\nsavings by our owners (that is, by their retaining earnings), the power of compounding, our\\navoidance of major mistakes and – most important of all – the American Tailwind. America would\\nhave done fine without Berkshire. The reverse is not true.\\nBerkshire now enjoys major ow',\n",
              "   np.float64(0.6538026919307639)),\n",
              "  ('Warren Buffett letter in year 2023   to make, however, and Berkshire has had its share \\nof disappointments. \\n5 \\n\\n In 1863, Hugh McCulloch, the first Comptroller of the United States, sent a letter to all \\nnational banks. His instructions included this warning: “Never deal with a rascal under the \\nexpectation that you can prevent him from cheating you.” Many bankers who thought they could \\n“manage” the rascal problem have learned the wisdom of Mr. McCulloch’s advice – and I have as \\nwell. People are not that easy to read. Sincerity and empathy can easily be faked. That is as true \\nnow as it was in 1863. \\nThis combination of the two necessities I’ve described for acquiring businesses has for \\nlong been our goal in purchases and, for a while, we had an abundance of candidates to evaluate. \\nIf I missed one – and I missed plenty – another always came along. \\nThose days are long behind us; size did us in, though increased competition for purchases \\nwas also a factor. \\nBerkshire now has – by far – the largest GAAP net worth rec',\n",
              "   np.float64(0.65375520234155))]}"
            ]
          },
          "execution_count": 59,
          "metadata": {},
          "output_type": "execute_result"
        }
      ],
      "source": [
        "my_retrieval_augmented_qa_pipeline.run_pipeline(\"Compare Warren Buffett's overall sentiment about Berkshire Hathaway in 2022 and 2023\")"
      ]
    },
    {
      "cell_type": "code",
      "execution_count": 60,
      "metadata": {},
      "outputs": [],
      "source": [
        "gpt_response = \\\n",
        "    my_retrieval_augmented_qa_pipeline.run_pipeline(\"Compare Warren Buffett's overall sentiment about Berkshire Hathaway in 2022 and 2023\")"
      ]
    },
    {
      "cell_type": "code",
      "execution_count": 61,
      "metadata": {},
      "outputs": [
        {
          "data": {
            "text/markdown": [
              "In 2023, Warren Buffett expresses a generally optimistic yet cautious sentiment about Berkshire Hathaway. He highlights that while most non-insurance businesses faced lower earnings, significant earnings from BNSF and Berkshire Hathaway Energy will cushion the decline. He acknowledges the growth in investment income due to a favorable position in U.S. Treasury bills and anticipates good performance from the insurance segment. Buffett also notes the positive long-term prospects of the businesses owned by Berkshire, enhanced by a stable group of long-time managers, suggesting a cautious optimism about the company's adaptability and resilience.\n",
              "\n",
              "In contrast, the 2022 letter reflects a more defensive stance, discussing challenges such as the complexity of managing capital deployment and acknowledging that achieved performance may not be eye-popping due to increased competition and fewer attractive investment opportunities. While he speaks of significant gains in float and strategic purchases like Alleghany Corporation, the tone is more subdued, recognizing the difficulties faced by the company and the broader market environment.\n",
              "\n",
              "Overall, the sentiment in 2023 is one of tempered optimism with a focus on the company's strengths and strategic positioning, while the sentiment in 2022 appears more cautious and reflective on challenges within the business landscape."
            ],
            "text/plain": [
              "<IPython.core.display.Markdown object>"
            ]
          },
          "metadata": {},
          "output_type": "display_data"
        }
      ],
      "source": [
        "pretty_print(gpt_response['response'])"
      ]
    },
    {
      "cell_type": "markdown",
      "metadata": {},
      "source": [
        "## Summary of Key Learnings"
      ]
    },
    {
      "cell_type": "markdown",
      "metadata": {},
      "source": [
        "1.  Results are sensitive to chunk size, chunk overlap parameters and number of retrieved chunks that are stuffed into the context.\n",
        "2.  Use of Chain-of-Thought prompting led to more frequent full responses.  This was especially true for the multi-document pipeline, especially when the question needed reasoning across multiple documents.  Without CoT, the LLM frequently tended to reply \"I don't know\".\n",
        "3.  The pdf loaders I tried to use - pypdf and pymupdf - were unable to load tables from the pdf documents.  This may well be an issue with the pdf file format than with the loaders, but it was still an important learning for me."
      ]
    },
    {
      "cell_type": "markdown",
      "metadata": {},
      "source": [
        "## Summary of Key Questions and Areas to Investigate Further"
      ]
    },
    {
      "cell_type": "markdown",
      "metadata": {},
      "source": [
        "1.  Are there \"automated\" ways to verify the accuracy of the responses from a RAG system?  I found it a bit tedious to read through the top-K extracted chunks that were stuffed into the prompt as the context to 'quasi-confirm' if indeed the compiled response was solely based on the context.\n",
        "2.  How do large-scale RAG systems incorporate metadata (e.g., the year corresponding to document, etc.) into the information saved and retrieved?  I used a very simple \"kludgy\" approach of a short piece of text at the start of each chunk, but this (a) does not seem efficient and (b) may not be sufficiently precise in distinguishing the chunk as belonging to a particular year, etc.\n",
        "3.  Is there a way to automatically detect or get a warning when the length of the prompt approaches or exceeds the maximum context length for the LLM?  Is the user required to pre-process each query/context for its length or does the LLM raise a warning if the context length is exceeded?"
      ]
    },
    {
      "cell_type": "markdown",
      "metadata": {},
      "source": []
    }
  ],
  "metadata": {
    "colab": {
      "provenance": []
    },
    "kernelspec": {
      "display_name": "buildyourownlangchain",
      "language": "python",
      "name": "python3"
    },
    "language_info": {
      "codemirror_mode": {
        "name": "ipython",
        "version": 3
      },
      "file_extension": ".py",
      "mimetype": "text/x-python",
      "name": "python",
      "nbconvert_exporter": "python",
      "pygments_lexer": "ipython3",
      "version": "3.11.5"
    },
    "orig_nbformat": 4,
    "widgets": {
      "application/vnd.jupyter.widget-state+json": {
        "1ce393d9afcf427d9d352259c5d32678": {
          "model_module": "@jupyter-widgets/controls",
          "model_module_version": "1.5.0",
          "model_name": "FloatProgressModel",
          "state": {
            "_dom_classes": [],
            "_model_module": "@jupyter-widgets/controls",
            "_model_module_version": "1.5.0",
            "_model_name": "FloatProgressModel",
            "_view_count": null,
            "_view_module": "@jupyter-widgets/controls",
            "_view_module_version": "1.5.0",
            "_view_name": "ProgressView",
            "bar_style": "",
            "description": "",
            "description_tooltip": null,
            "layout": "IPY_MODEL_4e6efd99f7d346e485b002fb0fa85cc7",
            "max": 1,
            "min": 0,
            "orientation": "horizontal",
            "style": "IPY_MODEL_3dfb67c39958461da6071e4c19c3fa41",
            "value": 1
          }
        },
        "3a4ba348cb004f8ab7b2b1395539c81b": {
          "model_module": "@jupyter-widgets/controls",
          "model_module_version": "1.5.0",
          "model_name": "LabelModel",
          "state": {
            "_dom_classes": [],
            "_model_module": "@jupyter-widgets/controls",
            "_model_module_version": "1.5.0",
            "_model_name": "LabelModel",
            "_view_count": null,
            "_view_module": "@jupyter-widgets/controls",
            "_view_module_version": "1.5.0",
            "_view_name": "LabelView",
            "description": "",
            "description_tooltip": null,
            "layout": "IPY_MODEL_d2ea5009dd16442cb5d8a0ac468e50a8",
            "placeholder": "​",
            "style": "IPY_MODEL_5f00135fe1044051a50ee5e841cbb8e3",
            "value": "0.018 MB of 0.018 MB uploaded\r"
          }
        },
        "3dfb67c39958461da6071e4c19c3fa41": {
          "model_module": "@jupyter-widgets/controls",
          "model_module_version": "1.5.0",
          "model_name": "ProgressStyleModel",
          "state": {
            "_model_module": "@jupyter-widgets/controls",
            "_model_module_version": "1.5.0",
            "_model_name": "ProgressStyleModel",
            "_view_count": null,
            "_view_module": "@jupyter-widgets/base",
            "_view_module_version": "1.2.0",
            "_view_name": "StyleView",
            "bar_color": null,
            "description_width": ""
          }
        },
        "4e6efd99f7d346e485b002fb0fa85cc7": {
          "model_module": "@jupyter-widgets/base",
          "model_module_version": "1.2.0",
          "model_name": "LayoutModel",
          "state": {
            "_model_module": "@jupyter-widgets/base",
            "_model_module_version": "1.2.0",
            "_model_name": "LayoutModel",
            "_view_count": null,
            "_view_module": "@jupyter-widgets/base",
            "_view_module_version": "1.2.0",
            "_view_name": "LayoutView",
            "align_content": null,
            "align_items": null,
            "align_self": null,
            "border": null,
            "bottom": null,
            "display": null,
            "flex": null,
            "flex_flow": null,
            "grid_area": null,
            "grid_auto_columns": null,
            "grid_auto_flow": null,
            "grid_auto_rows": null,
            "grid_column": null,
            "grid_gap": null,
            "grid_row": null,
            "grid_template_areas": null,
            "grid_template_columns": null,
            "grid_template_rows": null,
            "height": null,
            "justify_content": null,
            "justify_items": null,
            "left": null,
            "margin": null,
            "max_height": null,
            "max_width": null,
            "min_height": null,
            "min_width": null,
            "object_fit": null,
            "object_position": null,
            "order": null,
            "overflow": null,
            "overflow_x": null,
            "overflow_y": null,
            "padding": null,
            "right": null,
            "top": null,
            "visibility": null,
            "width": null
          }
        },
        "56a8e24025594e5e9ff3b8581c344691": {
          "model_module": "@jupyter-widgets/base",
          "model_module_version": "1.2.0",
          "model_name": "LayoutModel",
          "state": {
            "_model_module": "@jupyter-widgets/base",
            "_model_module_version": "1.2.0",
            "_model_name": "LayoutModel",
            "_view_count": null,
            "_view_module": "@jupyter-widgets/base",
            "_view_module_version": "1.2.0",
            "_view_name": "LayoutView",
            "align_content": null,
            "align_items": null,
            "align_self": null,
            "border": null,
            "bottom": null,
            "display": null,
            "flex": null,
            "flex_flow": null,
            "grid_area": null,
            "grid_auto_columns": null,
            "grid_auto_flow": null,
            "grid_auto_rows": null,
            "grid_column": null,
            "grid_gap": null,
            "grid_row": null,
            "grid_template_areas": null,
            "grid_template_columns": null,
            "grid_template_rows": null,
            "height": null,
            "justify_content": null,
            "justify_items": null,
            "left": null,
            "margin": null,
            "max_height": null,
            "max_width": null,
            "min_height": null,
            "min_width": null,
            "object_fit": null,
            "object_position": null,
            "order": null,
            "overflow": null,
            "overflow_x": null,
            "overflow_y": null,
            "padding": null,
            "right": null,
            "top": null,
            "visibility": null,
            "width": null
          }
        },
        "5f00135fe1044051a50ee5e841cbb8e3": {
          "model_module": "@jupyter-widgets/controls",
          "model_module_version": "1.5.0",
          "model_name": "DescriptionStyleModel",
          "state": {
            "_model_module": "@jupyter-widgets/controls",
            "_model_module_version": "1.5.0",
            "_model_name": "DescriptionStyleModel",
            "_view_count": null,
            "_view_module": "@jupyter-widgets/base",
            "_view_module_version": "1.2.0",
            "_view_name": "StyleView",
            "description_width": ""
          }
        },
        "bb904e05ece143c79ecc4f20de482f45": {
          "model_module": "@jupyter-widgets/controls",
          "model_module_version": "1.5.0",
          "model_name": "VBoxModel",
          "state": {
            "_dom_classes": [],
            "_model_module": "@jupyter-widgets/controls",
            "_model_module_version": "1.5.0",
            "_model_name": "VBoxModel",
            "_view_count": null,
            "_view_module": "@jupyter-widgets/controls",
            "_view_module_version": "1.5.0",
            "_view_name": "VBoxView",
            "box_style": "",
            "children": [
              "IPY_MODEL_3a4ba348cb004f8ab7b2b1395539c81b",
              "IPY_MODEL_1ce393d9afcf427d9d352259c5d32678"
            ],
            "layout": "IPY_MODEL_56a8e24025594e5e9ff3b8581c344691"
          }
        },
        "d2ea5009dd16442cb5d8a0ac468e50a8": {
          "model_module": "@jupyter-widgets/base",
          "model_module_version": "1.2.0",
          "model_name": "LayoutModel",
          "state": {
            "_model_module": "@jupyter-widgets/base",
            "_model_module_version": "1.2.0",
            "_model_name": "LayoutModel",
            "_view_count": null,
            "_view_module": "@jupyter-widgets/base",
            "_view_module_version": "1.2.0",
            "_view_name": "LayoutView",
            "align_content": null,
            "align_items": null,
            "align_self": null,
            "border": null,
            "bottom": null,
            "display": null,
            "flex": null,
            "flex_flow": null,
            "grid_area": null,
            "grid_auto_columns": null,
            "grid_auto_flow": null,
            "grid_auto_rows": null,
            "grid_column": null,
            "grid_gap": null,
            "grid_row": null,
            "grid_template_areas": null,
            "grid_template_columns": null,
            "grid_template_rows": null,
            "height": null,
            "justify_content": null,
            "justify_items": null,
            "left": null,
            "margin": null,
            "max_height": null,
            "max_width": null,
            "min_height": null,
            "min_width": null,
            "object_fit": null,
            "object_position": null,
            "order": null,
            "overflow": null,
            "overflow_x": null,
            "overflow_y": null,
            "padding": null,
            "right": null,
            "top": null,
            "visibility": null,
            "width": null
          }
        }
      }
    }
  },
  "nbformat": 4,
  "nbformat_minor": 0
}
