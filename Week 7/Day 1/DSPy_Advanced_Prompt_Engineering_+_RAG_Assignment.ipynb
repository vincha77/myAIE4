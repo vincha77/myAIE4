{
  "nbformat": 4,
  "nbformat_minor": 0,
  "metadata": {
    "colab": {
      "provenance": [],
      "collapsed_sections": [
        "KbQ26BmM5M-a"
      ],
      "toc_visible": true
    },
    "kernelspec": {
      "name": "python3",
      "display_name": "Python 3"
    },
    "language_info": {
      "name": "python"
    },
    "widgets": {
      "application/vnd.jupyter.widget-state+json": {
        "ddc89690926542edb21e18d21b38f290": {
          "model_module": "@jupyter-widgets/controls",
          "model_name": "HBoxModel",
          "model_module_version": "1.5.0",
          "state": {
            "_dom_classes": [],
            "_model_module": "@jupyter-widgets/controls",
            "_model_module_version": "1.5.0",
            "_model_name": "HBoxModel",
            "_view_count": null,
            "_view_module": "@jupyter-widgets/controls",
            "_view_module_version": "1.5.0",
            "_view_name": "HBoxView",
            "box_style": "",
            "children": [
              "IPY_MODEL_c9a5e98ac1c0439184a25156faccafa4",
              "IPY_MODEL_3cc62e51c0054391a97285041effb9eb",
              "IPY_MODEL_157f2e32d4d64b0f97fce8dd6b6c0aa0"
            ],
            "layout": "IPY_MODEL_e9f68cc27b0447edbf869c2b574561d3"
          }
        },
        "c9a5e98ac1c0439184a25156faccafa4": {
          "model_module": "@jupyter-widgets/controls",
          "model_name": "HTMLModel",
          "model_module_version": "1.5.0",
          "state": {
            "_dom_classes": [],
            "_model_module": "@jupyter-widgets/controls",
            "_model_module_version": "1.5.0",
            "_model_name": "HTMLModel",
            "_view_count": null,
            "_view_module": "@jupyter-widgets/controls",
            "_view_module_version": "1.5.0",
            "_view_name": "HTMLView",
            "description": "",
            "description_tooltip": null,
            "layout": "IPY_MODEL_f582823133e742fd97c493b13ad6725a",
            "placeholder": "​",
            "style": "IPY_MODEL_3fabea11413045bc855b15f67a19295b",
            "value": "hotpot_qa.py: 100%"
          }
        },
        "3cc62e51c0054391a97285041effb9eb": {
          "model_module": "@jupyter-widgets/controls",
          "model_name": "FloatProgressModel",
          "model_module_version": "1.5.0",
          "state": {
            "_dom_classes": [],
            "_model_module": "@jupyter-widgets/controls",
            "_model_module_version": "1.5.0",
            "_model_name": "FloatProgressModel",
            "_view_count": null,
            "_view_module": "@jupyter-widgets/controls",
            "_view_module_version": "1.5.0",
            "_view_name": "ProgressView",
            "bar_style": "success",
            "description": "",
            "description_tooltip": null,
            "layout": "IPY_MODEL_a6b6a55df9e54f4e8a78b60be2d6b428",
            "max": 6422,
            "min": 0,
            "orientation": "horizontal",
            "style": "IPY_MODEL_bfdd211fe3254acebc8055c64d860df4",
            "value": 6422
          }
        },
        "157f2e32d4d64b0f97fce8dd6b6c0aa0": {
          "model_module": "@jupyter-widgets/controls",
          "model_name": "HTMLModel",
          "model_module_version": "1.5.0",
          "state": {
            "_dom_classes": [],
            "_model_module": "@jupyter-widgets/controls",
            "_model_module_version": "1.5.0",
            "_model_name": "HTMLModel",
            "_view_count": null,
            "_view_module": "@jupyter-widgets/controls",
            "_view_module_version": "1.5.0",
            "_view_name": "HTMLView",
            "description": "",
            "description_tooltip": null,
            "layout": "IPY_MODEL_13a65abc2df041a883bbb5eed0e52b5f",
            "placeholder": "​",
            "style": "IPY_MODEL_46706fe76314427dadc2ace6cd08298f",
            "value": " 6.42k/6.42k [00:00&lt;00:00, 290kB/s]"
          }
        },
        "e9f68cc27b0447edbf869c2b574561d3": {
          "model_module": "@jupyter-widgets/base",
          "model_name": "LayoutModel",
          "model_module_version": "1.2.0",
          "state": {
            "_model_module": "@jupyter-widgets/base",
            "_model_module_version": "1.2.0",
            "_model_name": "LayoutModel",
            "_view_count": null,
            "_view_module": "@jupyter-widgets/base",
            "_view_module_version": "1.2.0",
            "_view_name": "LayoutView",
            "align_content": null,
            "align_items": null,
            "align_self": null,
            "border": null,
            "bottom": null,
            "display": null,
            "flex": null,
            "flex_flow": null,
            "grid_area": null,
            "grid_auto_columns": null,
            "grid_auto_flow": null,
            "grid_auto_rows": null,
            "grid_column": null,
            "grid_gap": null,
            "grid_row": null,
            "grid_template_areas": null,
            "grid_template_columns": null,
            "grid_template_rows": null,
            "height": null,
            "justify_content": null,
            "justify_items": null,
            "left": null,
            "margin": null,
            "max_height": null,
            "max_width": null,
            "min_height": null,
            "min_width": null,
            "object_fit": null,
            "object_position": null,
            "order": null,
            "overflow": null,
            "overflow_x": null,
            "overflow_y": null,
            "padding": null,
            "right": null,
            "top": null,
            "visibility": null,
            "width": null
          }
        },
        "f582823133e742fd97c493b13ad6725a": {
          "model_module": "@jupyter-widgets/base",
          "model_name": "LayoutModel",
          "model_module_version": "1.2.0",
          "state": {
            "_model_module": "@jupyter-widgets/base",
            "_model_module_version": "1.2.0",
            "_model_name": "LayoutModel",
            "_view_count": null,
            "_view_module": "@jupyter-widgets/base",
            "_view_module_version": "1.2.0",
            "_view_name": "LayoutView",
            "align_content": null,
            "align_items": null,
            "align_self": null,
            "border": null,
            "bottom": null,
            "display": null,
            "flex": null,
            "flex_flow": null,
            "grid_area": null,
            "grid_auto_columns": null,
            "grid_auto_flow": null,
            "grid_auto_rows": null,
            "grid_column": null,
            "grid_gap": null,
            "grid_row": null,
            "grid_template_areas": null,
            "grid_template_columns": null,
            "grid_template_rows": null,
            "height": null,
            "justify_content": null,
            "justify_items": null,
            "left": null,
            "margin": null,
            "max_height": null,
            "max_width": null,
            "min_height": null,
            "min_width": null,
            "object_fit": null,
            "object_position": null,
            "order": null,
            "overflow": null,
            "overflow_x": null,
            "overflow_y": null,
            "padding": null,
            "right": null,
            "top": null,
            "visibility": null,
            "width": null
          }
        },
        "3fabea11413045bc855b15f67a19295b": {
          "model_module": "@jupyter-widgets/controls",
          "model_name": "DescriptionStyleModel",
          "model_module_version": "1.5.0",
          "state": {
            "_model_module": "@jupyter-widgets/controls",
            "_model_module_version": "1.5.0",
            "_model_name": "DescriptionStyleModel",
            "_view_count": null,
            "_view_module": "@jupyter-widgets/base",
            "_view_module_version": "1.2.0",
            "_view_name": "StyleView",
            "description_width": ""
          }
        },
        "a6b6a55df9e54f4e8a78b60be2d6b428": {
          "model_module": "@jupyter-widgets/base",
          "model_name": "LayoutModel",
          "model_module_version": "1.2.0",
          "state": {
            "_model_module": "@jupyter-widgets/base",
            "_model_module_version": "1.2.0",
            "_model_name": "LayoutModel",
            "_view_count": null,
            "_view_module": "@jupyter-widgets/base",
            "_view_module_version": "1.2.0",
            "_view_name": "LayoutView",
            "align_content": null,
            "align_items": null,
            "align_self": null,
            "border": null,
            "bottom": null,
            "display": null,
            "flex": null,
            "flex_flow": null,
            "grid_area": null,
            "grid_auto_columns": null,
            "grid_auto_flow": null,
            "grid_auto_rows": null,
            "grid_column": null,
            "grid_gap": null,
            "grid_row": null,
            "grid_template_areas": null,
            "grid_template_columns": null,
            "grid_template_rows": null,
            "height": null,
            "justify_content": null,
            "justify_items": null,
            "left": null,
            "margin": null,
            "max_height": null,
            "max_width": null,
            "min_height": null,
            "min_width": null,
            "object_fit": null,
            "object_position": null,
            "order": null,
            "overflow": null,
            "overflow_x": null,
            "overflow_y": null,
            "padding": null,
            "right": null,
            "top": null,
            "visibility": null,
            "width": null
          }
        },
        "bfdd211fe3254acebc8055c64d860df4": {
          "model_module": "@jupyter-widgets/controls",
          "model_name": "ProgressStyleModel",
          "model_module_version": "1.5.0",
          "state": {
            "_model_module": "@jupyter-widgets/controls",
            "_model_module_version": "1.5.0",
            "_model_name": "ProgressStyleModel",
            "_view_count": null,
            "_view_module": "@jupyter-widgets/base",
            "_view_module_version": "1.2.0",
            "_view_name": "StyleView",
            "bar_color": null,
            "description_width": ""
          }
        },
        "13a65abc2df041a883bbb5eed0e52b5f": {
          "model_module": "@jupyter-widgets/base",
          "model_name": "LayoutModel",
          "model_module_version": "1.2.0",
          "state": {
            "_model_module": "@jupyter-widgets/base",
            "_model_module_version": "1.2.0",
            "_model_name": "LayoutModel",
            "_view_count": null,
            "_view_module": "@jupyter-widgets/base",
            "_view_module_version": "1.2.0",
            "_view_name": "LayoutView",
            "align_content": null,
            "align_items": null,
            "align_self": null,
            "border": null,
            "bottom": null,
            "display": null,
            "flex": null,
            "flex_flow": null,
            "grid_area": null,
            "grid_auto_columns": null,
            "grid_auto_flow": null,
            "grid_auto_rows": null,
            "grid_column": null,
            "grid_gap": null,
            "grid_row": null,
            "grid_template_areas": null,
            "grid_template_columns": null,
            "grid_template_rows": null,
            "height": null,
            "justify_content": null,
            "justify_items": null,
            "left": null,
            "margin": null,
            "max_height": null,
            "max_width": null,
            "min_height": null,
            "min_width": null,
            "object_fit": null,
            "object_position": null,
            "order": null,
            "overflow": null,
            "overflow_x": null,
            "overflow_y": null,
            "padding": null,
            "right": null,
            "top": null,
            "visibility": null,
            "width": null
          }
        },
        "46706fe76314427dadc2ace6cd08298f": {
          "model_module": "@jupyter-widgets/controls",
          "model_name": "DescriptionStyleModel",
          "model_module_version": "1.5.0",
          "state": {
            "_model_module": "@jupyter-widgets/controls",
            "_model_module_version": "1.5.0",
            "_model_name": "DescriptionStyleModel",
            "_view_count": null,
            "_view_module": "@jupyter-widgets/base",
            "_view_module_version": "1.2.0",
            "_view_name": "StyleView",
            "description_width": ""
          }
        },
        "cccb6cb145144b4dbc1193a3ad038da6": {
          "model_module": "@jupyter-widgets/controls",
          "model_name": "HBoxModel",
          "model_module_version": "1.5.0",
          "state": {
            "_dom_classes": [],
            "_model_module": "@jupyter-widgets/controls",
            "_model_module_version": "1.5.0",
            "_model_name": "HBoxModel",
            "_view_count": null,
            "_view_module": "@jupyter-widgets/controls",
            "_view_module_version": "1.5.0",
            "_view_name": "HBoxView",
            "box_style": "",
            "children": [
              "IPY_MODEL_ef9741e6c7294731a93322a729722a70",
              "IPY_MODEL_7fe72ab9ede74cc99fe65d4661711878",
              "IPY_MODEL_aa094cc9d2de43628f9c5d84e912cc28"
            ],
            "layout": "IPY_MODEL_439d0a0aa2ee45a596ffb818f7e9aba7"
          }
        },
        "ef9741e6c7294731a93322a729722a70": {
          "model_module": "@jupyter-widgets/controls",
          "model_name": "HTMLModel",
          "model_module_version": "1.5.0",
          "state": {
            "_dom_classes": [],
            "_model_module": "@jupyter-widgets/controls",
            "_model_module_version": "1.5.0",
            "_model_name": "HTMLModel",
            "_view_count": null,
            "_view_module": "@jupyter-widgets/controls",
            "_view_module_version": "1.5.0",
            "_view_name": "HTMLView",
            "description": "",
            "description_tooltip": null,
            "layout": "IPY_MODEL_67d1745c64aa4b84ae3ee9af9913300d",
            "placeholder": "​",
            "style": "IPY_MODEL_9c17831856c9468db0a509757dad7bab",
            "value": "README.md: 100%"
          }
        },
        "7fe72ab9ede74cc99fe65d4661711878": {
          "model_module": "@jupyter-widgets/controls",
          "model_name": "FloatProgressModel",
          "model_module_version": "1.5.0",
          "state": {
            "_dom_classes": [],
            "_model_module": "@jupyter-widgets/controls",
            "_model_module_version": "1.5.0",
            "_model_name": "FloatProgressModel",
            "_view_count": null,
            "_view_module": "@jupyter-widgets/controls",
            "_view_module_version": "1.5.0",
            "_view_name": "ProgressView",
            "bar_style": "success",
            "description": "",
            "description_tooltip": null,
            "layout": "IPY_MODEL_287f9d25fd2b4067ac2cceab564582ad",
            "max": 9193,
            "min": 0,
            "orientation": "horizontal",
            "style": "IPY_MODEL_b3a0943acee3465f8b8a17022e5377e4",
            "value": 9193
          }
        },
        "aa094cc9d2de43628f9c5d84e912cc28": {
          "model_module": "@jupyter-widgets/controls",
          "model_name": "HTMLModel",
          "model_module_version": "1.5.0",
          "state": {
            "_dom_classes": [],
            "_model_module": "@jupyter-widgets/controls",
            "_model_module_version": "1.5.0",
            "_model_name": "HTMLModel",
            "_view_count": null,
            "_view_module": "@jupyter-widgets/controls",
            "_view_module_version": "1.5.0",
            "_view_name": "HTMLView",
            "description": "",
            "description_tooltip": null,
            "layout": "IPY_MODEL_7e2b681cdc6a4bdc9fe8960f0716075b",
            "placeholder": "​",
            "style": "IPY_MODEL_d21d239a8cd4400b9987c0d8f67e9e6a",
            "value": " 9.19k/9.19k [00:00&lt;00:00, 322kB/s]"
          }
        },
        "439d0a0aa2ee45a596ffb818f7e9aba7": {
          "model_module": "@jupyter-widgets/base",
          "model_name": "LayoutModel",
          "model_module_version": "1.2.0",
          "state": {
            "_model_module": "@jupyter-widgets/base",
            "_model_module_version": "1.2.0",
            "_model_name": "LayoutModel",
            "_view_count": null,
            "_view_module": "@jupyter-widgets/base",
            "_view_module_version": "1.2.0",
            "_view_name": "LayoutView",
            "align_content": null,
            "align_items": null,
            "align_self": null,
            "border": null,
            "bottom": null,
            "display": null,
            "flex": null,
            "flex_flow": null,
            "grid_area": null,
            "grid_auto_columns": null,
            "grid_auto_flow": null,
            "grid_auto_rows": null,
            "grid_column": null,
            "grid_gap": null,
            "grid_row": null,
            "grid_template_areas": null,
            "grid_template_columns": null,
            "grid_template_rows": null,
            "height": null,
            "justify_content": null,
            "justify_items": null,
            "left": null,
            "margin": null,
            "max_height": null,
            "max_width": null,
            "min_height": null,
            "min_width": null,
            "object_fit": null,
            "object_position": null,
            "order": null,
            "overflow": null,
            "overflow_x": null,
            "overflow_y": null,
            "padding": null,
            "right": null,
            "top": null,
            "visibility": null,
            "width": null
          }
        },
        "67d1745c64aa4b84ae3ee9af9913300d": {
          "model_module": "@jupyter-widgets/base",
          "model_name": "LayoutModel",
          "model_module_version": "1.2.0",
          "state": {
            "_model_module": "@jupyter-widgets/base",
            "_model_module_version": "1.2.0",
            "_model_name": "LayoutModel",
            "_view_count": null,
            "_view_module": "@jupyter-widgets/base",
            "_view_module_version": "1.2.0",
            "_view_name": "LayoutView",
            "align_content": null,
            "align_items": null,
            "align_self": null,
            "border": null,
            "bottom": null,
            "display": null,
            "flex": null,
            "flex_flow": null,
            "grid_area": null,
            "grid_auto_columns": null,
            "grid_auto_flow": null,
            "grid_auto_rows": null,
            "grid_column": null,
            "grid_gap": null,
            "grid_row": null,
            "grid_template_areas": null,
            "grid_template_columns": null,
            "grid_template_rows": null,
            "height": null,
            "justify_content": null,
            "justify_items": null,
            "left": null,
            "margin": null,
            "max_height": null,
            "max_width": null,
            "min_height": null,
            "min_width": null,
            "object_fit": null,
            "object_position": null,
            "order": null,
            "overflow": null,
            "overflow_x": null,
            "overflow_y": null,
            "padding": null,
            "right": null,
            "top": null,
            "visibility": null,
            "width": null
          }
        },
        "9c17831856c9468db0a509757dad7bab": {
          "model_module": "@jupyter-widgets/controls",
          "model_name": "DescriptionStyleModel",
          "model_module_version": "1.5.0",
          "state": {
            "_model_module": "@jupyter-widgets/controls",
            "_model_module_version": "1.5.0",
            "_model_name": "DescriptionStyleModel",
            "_view_count": null,
            "_view_module": "@jupyter-widgets/base",
            "_view_module_version": "1.2.0",
            "_view_name": "StyleView",
            "description_width": ""
          }
        },
        "287f9d25fd2b4067ac2cceab564582ad": {
          "model_module": "@jupyter-widgets/base",
          "model_name": "LayoutModel",
          "model_module_version": "1.2.0",
          "state": {
            "_model_module": "@jupyter-widgets/base",
            "_model_module_version": "1.2.0",
            "_model_name": "LayoutModel",
            "_view_count": null,
            "_view_module": "@jupyter-widgets/base",
            "_view_module_version": "1.2.0",
            "_view_name": "LayoutView",
            "align_content": null,
            "align_items": null,
            "align_self": null,
            "border": null,
            "bottom": null,
            "display": null,
            "flex": null,
            "flex_flow": null,
            "grid_area": null,
            "grid_auto_columns": null,
            "grid_auto_flow": null,
            "grid_auto_rows": null,
            "grid_column": null,
            "grid_gap": null,
            "grid_row": null,
            "grid_template_areas": null,
            "grid_template_columns": null,
            "grid_template_rows": null,
            "height": null,
            "justify_content": null,
            "justify_items": null,
            "left": null,
            "margin": null,
            "max_height": null,
            "max_width": null,
            "min_height": null,
            "min_width": null,
            "object_fit": null,
            "object_position": null,
            "order": null,
            "overflow": null,
            "overflow_x": null,
            "overflow_y": null,
            "padding": null,
            "right": null,
            "top": null,
            "visibility": null,
            "width": null
          }
        },
        "b3a0943acee3465f8b8a17022e5377e4": {
          "model_module": "@jupyter-widgets/controls",
          "model_name": "ProgressStyleModel",
          "model_module_version": "1.5.0",
          "state": {
            "_model_module": "@jupyter-widgets/controls",
            "_model_module_version": "1.5.0",
            "_model_name": "ProgressStyleModel",
            "_view_count": null,
            "_view_module": "@jupyter-widgets/base",
            "_view_module_version": "1.2.0",
            "_view_name": "StyleView",
            "bar_color": null,
            "description_width": ""
          }
        },
        "7e2b681cdc6a4bdc9fe8960f0716075b": {
          "model_module": "@jupyter-widgets/base",
          "model_name": "LayoutModel",
          "model_module_version": "1.2.0",
          "state": {
            "_model_module": "@jupyter-widgets/base",
            "_model_module_version": "1.2.0",
            "_model_name": "LayoutModel",
            "_view_count": null,
            "_view_module": "@jupyter-widgets/base",
            "_view_module_version": "1.2.0",
            "_view_name": "LayoutView",
            "align_content": null,
            "align_items": null,
            "align_self": null,
            "border": null,
            "bottom": null,
            "display": null,
            "flex": null,
            "flex_flow": null,
            "grid_area": null,
            "grid_auto_columns": null,
            "grid_auto_flow": null,
            "grid_auto_rows": null,
            "grid_column": null,
            "grid_gap": null,
            "grid_row": null,
            "grid_template_areas": null,
            "grid_template_columns": null,
            "grid_template_rows": null,
            "height": null,
            "justify_content": null,
            "justify_items": null,
            "left": null,
            "margin": null,
            "max_height": null,
            "max_width": null,
            "min_height": null,
            "min_width": null,
            "object_fit": null,
            "object_position": null,
            "order": null,
            "overflow": null,
            "overflow_x": null,
            "overflow_y": null,
            "padding": null,
            "right": null,
            "top": null,
            "visibility": null,
            "width": null
          }
        },
        "d21d239a8cd4400b9987c0d8f67e9e6a": {
          "model_module": "@jupyter-widgets/controls",
          "model_name": "DescriptionStyleModel",
          "model_module_version": "1.5.0",
          "state": {
            "_model_module": "@jupyter-widgets/controls",
            "_model_module_version": "1.5.0",
            "_model_name": "DescriptionStyleModel",
            "_view_count": null,
            "_view_module": "@jupyter-widgets/base",
            "_view_module_version": "1.2.0",
            "_view_name": "StyleView",
            "description_width": ""
          }
        },
        "8095e6b1e63f435f8cca916f3e006ad6": {
          "model_module": "@jupyter-widgets/controls",
          "model_name": "HBoxModel",
          "model_module_version": "1.5.0",
          "state": {
            "_dom_classes": [],
            "_model_module": "@jupyter-widgets/controls",
            "_model_module_version": "1.5.0",
            "_model_name": "HBoxModel",
            "_view_count": null,
            "_view_module": "@jupyter-widgets/controls",
            "_view_module_version": "1.5.0",
            "_view_name": "HBoxView",
            "box_style": "",
            "children": [
              "IPY_MODEL_068bac62fba641dfbcbd5c3196ff7340",
              "IPY_MODEL_a15e6f0872ef42b0b3dbb911d8230e38",
              "IPY_MODEL_114148a5f6604d3b884979d817e0de14"
            ],
            "layout": "IPY_MODEL_a44728f29e1a4ac1be943dea32b4f523"
          }
        },
        "068bac62fba641dfbcbd5c3196ff7340": {
          "model_module": "@jupyter-widgets/controls",
          "model_name": "HTMLModel",
          "model_module_version": "1.5.0",
          "state": {
            "_dom_classes": [],
            "_model_module": "@jupyter-widgets/controls",
            "_model_module_version": "1.5.0",
            "_model_name": "HTMLModel",
            "_view_count": null,
            "_view_module": "@jupyter-widgets/controls",
            "_view_module_version": "1.5.0",
            "_view_name": "HTMLView",
            "description": "",
            "description_tooltip": null,
            "layout": "IPY_MODEL_53b4ac424fb64014ba31b3a2a23d115d",
            "placeholder": "​",
            "style": "IPY_MODEL_d493a94b45e043cb9160bfa1c8551034",
            "value": "Downloading data: 100%"
          }
        },
        "a15e6f0872ef42b0b3dbb911d8230e38": {
          "model_module": "@jupyter-widgets/controls",
          "model_name": "FloatProgressModel",
          "model_module_version": "1.5.0",
          "state": {
            "_dom_classes": [],
            "_model_module": "@jupyter-widgets/controls",
            "_model_module_version": "1.5.0",
            "_model_name": "FloatProgressModel",
            "_view_count": null,
            "_view_module": "@jupyter-widgets/controls",
            "_view_module_version": "1.5.0",
            "_view_name": "ProgressView",
            "bar_style": "success",
            "description": "",
            "description_tooltip": null,
            "layout": "IPY_MODEL_0f19dcbac295409eb34c344398253185",
            "max": 566426227,
            "min": 0,
            "orientation": "horizontal",
            "style": "IPY_MODEL_6b836b589fec4ebaaf87cf8e09231188",
            "value": 566426227
          }
        },
        "114148a5f6604d3b884979d817e0de14": {
          "model_module": "@jupyter-widgets/controls",
          "model_name": "HTMLModel",
          "model_module_version": "1.5.0",
          "state": {
            "_dom_classes": [],
            "_model_module": "@jupyter-widgets/controls",
            "_model_module_version": "1.5.0",
            "_model_name": "HTMLModel",
            "_view_count": null,
            "_view_module": "@jupyter-widgets/controls",
            "_view_module_version": "1.5.0",
            "_view_name": "HTMLView",
            "description": "",
            "description_tooltip": null,
            "layout": "IPY_MODEL_99d0d381e9a04abfa13f7d77c545fd4e",
            "placeholder": "​",
            "style": "IPY_MODEL_e4252456e5e64ffcb8b878cd8e91fccd",
            "value": " 566M/566M [00:14&lt;00:00, 51.1MB/s]"
          }
        },
        "a44728f29e1a4ac1be943dea32b4f523": {
          "model_module": "@jupyter-widgets/base",
          "model_name": "LayoutModel",
          "model_module_version": "1.2.0",
          "state": {
            "_model_module": "@jupyter-widgets/base",
            "_model_module_version": "1.2.0",
            "_model_name": "LayoutModel",
            "_view_count": null,
            "_view_module": "@jupyter-widgets/base",
            "_view_module_version": "1.2.0",
            "_view_name": "LayoutView",
            "align_content": null,
            "align_items": null,
            "align_self": null,
            "border": null,
            "bottom": null,
            "display": null,
            "flex": null,
            "flex_flow": null,
            "grid_area": null,
            "grid_auto_columns": null,
            "grid_auto_flow": null,
            "grid_auto_rows": null,
            "grid_column": null,
            "grid_gap": null,
            "grid_row": null,
            "grid_template_areas": null,
            "grid_template_columns": null,
            "grid_template_rows": null,
            "height": null,
            "justify_content": null,
            "justify_items": null,
            "left": null,
            "margin": null,
            "max_height": null,
            "max_width": null,
            "min_height": null,
            "min_width": null,
            "object_fit": null,
            "object_position": null,
            "order": null,
            "overflow": null,
            "overflow_x": null,
            "overflow_y": null,
            "padding": null,
            "right": null,
            "top": null,
            "visibility": null,
            "width": null
          }
        },
        "53b4ac424fb64014ba31b3a2a23d115d": {
          "model_module": "@jupyter-widgets/base",
          "model_name": "LayoutModel",
          "model_module_version": "1.2.0",
          "state": {
            "_model_module": "@jupyter-widgets/base",
            "_model_module_version": "1.2.0",
            "_model_name": "LayoutModel",
            "_view_count": null,
            "_view_module": "@jupyter-widgets/base",
            "_view_module_version": "1.2.0",
            "_view_name": "LayoutView",
            "align_content": null,
            "align_items": null,
            "align_self": null,
            "border": null,
            "bottom": null,
            "display": null,
            "flex": null,
            "flex_flow": null,
            "grid_area": null,
            "grid_auto_columns": null,
            "grid_auto_flow": null,
            "grid_auto_rows": null,
            "grid_column": null,
            "grid_gap": null,
            "grid_row": null,
            "grid_template_areas": null,
            "grid_template_columns": null,
            "grid_template_rows": null,
            "height": null,
            "justify_content": null,
            "justify_items": null,
            "left": null,
            "margin": null,
            "max_height": null,
            "max_width": null,
            "min_height": null,
            "min_width": null,
            "object_fit": null,
            "object_position": null,
            "order": null,
            "overflow": null,
            "overflow_x": null,
            "overflow_y": null,
            "padding": null,
            "right": null,
            "top": null,
            "visibility": null,
            "width": null
          }
        },
        "d493a94b45e043cb9160bfa1c8551034": {
          "model_module": "@jupyter-widgets/controls",
          "model_name": "DescriptionStyleModel",
          "model_module_version": "1.5.0",
          "state": {
            "_model_module": "@jupyter-widgets/controls",
            "_model_module_version": "1.5.0",
            "_model_name": "DescriptionStyleModel",
            "_view_count": null,
            "_view_module": "@jupyter-widgets/base",
            "_view_module_version": "1.2.0",
            "_view_name": "StyleView",
            "description_width": ""
          }
        },
        "0f19dcbac295409eb34c344398253185": {
          "model_module": "@jupyter-widgets/base",
          "model_name": "LayoutModel",
          "model_module_version": "1.2.0",
          "state": {
            "_model_module": "@jupyter-widgets/base",
            "_model_module_version": "1.2.0",
            "_model_name": "LayoutModel",
            "_view_count": null,
            "_view_module": "@jupyter-widgets/base",
            "_view_module_version": "1.2.0",
            "_view_name": "LayoutView",
            "align_content": null,
            "align_items": null,
            "align_self": null,
            "border": null,
            "bottom": null,
            "display": null,
            "flex": null,
            "flex_flow": null,
            "grid_area": null,
            "grid_auto_columns": null,
            "grid_auto_flow": null,
            "grid_auto_rows": null,
            "grid_column": null,
            "grid_gap": null,
            "grid_row": null,
            "grid_template_areas": null,
            "grid_template_columns": null,
            "grid_template_rows": null,
            "height": null,
            "justify_content": null,
            "justify_items": null,
            "left": null,
            "margin": null,
            "max_height": null,
            "max_width": null,
            "min_height": null,
            "min_width": null,
            "object_fit": null,
            "object_position": null,
            "order": null,
            "overflow": null,
            "overflow_x": null,
            "overflow_y": null,
            "padding": null,
            "right": null,
            "top": null,
            "visibility": null,
            "width": null
          }
        },
        "6b836b589fec4ebaaf87cf8e09231188": {
          "model_module": "@jupyter-widgets/controls",
          "model_name": "ProgressStyleModel",
          "model_module_version": "1.5.0",
          "state": {
            "_model_module": "@jupyter-widgets/controls",
            "_model_module_version": "1.5.0",
            "_model_name": "ProgressStyleModel",
            "_view_count": null,
            "_view_module": "@jupyter-widgets/base",
            "_view_module_version": "1.2.0",
            "_view_name": "StyleView",
            "bar_color": null,
            "description_width": ""
          }
        },
        "99d0d381e9a04abfa13f7d77c545fd4e": {
          "model_module": "@jupyter-widgets/base",
          "model_name": "LayoutModel",
          "model_module_version": "1.2.0",
          "state": {
            "_model_module": "@jupyter-widgets/base",
            "_model_module_version": "1.2.0",
            "_model_name": "LayoutModel",
            "_view_count": null,
            "_view_module": "@jupyter-widgets/base",
            "_view_module_version": "1.2.0",
            "_view_name": "LayoutView",
            "align_content": null,
            "align_items": null,
            "align_self": null,
            "border": null,
            "bottom": null,
            "display": null,
            "flex": null,
            "flex_flow": null,
            "grid_area": null,
            "grid_auto_columns": null,
            "grid_auto_flow": null,
            "grid_auto_rows": null,
            "grid_column": null,
            "grid_gap": null,
            "grid_row": null,
            "grid_template_areas": null,
            "grid_template_columns": null,
            "grid_template_rows": null,
            "height": null,
            "justify_content": null,
            "justify_items": null,
            "left": null,
            "margin": null,
            "max_height": null,
            "max_width": null,
            "min_height": null,
            "min_width": null,
            "object_fit": null,
            "object_position": null,
            "order": null,
            "overflow": null,
            "overflow_x": null,
            "overflow_y": null,
            "padding": null,
            "right": null,
            "top": null,
            "visibility": null,
            "width": null
          }
        },
        "e4252456e5e64ffcb8b878cd8e91fccd": {
          "model_module": "@jupyter-widgets/controls",
          "model_name": "DescriptionStyleModel",
          "model_module_version": "1.5.0",
          "state": {
            "_model_module": "@jupyter-widgets/controls",
            "_model_module_version": "1.5.0",
            "_model_name": "DescriptionStyleModel",
            "_view_count": null,
            "_view_module": "@jupyter-widgets/base",
            "_view_module_version": "1.2.0",
            "_view_name": "StyleView",
            "description_width": ""
          }
        },
        "04ed1e19a0804e43a57c24237d8bf39b": {
          "model_module": "@jupyter-widgets/controls",
          "model_name": "HBoxModel",
          "model_module_version": "1.5.0",
          "state": {
            "_dom_classes": [],
            "_model_module": "@jupyter-widgets/controls",
            "_model_module_version": "1.5.0",
            "_model_name": "HBoxModel",
            "_view_count": null,
            "_view_module": "@jupyter-widgets/controls",
            "_view_module_version": "1.5.0",
            "_view_name": "HBoxView",
            "box_style": "",
            "children": [
              "IPY_MODEL_40bce611191f458ea7cb46c377772aaf",
              "IPY_MODEL_b2ee20a1a0304a53ad2fb0f255eaa238",
              "IPY_MODEL_65d95352e3734b888baf328f43052059"
            ],
            "layout": "IPY_MODEL_fa46867bccfa46a99776ef6860efcad5"
          }
        },
        "40bce611191f458ea7cb46c377772aaf": {
          "model_module": "@jupyter-widgets/controls",
          "model_name": "HTMLModel",
          "model_module_version": "1.5.0",
          "state": {
            "_dom_classes": [],
            "_model_module": "@jupyter-widgets/controls",
            "_model_module_version": "1.5.0",
            "_model_name": "HTMLModel",
            "_view_count": null,
            "_view_module": "@jupyter-widgets/controls",
            "_view_module_version": "1.5.0",
            "_view_name": "HTMLView",
            "description": "",
            "description_tooltip": null,
            "layout": "IPY_MODEL_b6bda1a7494144b2a33f90d388904cb1",
            "placeholder": "​",
            "style": "IPY_MODEL_7489ab1143944c04a43852be97abf167",
            "value": "Downloading data: 100%"
          }
        },
        "b2ee20a1a0304a53ad2fb0f255eaa238": {
          "model_module": "@jupyter-widgets/controls",
          "model_name": "FloatProgressModel",
          "model_module_version": "1.5.0",
          "state": {
            "_dom_classes": [],
            "_model_module": "@jupyter-widgets/controls",
            "_model_module_version": "1.5.0",
            "_model_name": "FloatProgressModel",
            "_view_count": null,
            "_view_module": "@jupyter-widgets/controls",
            "_view_module_version": "1.5.0",
            "_view_name": "ProgressView",
            "bar_style": "success",
            "description": "",
            "description_tooltip": null,
            "layout": "IPY_MODEL_7602ef16a6cd47ea99437b7169309bf5",
            "max": 47454698,
            "min": 0,
            "orientation": "horizontal",
            "style": "IPY_MODEL_c5074a2d505e4ec3bbdeda7fd102d136",
            "value": 47454698
          }
        },
        "65d95352e3734b888baf328f43052059": {
          "model_module": "@jupyter-widgets/controls",
          "model_name": "HTMLModel",
          "model_module_version": "1.5.0",
          "state": {
            "_dom_classes": [],
            "_model_module": "@jupyter-widgets/controls",
            "_model_module_version": "1.5.0",
            "_model_name": "HTMLModel",
            "_view_count": null,
            "_view_module": "@jupyter-widgets/controls",
            "_view_module_version": "1.5.0",
            "_view_name": "HTMLView",
            "description": "",
            "description_tooltip": null,
            "layout": "IPY_MODEL_210d4c7b54194dde94b537fe4241121b",
            "placeholder": "​",
            "style": "IPY_MODEL_b5470ceb8e7549e182922046553ebe14",
            "value": " 47.5M/47.5M [00:00&lt;00:00, 46.5MB/s]"
          }
        },
        "fa46867bccfa46a99776ef6860efcad5": {
          "model_module": "@jupyter-widgets/base",
          "model_name": "LayoutModel",
          "model_module_version": "1.2.0",
          "state": {
            "_model_module": "@jupyter-widgets/base",
            "_model_module_version": "1.2.0",
            "_model_name": "LayoutModel",
            "_view_count": null,
            "_view_module": "@jupyter-widgets/base",
            "_view_module_version": "1.2.0",
            "_view_name": "LayoutView",
            "align_content": null,
            "align_items": null,
            "align_self": null,
            "border": null,
            "bottom": null,
            "display": null,
            "flex": null,
            "flex_flow": null,
            "grid_area": null,
            "grid_auto_columns": null,
            "grid_auto_flow": null,
            "grid_auto_rows": null,
            "grid_column": null,
            "grid_gap": null,
            "grid_row": null,
            "grid_template_areas": null,
            "grid_template_columns": null,
            "grid_template_rows": null,
            "height": null,
            "justify_content": null,
            "justify_items": null,
            "left": null,
            "margin": null,
            "max_height": null,
            "max_width": null,
            "min_height": null,
            "min_width": null,
            "object_fit": null,
            "object_position": null,
            "order": null,
            "overflow": null,
            "overflow_x": null,
            "overflow_y": null,
            "padding": null,
            "right": null,
            "top": null,
            "visibility": null,
            "width": null
          }
        },
        "b6bda1a7494144b2a33f90d388904cb1": {
          "model_module": "@jupyter-widgets/base",
          "model_name": "LayoutModel",
          "model_module_version": "1.2.0",
          "state": {
            "_model_module": "@jupyter-widgets/base",
            "_model_module_version": "1.2.0",
            "_model_name": "LayoutModel",
            "_view_count": null,
            "_view_module": "@jupyter-widgets/base",
            "_view_module_version": "1.2.0",
            "_view_name": "LayoutView",
            "align_content": null,
            "align_items": null,
            "align_self": null,
            "border": null,
            "bottom": null,
            "display": null,
            "flex": null,
            "flex_flow": null,
            "grid_area": null,
            "grid_auto_columns": null,
            "grid_auto_flow": null,
            "grid_auto_rows": null,
            "grid_column": null,
            "grid_gap": null,
            "grid_row": null,
            "grid_template_areas": null,
            "grid_template_columns": null,
            "grid_template_rows": null,
            "height": null,
            "justify_content": null,
            "justify_items": null,
            "left": null,
            "margin": null,
            "max_height": null,
            "max_width": null,
            "min_height": null,
            "min_width": null,
            "object_fit": null,
            "object_position": null,
            "order": null,
            "overflow": null,
            "overflow_x": null,
            "overflow_y": null,
            "padding": null,
            "right": null,
            "top": null,
            "visibility": null,
            "width": null
          }
        },
        "7489ab1143944c04a43852be97abf167": {
          "model_module": "@jupyter-widgets/controls",
          "model_name": "DescriptionStyleModel",
          "model_module_version": "1.5.0",
          "state": {
            "_model_module": "@jupyter-widgets/controls",
            "_model_module_version": "1.5.0",
            "_model_name": "DescriptionStyleModel",
            "_view_count": null,
            "_view_module": "@jupyter-widgets/base",
            "_view_module_version": "1.2.0",
            "_view_name": "StyleView",
            "description_width": ""
          }
        },
        "7602ef16a6cd47ea99437b7169309bf5": {
          "model_module": "@jupyter-widgets/base",
          "model_name": "LayoutModel",
          "model_module_version": "1.2.0",
          "state": {
            "_model_module": "@jupyter-widgets/base",
            "_model_module_version": "1.2.0",
            "_model_name": "LayoutModel",
            "_view_count": null,
            "_view_module": "@jupyter-widgets/base",
            "_view_module_version": "1.2.0",
            "_view_name": "LayoutView",
            "align_content": null,
            "align_items": null,
            "align_self": null,
            "border": null,
            "bottom": null,
            "display": null,
            "flex": null,
            "flex_flow": null,
            "grid_area": null,
            "grid_auto_columns": null,
            "grid_auto_flow": null,
            "grid_auto_rows": null,
            "grid_column": null,
            "grid_gap": null,
            "grid_row": null,
            "grid_template_areas": null,
            "grid_template_columns": null,
            "grid_template_rows": null,
            "height": null,
            "justify_content": null,
            "justify_items": null,
            "left": null,
            "margin": null,
            "max_height": null,
            "max_width": null,
            "min_height": null,
            "min_width": null,
            "object_fit": null,
            "object_position": null,
            "order": null,
            "overflow": null,
            "overflow_x": null,
            "overflow_y": null,
            "padding": null,
            "right": null,
            "top": null,
            "visibility": null,
            "width": null
          }
        },
        "c5074a2d505e4ec3bbdeda7fd102d136": {
          "model_module": "@jupyter-widgets/controls",
          "model_name": "ProgressStyleModel",
          "model_module_version": "1.5.0",
          "state": {
            "_model_module": "@jupyter-widgets/controls",
            "_model_module_version": "1.5.0",
            "_model_name": "ProgressStyleModel",
            "_view_count": null,
            "_view_module": "@jupyter-widgets/base",
            "_view_module_version": "1.2.0",
            "_view_name": "StyleView",
            "bar_color": null,
            "description_width": ""
          }
        },
        "210d4c7b54194dde94b537fe4241121b": {
          "model_module": "@jupyter-widgets/base",
          "model_name": "LayoutModel",
          "model_module_version": "1.2.0",
          "state": {
            "_model_module": "@jupyter-widgets/base",
            "_model_module_version": "1.2.0",
            "_model_name": "LayoutModel",
            "_view_count": null,
            "_view_module": "@jupyter-widgets/base",
            "_view_module_version": "1.2.0",
            "_view_name": "LayoutView",
            "align_content": null,
            "align_items": null,
            "align_self": null,
            "border": null,
            "bottom": null,
            "display": null,
            "flex": null,
            "flex_flow": null,
            "grid_area": null,
            "grid_auto_columns": null,
            "grid_auto_flow": null,
            "grid_auto_rows": null,
            "grid_column": null,
            "grid_gap": null,
            "grid_row": null,
            "grid_template_areas": null,
            "grid_template_columns": null,
            "grid_template_rows": null,
            "height": null,
            "justify_content": null,
            "justify_items": null,
            "left": null,
            "margin": null,
            "max_height": null,
            "max_width": null,
            "min_height": null,
            "min_width": null,
            "object_fit": null,
            "object_position": null,
            "order": null,
            "overflow": null,
            "overflow_x": null,
            "overflow_y": null,
            "padding": null,
            "right": null,
            "top": null,
            "visibility": null,
            "width": null
          }
        },
        "b5470ceb8e7549e182922046553ebe14": {
          "model_module": "@jupyter-widgets/controls",
          "model_name": "DescriptionStyleModel",
          "model_module_version": "1.5.0",
          "state": {
            "_model_module": "@jupyter-widgets/controls",
            "_model_module_version": "1.5.0",
            "_model_name": "DescriptionStyleModel",
            "_view_count": null,
            "_view_module": "@jupyter-widgets/base",
            "_view_module_version": "1.2.0",
            "_view_name": "StyleView",
            "description_width": ""
          }
        },
        "ea13eefe1e5146c1b0efaf6daea9836d": {
          "model_module": "@jupyter-widgets/controls",
          "model_name": "HBoxModel",
          "model_module_version": "1.5.0",
          "state": {
            "_dom_classes": [],
            "_model_module": "@jupyter-widgets/controls",
            "_model_module_version": "1.5.0",
            "_model_name": "HBoxModel",
            "_view_count": null,
            "_view_module": "@jupyter-widgets/controls",
            "_view_module_version": "1.5.0",
            "_view_name": "HBoxView",
            "box_style": "",
            "children": [
              "IPY_MODEL_a73e7ea4421a48caaabee0d52dd9b587",
              "IPY_MODEL_b3b02e6442fb404794e71927d1f51193",
              "IPY_MODEL_bfff80779eec4b5892db0bffc21b51dc"
            ],
            "layout": "IPY_MODEL_ef61094d96b947fbb6eae94525f26de4"
          }
        },
        "a73e7ea4421a48caaabee0d52dd9b587": {
          "model_module": "@jupyter-widgets/controls",
          "model_name": "HTMLModel",
          "model_module_version": "1.5.0",
          "state": {
            "_dom_classes": [],
            "_model_module": "@jupyter-widgets/controls",
            "_model_module_version": "1.5.0",
            "_model_name": "HTMLModel",
            "_view_count": null,
            "_view_module": "@jupyter-widgets/controls",
            "_view_module_version": "1.5.0",
            "_view_name": "HTMLView",
            "description": "",
            "description_tooltip": null,
            "layout": "IPY_MODEL_6a175e0b70904ad38ae51a34b1e45213",
            "placeholder": "​",
            "style": "IPY_MODEL_aad65fcec3914434b3426c4642525fdb",
            "value": "Downloading data: 100%"
          }
        },
        "b3b02e6442fb404794e71927d1f51193": {
          "model_module": "@jupyter-widgets/controls",
          "model_name": "FloatProgressModel",
          "model_module_version": "1.5.0",
          "state": {
            "_dom_classes": [],
            "_model_module": "@jupyter-widgets/controls",
            "_model_module_version": "1.5.0",
            "_model_name": "FloatProgressModel",
            "_view_count": null,
            "_view_module": "@jupyter-widgets/controls",
            "_view_module_version": "1.5.0",
            "_view_name": "ProgressView",
            "bar_style": "success",
            "description": "",
            "description_tooltip": null,
            "layout": "IPY_MODEL_8368607ff6a245d28651cb836f69f4ce",
            "max": 46213747,
            "min": 0,
            "orientation": "horizontal",
            "style": "IPY_MODEL_ea18f461695c46929f5e460171076f78",
            "value": 46213747
          }
        },
        "bfff80779eec4b5892db0bffc21b51dc": {
          "model_module": "@jupyter-widgets/controls",
          "model_name": "HTMLModel",
          "model_module_version": "1.5.0",
          "state": {
            "_dom_classes": [],
            "_model_module": "@jupyter-widgets/controls",
            "_model_module_version": "1.5.0",
            "_model_name": "HTMLModel",
            "_view_count": null,
            "_view_module": "@jupyter-widgets/controls",
            "_view_module_version": "1.5.0",
            "_view_name": "HTMLView",
            "description": "",
            "description_tooltip": null,
            "layout": "IPY_MODEL_67e6d1b2ee2c4848ab2d970eab619ba8",
            "placeholder": "​",
            "style": "IPY_MODEL_332e15773ba849e19240cc8445fdb8a0",
            "value": " 46.2M/46.2M [00:01&lt;00:00, 48.1MB/s]"
          }
        },
        "ef61094d96b947fbb6eae94525f26de4": {
          "model_module": "@jupyter-widgets/base",
          "model_name": "LayoutModel",
          "model_module_version": "1.2.0",
          "state": {
            "_model_module": "@jupyter-widgets/base",
            "_model_module_version": "1.2.0",
            "_model_name": "LayoutModel",
            "_view_count": null,
            "_view_module": "@jupyter-widgets/base",
            "_view_module_version": "1.2.0",
            "_view_name": "LayoutView",
            "align_content": null,
            "align_items": null,
            "align_self": null,
            "border": null,
            "bottom": null,
            "display": null,
            "flex": null,
            "flex_flow": null,
            "grid_area": null,
            "grid_auto_columns": null,
            "grid_auto_flow": null,
            "grid_auto_rows": null,
            "grid_column": null,
            "grid_gap": null,
            "grid_row": null,
            "grid_template_areas": null,
            "grid_template_columns": null,
            "grid_template_rows": null,
            "height": null,
            "justify_content": null,
            "justify_items": null,
            "left": null,
            "margin": null,
            "max_height": null,
            "max_width": null,
            "min_height": null,
            "min_width": null,
            "object_fit": null,
            "object_position": null,
            "order": null,
            "overflow": null,
            "overflow_x": null,
            "overflow_y": null,
            "padding": null,
            "right": null,
            "top": null,
            "visibility": null,
            "width": null
          }
        },
        "6a175e0b70904ad38ae51a34b1e45213": {
          "model_module": "@jupyter-widgets/base",
          "model_name": "LayoutModel",
          "model_module_version": "1.2.0",
          "state": {
            "_model_module": "@jupyter-widgets/base",
            "_model_module_version": "1.2.0",
            "_model_name": "LayoutModel",
            "_view_count": null,
            "_view_module": "@jupyter-widgets/base",
            "_view_module_version": "1.2.0",
            "_view_name": "LayoutView",
            "align_content": null,
            "align_items": null,
            "align_self": null,
            "border": null,
            "bottom": null,
            "display": null,
            "flex": null,
            "flex_flow": null,
            "grid_area": null,
            "grid_auto_columns": null,
            "grid_auto_flow": null,
            "grid_auto_rows": null,
            "grid_column": null,
            "grid_gap": null,
            "grid_row": null,
            "grid_template_areas": null,
            "grid_template_columns": null,
            "grid_template_rows": null,
            "height": null,
            "justify_content": null,
            "justify_items": null,
            "left": null,
            "margin": null,
            "max_height": null,
            "max_width": null,
            "min_height": null,
            "min_width": null,
            "object_fit": null,
            "object_position": null,
            "order": null,
            "overflow": null,
            "overflow_x": null,
            "overflow_y": null,
            "padding": null,
            "right": null,
            "top": null,
            "visibility": null,
            "width": null
          }
        },
        "aad65fcec3914434b3426c4642525fdb": {
          "model_module": "@jupyter-widgets/controls",
          "model_name": "DescriptionStyleModel",
          "model_module_version": "1.5.0",
          "state": {
            "_model_module": "@jupyter-widgets/controls",
            "_model_module_version": "1.5.0",
            "_model_name": "DescriptionStyleModel",
            "_view_count": null,
            "_view_module": "@jupyter-widgets/base",
            "_view_module_version": "1.2.0",
            "_view_name": "StyleView",
            "description_width": ""
          }
        },
        "8368607ff6a245d28651cb836f69f4ce": {
          "model_module": "@jupyter-widgets/base",
          "model_name": "LayoutModel",
          "model_module_version": "1.2.0",
          "state": {
            "_model_module": "@jupyter-widgets/base",
            "_model_module_version": "1.2.0",
            "_model_name": "LayoutModel",
            "_view_count": null,
            "_view_module": "@jupyter-widgets/base",
            "_view_module_version": "1.2.0",
            "_view_name": "LayoutView",
            "align_content": null,
            "align_items": null,
            "align_self": null,
            "border": null,
            "bottom": null,
            "display": null,
            "flex": null,
            "flex_flow": null,
            "grid_area": null,
            "grid_auto_columns": null,
            "grid_auto_flow": null,
            "grid_auto_rows": null,
            "grid_column": null,
            "grid_gap": null,
            "grid_row": null,
            "grid_template_areas": null,
            "grid_template_columns": null,
            "grid_template_rows": null,
            "height": null,
            "justify_content": null,
            "justify_items": null,
            "left": null,
            "margin": null,
            "max_height": null,
            "max_width": null,
            "min_height": null,
            "min_width": null,
            "object_fit": null,
            "object_position": null,
            "order": null,
            "overflow": null,
            "overflow_x": null,
            "overflow_y": null,
            "padding": null,
            "right": null,
            "top": null,
            "visibility": null,
            "width": null
          }
        },
        "ea18f461695c46929f5e460171076f78": {
          "model_module": "@jupyter-widgets/controls",
          "model_name": "ProgressStyleModel",
          "model_module_version": "1.5.0",
          "state": {
            "_model_module": "@jupyter-widgets/controls",
            "_model_module_version": "1.5.0",
            "_model_name": "ProgressStyleModel",
            "_view_count": null,
            "_view_module": "@jupyter-widgets/base",
            "_view_module_version": "1.2.0",
            "_view_name": "StyleView",
            "bar_color": null,
            "description_width": ""
          }
        },
        "67e6d1b2ee2c4848ab2d970eab619ba8": {
          "model_module": "@jupyter-widgets/base",
          "model_name": "LayoutModel",
          "model_module_version": "1.2.0",
          "state": {
            "_model_module": "@jupyter-widgets/base",
            "_model_module_version": "1.2.0",
            "_model_name": "LayoutModel",
            "_view_count": null,
            "_view_module": "@jupyter-widgets/base",
            "_view_module_version": "1.2.0",
            "_view_name": "LayoutView",
            "align_content": null,
            "align_items": null,
            "align_self": null,
            "border": null,
            "bottom": null,
            "display": null,
            "flex": null,
            "flex_flow": null,
            "grid_area": null,
            "grid_auto_columns": null,
            "grid_auto_flow": null,
            "grid_auto_rows": null,
            "grid_column": null,
            "grid_gap": null,
            "grid_row": null,
            "grid_template_areas": null,
            "grid_template_columns": null,
            "grid_template_rows": null,
            "height": null,
            "justify_content": null,
            "justify_items": null,
            "left": null,
            "margin": null,
            "max_height": null,
            "max_width": null,
            "min_height": null,
            "min_width": null,
            "object_fit": null,
            "object_position": null,
            "order": null,
            "overflow": null,
            "overflow_x": null,
            "overflow_y": null,
            "padding": null,
            "right": null,
            "top": null,
            "visibility": null,
            "width": null
          }
        },
        "332e15773ba849e19240cc8445fdb8a0": {
          "model_module": "@jupyter-widgets/controls",
          "model_name": "DescriptionStyleModel",
          "model_module_version": "1.5.0",
          "state": {
            "_model_module": "@jupyter-widgets/controls",
            "_model_module_version": "1.5.0",
            "_model_name": "DescriptionStyleModel",
            "_view_count": null,
            "_view_module": "@jupyter-widgets/base",
            "_view_module_version": "1.2.0",
            "_view_name": "StyleView",
            "description_width": ""
          }
        },
        "9c6ef46097514ed9bbfd47bdda092428": {
          "model_module": "@jupyter-widgets/controls",
          "model_name": "HBoxModel",
          "model_module_version": "1.5.0",
          "state": {
            "_dom_classes": [],
            "_model_module": "@jupyter-widgets/controls",
            "_model_module_version": "1.5.0",
            "_model_name": "HBoxModel",
            "_view_count": null,
            "_view_module": "@jupyter-widgets/controls",
            "_view_module_version": "1.5.0",
            "_view_name": "HBoxView",
            "box_style": "",
            "children": [
              "IPY_MODEL_eaa63f930e1b42cab7f023a7269adbfd",
              "IPY_MODEL_929627c2c12b494a970a680ba02afa13",
              "IPY_MODEL_a1b4ff4c4a914ae8b5b9022ca62859fb"
            ],
            "layout": "IPY_MODEL_18249fe85f49463591078ace65faadc6"
          }
        },
        "eaa63f930e1b42cab7f023a7269adbfd": {
          "model_module": "@jupyter-widgets/controls",
          "model_name": "HTMLModel",
          "model_module_version": "1.5.0",
          "state": {
            "_dom_classes": [],
            "_model_module": "@jupyter-widgets/controls",
            "_model_module_version": "1.5.0",
            "_model_name": "HTMLModel",
            "_view_count": null,
            "_view_module": "@jupyter-widgets/controls",
            "_view_module_version": "1.5.0",
            "_view_name": "HTMLView",
            "description": "",
            "description_tooltip": null,
            "layout": "IPY_MODEL_52076f7a4bac47cfb3a65c9757694908",
            "placeholder": "​",
            "style": "IPY_MODEL_19ef5ad5902d43b38a2fce37391800ea",
            "value": "Generating train split: 100%"
          }
        },
        "929627c2c12b494a970a680ba02afa13": {
          "model_module": "@jupyter-widgets/controls",
          "model_name": "FloatProgressModel",
          "model_module_version": "1.5.0",
          "state": {
            "_dom_classes": [],
            "_model_module": "@jupyter-widgets/controls",
            "_model_module_version": "1.5.0",
            "_model_name": "FloatProgressModel",
            "_view_count": null,
            "_view_module": "@jupyter-widgets/controls",
            "_view_module_version": "1.5.0",
            "_view_name": "ProgressView",
            "bar_style": "success",
            "description": "",
            "description_tooltip": null,
            "layout": "IPY_MODEL_0302a171e46b464abe17d81469b0594c",
            "max": 90447,
            "min": 0,
            "orientation": "horizontal",
            "style": "IPY_MODEL_28ee5df360274ac698d8b48462d70fe2",
            "value": 90447
          }
        },
        "a1b4ff4c4a914ae8b5b9022ca62859fb": {
          "model_module": "@jupyter-widgets/controls",
          "model_name": "HTMLModel",
          "model_module_version": "1.5.0",
          "state": {
            "_dom_classes": [],
            "_model_module": "@jupyter-widgets/controls",
            "_model_module_version": "1.5.0",
            "_model_name": "HTMLModel",
            "_view_count": null,
            "_view_module": "@jupyter-widgets/controls",
            "_view_module_version": "1.5.0",
            "_view_name": "HTMLView",
            "description": "",
            "description_tooltip": null,
            "layout": "IPY_MODEL_957992fd850d4775ad9c54e41e77fdd8",
            "placeholder": "​",
            "style": "IPY_MODEL_6bc764919f624e44b55a55fd6a3f8c4d",
            "value": " 90447/90447 [00:54&lt;00:00, 3076.72 examples/s]"
          }
        },
        "18249fe85f49463591078ace65faadc6": {
          "model_module": "@jupyter-widgets/base",
          "model_name": "LayoutModel",
          "model_module_version": "1.2.0",
          "state": {
            "_model_module": "@jupyter-widgets/base",
            "_model_module_version": "1.2.0",
            "_model_name": "LayoutModel",
            "_view_count": null,
            "_view_module": "@jupyter-widgets/base",
            "_view_module_version": "1.2.0",
            "_view_name": "LayoutView",
            "align_content": null,
            "align_items": null,
            "align_self": null,
            "border": null,
            "bottom": null,
            "display": null,
            "flex": null,
            "flex_flow": null,
            "grid_area": null,
            "grid_auto_columns": null,
            "grid_auto_flow": null,
            "grid_auto_rows": null,
            "grid_column": null,
            "grid_gap": null,
            "grid_row": null,
            "grid_template_areas": null,
            "grid_template_columns": null,
            "grid_template_rows": null,
            "height": null,
            "justify_content": null,
            "justify_items": null,
            "left": null,
            "margin": null,
            "max_height": null,
            "max_width": null,
            "min_height": null,
            "min_width": null,
            "object_fit": null,
            "object_position": null,
            "order": null,
            "overflow": null,
            "overflow_x": null,
            "overflow_y": null,
            "padding": null,
            "right": null,
            "top": null,
            "visibility": null,
            "width": null
          }
        },
        "52076f7a4bac47cfb3a65c9757694908": {
          "model_module": "@jupyter-widgets/base",
          "model_name": "LayoutModel",
          "model_module_version": "1.2.0",
          "state": {
            "_model_module": "@jupyter-widgets/base",
            "_model_module_version": "1.2.0",
            "_model_name": "LayoutModel",
            "_view_count": null,
            "_view_module": "@jupyter-widgets/base",
            "_view_module_version": "1.2.0",
            "_view_name": "LayoutView",
            "align_content": null,
            "align_items": null,
            "align_self": null,
            "border": null,
            "bottom": null,
            "display": null,
            "flex": null,
            "flex_flow": null,
            "grid_area": null,
            "grid_auto_columns": null,
            "grid_auto_flow": null,
            "grid_auto_rows": null,
            "grid_column": null,
            "grid_gap": null,
            "grid_row": null,
            "grid_template_areas": null,
            "grid_template_columns": null,
            "grid_template_rows": null,
            "height": null,
            "justify_content": null,
            "justify_items": null,
            "left": null,
            "margin": null,
            "max_height": null,
            "max_width": null,
            "min_height": null,
            "min_width": null,
            "object_fit": null,
            "object_position": null,
            "order": null,
            "overflow": null,
            "overflow_x": null,
            "overflow_y": null,
            "padding": null,
            "right": null,
            "top": null,
            "visibility": null,
            "width": null
          }
        },
        "19ef5ad5902d43b38a2fce37391800ea": {
          "model_module": "@jupyter-widgets/controls",
          "model_name": "DescriptionStyleModel",
          "model_module_version": "1.5.0",
          "state": {
            "_model_module": "@jupyter-widgets/controls",
            "_model_module_version": "1.5.0",
            "_model_name": "DescriptionStyleModel",
            "_view_count": null,
            "_view_module": "@jupyter-widgets/base",
            "_view_module_version": "1.2.0",
            "_view_name": "StyleView",
            "description_width": ""
          }
        },
        "0302a171e46b464abe17d81469b0594c": {
          "model_module": "@jupyter-widgets/base",
          "model_name": "LayoutModel",
          "model_module_version": "1.2.0",
          "state": {
            "_model_module": "@jupyter-widgets/base",
            "_model_module_version": "1.2.0",
            "_model_name": "LayoutModel",
            "_view_count": null,
            "_view_module": "@jupyter-widgets/base",
            "_view_module_version": "1.2.0",
            "_view_name": "LayoutView",
            "align_content": null,
            "align_items": null,
            "align_self": null,
            "border": null,
            "bottom": null,
            "display": null,
            "flex": null,
            "flex_flow": null,
            "grid_area": null,
            "grid_auto_columns": null,
            "grid_auto_flow": null,
            "grid_auto_rows": null,
            "grid_column": null,
            "grid_gap": null,
            "grid_row": null,
            "grid_template_areas": null,
            "grid_template_columns": null,
            "grid_template_rows": null,
            "height": null,
            "justify_content": null,
            "justify_items": null,
            "left": null,
            "margin": null,
            "max_height": null,
            "max_width": null,
            "min_height": null,
            "min_width": null,
            "object_fit": null,
            "object_position": null,
            "order": null,
            "overflow": null,
            "overflow_x": null,
            "overflow_y": null,
            "padding": null,
            "right": null,
            "top": null,
            "visibility": null,
            "width": null
          }
        },
        "28ee5df360274ac698d8b48462d70fe2": {
          "model_module": "@jupyter-widgets/controls",
          "model_name": "ProgressStyleModel",
          "model_module_version": "1.5.0",
          "state": {
            "_model_module": "@jupyter-widgets/controls",
            "_model_module_version": "1.5.0",
            "_model_name": "ProgressStyleModel",
            "_view_count": null,
            "_view_module": "@jupyter-widgets/base",
            "_view_module_version": "1.2.0",
            "_view_name": "StyleView",
            "bar_color": null,
            "description_width": ""
          }
        },
        "957992fd850d4775ad9c54e41e77fdd8": {
          "model_module": "@jupyter-widgets/base",
          "model_name": "LayoutModel",
          "model_module_version": "1.2.0",
          "state": {
            "_model_module": "@jupyter-widgets/base",
            "_model_module_version": "1.2.0",
            "_model_name": "LayoutModel",
            "_view_count": null,
            "_view_module": "@jupyter-widgets/base",
            "_view_module_version": "1.2.0",
            "_view_name": "LayoutView",
            "align_content": null,
            "align_items": null,
            "align_self": null,
            "border": null,
            "bottom": null,
            "display": null,
            "flex": null,
            "flex_flow": null,
            "grid_area": null,
            "grid_auto_columns": null,
            "grid_auto_flow": null,
            "grid_auto_rows": null,
            "grid_column": null,
            "grid_gap": null,
            "grid_row": null,
            "grid_template_areas": null,
            "grid_template_columns": null,
            "grid_template_rows": null,
            "height": null,
            "justify_content": null,
            "justify_items": null,
            "left": null,
            "margin": null,
            "max_height": null,
            "max_width": null,
            "min_height": null,
            "min_width": null,
            "object_fit": null,
            "object_position": null,
            "order": null,
            "overflow": null,
            "overflow_x": null,
            "overflow_y": null,
            "padding": null,
            "right": null,
            "top": null,
            "visibility": null,
            "width": null
          }
        },
        "6bc764919f624e44b55a55fd6a3f8c4d": {
          "model_module": "@jupyter-widgets/controls",
          "model_name": "DescriptionStyleModel",
          "model_module_version": "1.5.0",
          "state": {
            "_model_module": "@jupyter-widgets/controls",
            "_model_module_version": "1.5.0",
            "_model_name": "DescriptionStyleModel",
            "_view_count": null,
            "_view_module": "@jupyter-widgets/base",
            "_view_module_version": "1.2.0",
            "_view_name": "StyleView",
            "description_width": ""
          }
        },
        "4ebace7f52db461faf6e8f130bde035d": {
          "model_module": "@jupyter-widgets/controls",
          "model_name": "HBoxModel",
          "model_module_version": "1.5.0",
          "state": {
            "_dom_classes": [],
            "_model_module": "@jupyter-widgets/controls",
            "_model_module_version": "1.5.0",
            "_model_name": "HBoxModel",
            "_view_count": null,
            "_view_module": "@jupyter-widgets/controls",
            "_view_module_version": "1.5.0",
            "_view_name": "HBoxView",
            "box_style": "",
            "children": [
              "IPY_MODEL_0eea145cf3254a5c83ab0da961cf4def",
              "IPY_MODEL_819092066aac4d7d8a5e51d56fb04539",
              "IPY_MODEL_67fafbee75954a389a6d18b5b9fb1db4"
            ],
            "layout": "IPY_MODEL_ba1fb3d2e0444db7aadd5e36d0ee3554"
          }
        },
        "0eea145cf3254a5c83ab0da961cf4def": {
          "model_module": "@jupyter-widgets/controls",
          "model_name": "HTMLModel",
          "model_module_version": "1.5.0",
          "state": {
            "_dom_classes": [],
            "_model_module": "@jupyter-widgets/controls",
            "_model_module_version": "1.5.0",
            "_model_name": "HTMLModel",
            "_view_count": null,
            "_view_module": "@jupyter-widgets/controls",
            "_view_module_version": "1.5.0",
            "_view_name": "HTMLView",
            "description": "",
            "description_tooltip": null,
            "layout": "IPY_MODEL_aea86595dc1240df892fa61d2cb08b9f",
            "placeholder": "​",
            "style": "IPY_MODEL_07ef69ac580e43f19cf1b5ce479e3a6d",
            "value": "Generating validation split: 100%"
          }
        },
        "819092066aac4d7d8a5e51d56fb04539": {
          "model_module": "@jupyter-widgets/controls",
          "model_name": "FloatProgressModel",
          "model_module_version": "1.5.0",
          "state": {
            "_dom_classes": [],
            "_model_module": "@jupyter-widgets/controls",
            "_model_module_version": "1.5.0",
            "_model_name": "FloatProgressModel",
            "_view_count": null,
            "_view_module": "@jupyter-widgets/controls",
            "_view_module_version": "1.5.0",
            "_view_name": "ProgressView",
            "bar_style": "success",
            "description": "",
            "description_tooltip": null,
            "layout": "IPY_MODEL_6f29c0d47e6e44428e7507bd2096d595",
            "max": 7405,
            "min": 0,
            "orientation": "horizontal",
            "style": "IPY_MODEL_ce41c10f3b084a3b8a85c4f5773204fe",
            "value": 7405
          }
        },
        "67fafbee75954a389a6d18b5b9fb1db4": {
          "model_module": "@jupyter-widgets/controls",
          "model_name": "HTMLModel",
          "model_module_version": "1.5.0",
          "state": {
            "_dom_classes": [],
            "_model_module": "@jupyter-widgets/controls",
            "_model_module_version": "1.5.0",
            "_model_name": "HTMLModel",
            "_view_count": null,
            "_view_module": "@jupyter-widgets/controls",
            "_view_module_version": "1.5.0",
            "_view_name": "HTMLView",
            "description": "",
            "description_tooltip": null,
            "layout": "IPY_MODEL_3f80665ab98b4c028258ce6f54cef756",
            "placeholder": "​",
            "style": "IPY_MODEL_2918717a6b0c48a5b51f86ae538955b1",
            "value": " 7405/7405 [00:03&lt;00:00, 2789.89 examples/s]"
          }
        },
        "ba1fb3d2e0444db7aadd5e36d0ee3554": {
          "model_module": "@jupyter-widgets/base",
          "model_name": "LayoutModel",
          "model_module_version": "1.2.0",
          "state": {
            "_model_module": "@jupyter-widgets/base",
            "_model_module_version": "1.2.0",
            "_model_name": "LayoutModel",
            "_view_count": null,
            "_view_module": "@jupyter-widgets/base",
            "_view_module_version": "1.2.0",
            "_view_name": "LayoutView",
            "align_content": null,
            "align_items": null,
            "align_self": null,
            "border": null,
            "bottom": null,
            "display": null,
            "flex": null,
            "flex_flow": null,
            "grid_area": null,
            "grid_auto_columns": null,
            "grid_auto_flow": null,
            "grid_auto_rows": null,
            "grid_column": null,
            "grid_gap": null,
            "grid_row": null,
            "grid_template_areas": null,
            "grid_template_columns": null,
            "grid_template_rows": null,
            "height": null,
            "justify_content": null,
            "justify_items": null,
            "left": null,
            "margin": null,
            "max_height": null,
            "max_width": null,
            "min_height": null,
            "min_width": null,
            "object_fit": null,
            "object_position": null,
            "order": null,
            "overflow": null,
            "overflow_x": null,
            "overflow_y": null,
            "padding": null,
            "right": null,
            "top": null,
            "visibility": null,
            "width": null
          }
        },
        "aea86595dc1240df892fa61d2cb08b9f": {
          "model_module": "@jupyter-widgets/base",
          "model_name": "LayoutModel",
          "model_module_version": "1.2.0",
          "state": {
            "_model_module": "@jupyter-widgets/base",
            "_model_module_version": "1.2.0",
            "_model_name": "LayoutModel",
            "_view_count": null,
            "_view_module": "@jupyter-widgets/base",
            "_view_module_version": "1.2.0",
            "_view_name": "LayoutView",
            "align_content": null,
            "align_items": null,
            "align_self": null,
            "border": null,
            "bottom": null,
            "display": null,
            "flex": null,
            "flex_flow": null,
            "grid_area": null,
            "grid_auto_columns": null,
            "grid_auto_flow": null,
            "grid_auto_rows": null,
            "grid_column": null,
            "grid_gap": null,
            "grid_row": null,
            "grid_template_areas": null,
            "grid_template_columns": null,
            "grid_template_rows": null,
            "height": null,
            "justify_content": null,
            "justify_items": null,
            "left": null,
            "margin": null,
            "max_height": null,
            "max_width": null,
            "min_height": null,
            "min_width": null,
            "object_fit": null,
            "object_position": null,
            "order": null,
            "overflow": null,
            "overflow_x": null,
            "overflow_y": null,
            "padding": null,
            "right": null,
            "top": null,
            "visibility": null,
            "width": null
          }
        },
        "07ef69ac580e43f19cf1b5ce479e3a6d": {
          "model_module": "@jupyter-widgets/controls",
          "model_name": "DescriptionStyleModel",
          "model_module_version": "1.5.0",
          "state": {
            "_model_module": "@jupyter-widgets/controls",
            "_model_module_version": "1.5.0",
            "_model_name": "DescriptionStyleModel",
            "_view_count": null,
            "_view_module": "@jupyter-widgets/base",
            "_view_module_version": "1.2.0",
            "_view_name": "StyleView",
            "description_width": ""
          }
        },
        "6f29c0d47e6e44428e7507bd2096d595": {
          "model_module": "@jupyter-widgets/base",
          "model_name": "LayoutModel",
          "model_module_version": "1.2.0",
          "state": {
            "_model_module": "@jupyter-widgets/base",
            "_model_module_version": "1.2.0",
            "_model_name": "LayoutModel",
            "_view_count": null,
            "_view_module": "@jupyter-widgets/base",
            "_view_module_version": "1.2.0",
            "_view_name": "LayoutView",
            "align_content": null,
            "align_items": null,
            "align_self": null,
            "border": null,
            "bottom": null,
            "display": null,
            "flex": null,
            "flex_flow": null,
            "grid_area": null,
            "grid_auto_columns": null,
            "grid_auto_flow": null,
            "grid_auto_rows": null,
            "grid_column": null,
            "grid_gap": null,
            "grid_row": null,
            "grid_template_areas": null,
            "grid_template_columns": null,
            "grid_template_rows": null,
            "height": null,
            "justify_content": null,
            "justify_items": null,
            "left": null,
            "margin": null,
            "max_height": null,
            "max_width": null,
            "min_height": null,
            "min_width": null,
            "object_fit": null,
            "object_position": null,
            "order": null,
            "overflow": null,
            "overflow_x": null,
            "overflow_y": null,
            "padding": null,
            "right": null,
            "top": null,
            "visibility": null,
            "width": null
          }
        },
        "ce41c10f3b084a3b8a85c4f5773204fe": {
          "model_module": "@jupyter-widgets/controls",
          "model_name": "ProgressStyleModel",
          "model_module_version": "1.5.0",
          "state": {
            "_model_module": "@jupyter-widgets/controls",
            "_model_module_version": "1.5.0",
            "_model_name": "ProgressStyleModel",
            "_view_count": null,
            "_view_module": "@jupyter-widgets/base",
            "_view_module_version": "1.2.0",
            "_view_name": "StyleView",
            "bar_color": null,
            "description_width": ""
          }
        },
        "3f80665ab98b4c028258ce6f54cef756": {
          "model_module": "@jupyter-widgets/base",
          "model_name": "LayoutModel",
          "model_module_version": "1.2.0",
          "state": {
            "_model_module": "@jupyter-widgets/base",
            "_model_module_version": "1.2.0",
            "_model_name": "LayoutModel",
            "_view_count": null,
            "_view_module": "@jupyter-widgets/base",
            "_view_module_version": "1.2.0",
            "_view_name": "LayoutView",
            "align_content": null,
            "align_items": null,
            "align_self": null,
            "border": null,
            "bottom": null,
            "display": null,
            "flex": null,
            "flex_flow": null,
            "grid_area": null,
            "grid_auto_columns": null,
            "grid_auto_flow": null,
            "grid_auto_rows": null,
            "grid_column": null,
            "grid_gap": null,
            "grid_row": null,
            "grid_template_areas": null,
            "grid_template_columns": null,
            "grid_template_rows": null,
            "height": null,
            "justify_content": null,
            "justify_items": null,
            "left": null,
            "margin": null,
            "max_height": null,
            "max_width": null,
            "min_height": null,
            "min_width": null,
            "object_fit": null,
            "object_position": null,
            "order": null,
            "overflow": null,
            "overflow_x": null,
            "overflow_y": null,
            "padding": null,
            "right": null,
            "top": null,
            "visibility": null,
            "width": null
          }
        },
        "2918717a6b0c48a5b51f86ae538955b1": {
          "model_module": "@jupyter-widgets/controls",
          "model_name": "DescriptionStyleModel",
          "model_module_version": "1.5.0",
          "state": {
            "_model_module": "@jupyter-widgets/controls",
            "_model_module_version": "1.5.0",
            "_model_name": "DescriptionStyleModel",
            "_view_count": null,
            "_view_module": "@jupyter-widgets/base",
            "_view_module_version": "1.2.0",
            "_view_name": "StyleView",
            "description_width": ""
          }
        },
        "b6222ce0ab55472c803f1e588b2094d1": {
          "model_module": "@jupyter-widgets/controls",
          "model_name": "HBoxModel",
          "model_module_version": "1.5.0",
          "state": {
            "_dom_classes": [],
            "_model_module": "@jupyter-widgets/controls",
            "_model_module_version": "1.5.0",
            "_model_name": "HBoxModel",
            "_view_count": null,
            "_view_module": "@jupyter-widgets/controls",
            "_view_module_version": "1.5.0",
            "_view_name": "HBoxView",
            "box_style": "",
            "children": [
              "IPY_MODEL_37aa6d1288f64fe48404a0225d057f90",
              "IPY_MODEL_1b61b7277cfc4b93b00ae0d5e912672a",
              "IPY_MODEL_18ec38fb829f489e9f70ec1a99b1ac8a"
            ],
            "layout": "IPY_MODEL_6594989c3c784e1889bfab4936bf0202"
          }
        },
        "37aa6d1288f64fe48404a0225d057f90": {
          "model_module": "@jupyter-widgets/controls",
          "model_name": "HTMLModel",
          "model_module_version": "1.5.0",
          "state": {
            "_dom_classes": [],
            "_model_module": "@jupyter-widgets/controls",
            "_model_module_version": "1.5.0",
            "_model_name": "HTMLModel",
            "_view_count": null,
            "_view_module": "@jupyter-widgets/controls",
            "_view_module_version": "1.5.0",
            "_view_name": "HTMLView",
            "description": "",
            "description_tooltip": null,
            "layout": "IPY_MODEL_c8648d7df7aa4a788baf738a1b741d18",
            "placeholder": "​",
            "style": "IPY_MODEL_7641e40416f44e628da9577cd185be33",
            "value": "Generating test split: 100%"
          }
        },
        "1b61b7277cfc4b93b00ae0d5e912672a": {
          "model_module": "@jupyter-widgets/controls",
          "model_name": "FloatProgressModel",
          "model_module_version": "1.5.0",
          "state": {
            "_dom_classes": [],
            "_model_module": "@jupyter-widgets/controls",
            "_model_module_version": "1.5.0",
            "_model_name": "FloatProgressModel",
            "_view_count": null,
            "_view_module": "@jupyter-widgets/controls",
            "_view_module_version": "1.5.0",
            "_view_name": "ProgressView",
            "bar_style": "success",
            "description": "",
            "description_tooltip": null,
            "layout": "IPY_MODEL_bfc1ab5a674b4f43bce5a2426be04fa3",
            "max": 7405,
            "min": 0,
            "orientation": "horizontal",
            "style": "IPY_MODEL_a7916b5cf83d478392c92d03d613ad0b",
            "value": 7405
          }
        },
        "18ec38fb829f489e9f70ec1a99b1ac8a": {
          "model_module": "@jupyter-widgets/controls",
          "model_name": "HTMLModel",
          "model_module_version": "1.5.0",
          "state": {
            "_dom_classes": [],
            "_model_module": "@jupyter-widgets/controls",
            "_model_module_version": "1.5.0",
            "_model_name": "HTMLModel",
            "_view_count": null,
            "_view_module": "@jupyter-widgets/controls",
            "_view_module_version": "1.5.0",
            "_view_name": "HTMLView",
            "description": "",
            "description_tooltip": null,
            "layout": "IPY_MODEL_04816968076446bd89d71a9133c889b8",
            "placeholder": "​",
            "style": "IPY_MODEL_7a1ddbc8d17e47ec9686dba8c11a50da",
            "value": " 7405/7405 [00:03&lt;00:00, 2089.20 examples/s]"
          }
        },
        "6594989c3c784e1889bfab4936bf0202": {
          "model_module": "@jupyter-widgets/base",
          "model_name": "LayoutModel",
          "model_module_version": "1.2.0",
          "state": {
            "_model_module": "@jupyter-widgets/base",
            "_model_module_version": "1.2.0",
            "_model_name": "LayoutModel",
            "_view_count": null,
            "_view_module": "@jupyter-widgets/base",
            "_view_module_version": "1.2.0",
            "_view_name": "LayoutView",
            "align_content": null,
            "align_items": null,
            "align_self": null,
            "border": null,
            "bottom": null,
            "display": null,
            "flex": null,
            "flex_flow": null,
            "grid_area": null,
            "grid_auto_columns": null,
            "grid_auto_flow": null,
            "grid_auto_rows": null,
            "grid_column": null,
            "grid_gap": null,
            "grid_row": null,
            "grid_template_areas": null,
            "grid_template_columns": null,
            "grid_template_rows": null,
            "height": null,
            "justify_content": null,
            "justify_items": null,
            "left": null,
            "margin": null,
            "max_height": null,
            "max_width": null,
            "min_height": null,
            "min_width": null,
            "object_fit": null,
            "object_position": null,
            "order": null,
            "overflow": null,
            "overflow_x": null,
            "overflow_y": null,
            "padding": null,
            "right": null,
            "top": null,
            "visibility": null,
            "width": null
          }
        },
        "c8648d7df7aa4a788baf738a1b741d18": {
          "model_module": "@jupyter-widgets/base",
          "model_name": "LayoutModel",
          "model_module_version": "1.2.0",
          "state": {
            "_model_module": "@jupyter-widgets/base",
            "_model_module_version": "1.2.0",
            "_model_name": "LayoutModel",
            "_view_count": null,
            "_view_module": "@jupyter-widgets/base",
            "_view_module_version": "1.2.0",
            "_view_name": "LayoutView",
            "align_content": null,
            "align_items": null,
            "align_self": null,
            "border": null,
            "bottom": null,
            "display": null,
            "flex": null,
            "flex_flow": null,
            "grid_area": null,
            "grid_auto_columns": null,
            "grid_auto_flow": null,
            "grid_auto_rows": null,
            "grid_column": null,
            "grid_gap": null,
            "grid_row": null,
            "grid_template_areas": null,
            "grid_template_columns": null,
            "grid_template_rows": null,
            "height": null,
            "justify_content": null,
            "justify_items": null,
            "left": null,
            "margin": null,
            "max_height": null,
            "max_width": null,
            "min_height": null,
            "min_width": null,
            "object_fit": null,
            "object_position": null,
            "order": null,
            "overflow": null,
            "overflow_x": null,
            "overflow_y": null,
            "padding": null,
            "right": null,
            "top": null,
            "visibility": null,
            "width": null
          }
        },
        "7641e40416f44e628da9577cd185be33": {
          "model_module": "@jupyter-widgets/controls",
          "model_name": "DescriptionStyleModel",
          "model_module_version": "1.5.0",
          "state": {
            "_model_module": "@jupyter-widgets/controls",
            "_model_module_version": "1.5.0",
            "_model_name": "DescriptionStyleModel",
            "_view_count": null,
            "_view_module": "@jupyter-widgets/base",
            "_view_module_version": "1.2.0",
            "_view_name": "StyleView",
            "description_width": ""
          }
        },
        "bfc1ab5a674b4f43bce5a2426be04fa3": {
          "model_module": "@jupyter-widgets/base",
          "model_name": "LayoutModel",
          "model_module_version": "1.2.0",
          "state": {
            "_model_module": "@jupyter-widgets/base",
            "_model_module_version": "1.2.0",
            "_model_name": "LayoutModel",
            "_view_count": null,
            "_view_module": "@jupyter-widgets/base",
            "_view_module_version": "1.2.0",
            "_view_name": "LayoutView",
            "align_content": null,
            "align_items": null,
            "align_self": null,
            "border": null,
            "bottom": null,
            "display": null,
            "flex": null,
            "flex_flow": null,
            "grid_area": null,
            "grid_auto_columns": null,
            "grid_auto_flow": null,
            "grid_auto_rows": null,
            "grid_column": null,
            "grid_gap": null,
            "grid_row": null,
            "grid_template_areas": null,
            "grid_template_columns": null,
            "grid_template_rows": null,
            "height": null,
            "justify_content": null,
            "justify_items": null,
            "left": null,
            "margin": null,
            "max_height": null,
            "max_width": null,
            "min_height": null,
            "min_width": null,
            "object_fit": null,
            "object_position": null,
            "order": null,
            "overflow": null,
            "overflow_x": null,
            "overflow_y": null,
            "padding": null,
            "right": null,
            "top": null,
            "visibility": null,
            "width": null
          }
        },
        "a7916b5cf83d478392c92d03d613ad0b": {
          "model_module": "@jupyter-widgets/controls",
          "model_name": "ProgressStyleModel",
          "model_module_version": "1.5.0",
          "state": {
            "_model_module": "@jupyter-widgets/controls",
            "_model_module_version": "1.5.0",
            "_model_name": "ProgressStyleModel",
            "_view_count": null,
            "_view_module": "@jupyter-widgets/base",
            "_view_module_version": "1.2.0",
            "_view_name": "StyleView",
            "bar_color": null,
            "description_width": ""
          }
        },
        "04816968076446bd89d71a9133c889b8": {
          "model_module": "@jupyter-widgets/base",
          "model_name": "LayoutModel",
          "model_module_version": "1.2.0",
          "state": {
            "_model_module": "@jupyter-widgets/base",
            "_model_module_version": "1.2.0",
            "_model_name": "LayoutModel",
            "_view_count": null,
            "_view_module": "@jupyter-widgets/base",
            "_view_module_version": "1.2.0",
            "_view_name": "LayoutView",
            "align_content": null,
            "align_items": null,
            "align_self": null,
            "border": null,
            "bottom": null,
            "display": null,
            "flex": null,
            "flex_flow": null,
            "grid_area": null,
            "grid_auto_columns": null,
            "grid_auto_flow": null,
            "grid_auto_rows": null,
            "grid_column": null,
            "grid_gap": null,
            "grid_row": null,
            "grid_template_areas": null,
            "grid_template_columns": null,
            "grid_template_rows": null,
            "height": null,
            "justify_content": null,
            "justify_items": null,
            "left": null,
            "margin": null,
            "max_height": null,
            "max_width": null,
            "min_height": null,
            "min_width": null,
            "object_fit": null,
            "object_position": null,
            "order": null,
            "overflow": null,
            "overflow_x": null,
            "overflow_y": null,
            "padding": null,
            "right": null,
            "top": null,
            "visibility": null,
            "width": null
          }
        },
        "7a1ddbc8d17e47ec9686dba8c11a50da": {
          "model_module": "@jupyter-widgets/controls",
          "model_name": "DescriptionStyleModel",
          "model_module_version": "1.5.0",
          "state": {
            "_model_module": "@jupyter-widgets/controls",
            "_model_module_version": "1.5.0",
            "_model_name": "DescriptionStyleModel",
            "_view_count": null,
            "_view_module": "@jupyter-widgets/base",
            "_view_module_version": "1.2.0",
            "_view_name": "StyleView",
            "description_width": ""
          }
        }
      }
    }
  },
  "cells": [
    {
      "cell_type": "markdown",
      "source": [
        "# DSPy - Advanced Prompt Engineering\n",
        "\n",
        "1. Breakout Room #1:\n",
        "  - Task 1: Dependencies\n",
        "  - Task 2: Loading Our Model\n",
        "  - Task 3: Loading Our Data\n",
        "  - Task 4: Setting Our Signature\n",
        "  - Task 5: Creating a Predictor\n",
        "  - Task 6: Making a Chain, I mean...Module\n",
        "  - Task 7: Evaluate\n",
        "  - Task 8: Program Optimization\n",
        "2. Breakout Room #2:\n",
        "  - Task 1: Defining Appliation\n",
        "  - Task 2: Hyper-Parameters and Data\n",
        "  - Task 3: Signature And Module Creation\n",
        "  - Task 4: Evaluating Our LongFormQA Module\n",
        "  - Task 5: Adding Assertions\n",
        "\n",
        "---\n",
        "\n",
        "In the following notebook, we'll explore an introduction to DSPy and what it can do in just a few lines of code!"
      ],
      "metadata": {
        "id": "lNF2FTJcYP7u"
      }
    },
    {
      "cell_type": "markdown",
      "source": [
        "# 🤝 Breakout Room #1"
      ],
      "metadata": {
        "id": "J8VnLGF_33VI"
      }
    },
    {
      "cell_type": "markdown",
      "source": [
        "## Task 1: Dependencies\n",
        "\n",
        "We'll start by installing DSPy, `nltk` (for later) and including our OpenAI API key."
      ],
      "metadata": {
        "id": "qmhp5fwk2nvT"
      }
    },
    {
      "cell_type": "code",
      "execution_count": 67,
      "metadata": {
        "colab": {
          "base_uri": "https://localhost:8080/"
        },
        "id": "MeoJU4iE3AWt",
        "outputId": "ec75ddd4-470e-4f5b-9237-8535e6356b05"
      },
      "outputs": [
        {
          "output_type": "stream",
          "name": "stdout",
          "text": [
            "\u001b[?25l   \u001b[90m━━━━━━━━━━━━━━━━━━━━━━━━━━━━━━━━━━━━━━━━\u001b[0m \u001b[32m0.0/1.5 MB\u001b[0m \u001b[31m?\u001b[0m eta \u001b[36m-:--:--\u001b[0m\r\u001b[2K   \u001b[91m━\u001b[0m\u001b[91m╸\u001b[0m\u001b[90m━━━━━━━━━━━━━━━━━━━━━━━━━━━━━━━━━━━━━━\u001b[0m \u001b[32m0.1/1.5 MB\u001b[0m \u001b[31m2.1 MB/s\u001b[0m eta \u001b[36m0:00:01\u001b[0m\r\u001b[2K   \u001b[91m━━━━━━━━\u001b[0m\u001b[90m╺\u001b[0m\u001b[90m━━━━━━━━━━━━━━━━━━━━━━━━━━━━━━━\u001b[0m \u001b[32m0.3/1.5 MB\u001b[0m \u001b[31m4.5 MB/s\u001b[0m eta \u001b[36m0:00:01\u001b[0m\r\u001b[2K   \u001b[91m━━━━━━━━━━━━━━━━━━━━━━━━━━━━━━━━━━\u001b[0m\u001b[91m╸\u001b[0m\u001b[90m━━━━━\u001b[0m \u001b[32m1.3/1.5 MB\u001b[0m \u001b[31m12.7 MB/s\u001b[0m eta \u001b[36m0:00:01\u001b[0m\r\u001b[2K   \u001b[90m━━━━━━━━━━━━━━━━━━━━━━━━━━━━━━━━━━━━━━━━\u001b[0m \u001b[32m1.5/1.5 MB\u001b[0m \u001b[31m11.8 MB/s\u001b[0m eta \u001b[36m0:00:00\u001b[0m\n",
            "\u001b[?25h"
          ]
        }
      ],
      "source": [
        "!pip install -qU dspy-ai nltk"
      ]
    },
    {
      "cell_type": "markdown",
      "source": [
        "DSPy can leverage OpenAI's models under the hood, and still provide an advantage - in order to do so, however, we'll need to provide an OpenAI API Key!"
      ],
      "metadata": {
        "id": "PrDi65cdY0pa"
      }
    },
    {
      "cell_type": "code",
      "source": [
        "import os\n",
        "import getpass\n",
        "\n",
        "os.environ['OPENAI_API_KEY'] = getpass.getpass('OpenAI API Key: ')"
      ],
      "metadata": {
        "colab": {
          "base_uri": "https://localhost:8080/"
        },
        "id": "8lPWT4vL8zFd",
        "outputId": "eb053089-dcf3-40e1-883f-6f69ff87d18d"
      },
      "execution_count": 2,
      "outputs": [
        {
          "name": "stdout",
          "output_type": "stream",
          "text": [
            "OpenAI API Key: ··········\n"
          ]
        }
      ]
    },
    {
      "cell_type": "markdown",
      "source": [
        "## Task 2: Loading Our Model\n",
        "\n",
        "Now we can setup our OpenAI language model - which we'll use through the remaining cells in the notebook."
      ],
      "metadata": {
        "id": "FW3W8ogDZJS_"
      }
    },
    {
      "cell_type": "code",
      "source": [
        "from dspy import LM\n",
        "\n",
        "llm = LM(model='openai/gpt-3.5-turbo')"
      ],
      "metadata": {
        "id": "VJAy8_hw8rUu"
      },
      "execution_count": 30,
      "outputs": []
    },
    {
      "cell_type": "markdown",
      "source": [
        "Similar to other libraries, we can call the LLM directly with a string to get a response!"
      ],
      "metadata": {
        "id": "ONjD_6hKZPsD"
      }
    },
    {
      "cell_type": "code",
      "source": [
        "llm(\"What is the square root of pi?\")"
      ],
      "metadata": {
        "colab": {
          "base_uri": "https://localhost:8080/"
        },
        "id": "BlwRrI1UZOFc",
        "outputId": "7c359dbf-dd63-44a1-f43f-f2a19ec632e4"
      },
      "execution_count": 31,
      "outputs": [
        {
          "output_type": "execute_result",
          "data": {
            "text/plain": [
              "['The square root of pi is approximately 1.77245385091.']"
            ]
          },
          "metadata": {},
          "execution_count": 31
        }
      ]
    },
    {
      "cell_type": "markdown",
      "source": [
        "We'll also set our `setting.configure` with our OpenAI model in the `lm` (Language Model) field for a default LM to use in case we don't specify which LM we'd like to use when calling our DSPy `Predictors`."
      ],
      "metadata": {
        "id": "oAO_nkG_ZVVV"
      }
    },
    {
      "cell_type": "code",
      "source": [
        "import dspy\n",
        "\n",
        "dspy.settings.configure(lm=llm)"
      ],
      "metadata": {
        "id": "feM8E46m9Gna"
      },
      "execution_count": 32,
      "outputs": []
    },
    {
      "cell_type": "markdown",
      "source": [
        "## Task 3: Load Our Data\n",
        "\n",
        "We're going to be using a dataset that provides a number of example sentences, along with a rating that indicates their \"dopeness\" level."
      ],
      "metadata": {
        "id": "G5H-q4WdZhc3"
      }
    },
    {
      "cell_type": "code",
      "source": [
        "from datasets import load_dataset\n",
        "\n",
        "dataset = load_dataset(\"llm-wizard/dope_or_nope_v2\")"
      ],
      "metadata": {
        "id": "n__G5nrU-Epz"
      },
      "execution_count": 33,
      "outputs": []
    },
    {
      "cell_type": "markdown",
      "source": [
        "We have a total of 99 rows of data, and will be splitting that into a `trainset` and a `valset` - for training and evaluation."
      ],
      "metadata": {
        "id": "OMgZxUByaz68"
      }
    },
    {
      "cell_type": "code",
      "source": [
        "dataset"
      ],
      "metadata": {
        "colab": {
          "base_uri": "https://localhost:8080/"
        },
        "id": "YMBCVzwhDKJr",
        "outputId": "c90f89e1-eef9-4ceb-fbe1-1492d2b462ad"
      },
      "execution_count": 34,
      "outputs": [
        {
          "output_type": "execute_result",
          "data": {
            "text/plain": [
              "DatasetDict({\n",
              "    train: Dataset({\n",
              "        features: ['Sentence', 'Rating', 'Fire Emojis'],\n",
              "        num_rows: 99\n",
              "    })\n",
              "})"
            ]
          },
          "metadata": {},
          "execution_count": 34
        }
      ]
    },
    {
      "cell_type": "markdown",
      "source": [
        "Due to the nature of the dataset, we'll need to shuffle our dataset to ensure our labels are not clumped up, and our `valset` is remotely representative to our `trainset`."
      ],
      "metadata": {
        "id": "ZwyoqDkvcBxr"
      }
    },
    {
      "cell_type": "code",
      "source": [
        "dataset = dataset.shuffle(seed=42)"
      ],
      "metadata": {
        "id": "RecukH0rVkNY"
      },
      "execution_count": 35,
      "outputs": []
    },
    {
      "cell_type": "markdown",
      "source": [
        "We'll move our `Dataset` into the expected format in DSPy which is the [`Example`](https://dspy-docs.vercel.app/docs/deep-dive/data-handling/examples)!\n",
        "\n",
        "\n",
        "Our examples will have two keys:\n",
        "\n",
        "- `sentence`, our input sentence to be rated\n",
        "- `rating`, our rating label\n",
        "\n",
        "We'll specify our input as `sentence` to properly leverage the DSPy framework."
      ],
      "metadata": {
        "id": "nrr-xSbtcPBK"
      }
    },
    {
      "cell_type": "code",
      "source": [
        "from dspy import Example\n",
        "\n",
        "trainset = []\n",
        "\n",
        "for row in dataset[\"train\"].select(range(0,len(dataset[\"train\"])-10)):\n",
        "  trainset.append(Example(sentence=row[\"Sentence\"], rating=row[\"Rating\"]).with_inputs(\"sentence\"))\n",
        "\n",
        "len(trainset)"
      ],
      "metadata": {
        "colab": {
          "base_uri": "https://localhost:8080/"
        },
        "id": "07ARkkb_CnBT",
        "outputId": "c4662436-8ab1-4381-dd3a-82867b711ddc"
      },
      "execution_count": 36,
      "outputs": [
        {
          "output_type": "execute_result",
          "data": {
            "text/plain": [
              "89"
            ]
          },
          "metadata": {},
          "execution_count": 36
        }
      ]
    },
    {
      "cell_type": "markdown",
      "source": [
        "We'll repeat the same process for our `valset` as well."
      ],
      "metadata": {
        "id": "wZC2yAnqc31Q"
      }
    },
    {
      "cell_type": "code",
      "source": [
        "valset = []\n",
        "\n",
        "for row in dataset[\"train\"].select(range(len(trainset),len(dataset[\"train\"]))):\n",
        "  valset.append(Example(sentence=row[\"Sentence\"], rating=row[\"Rating\"]).with_inputs(\"sentence\"))\n",
        "\n",
        "len(valset)"
      ],
      "metadata": {
        "colab": {
          "base_uri": "https://localhost:8080/"
        },
        "id": "VTDPZJUZD_hM",
        "outputId": "1e9ddeda-6813-4e8f-89e8-05ffceee10d4"
      },
      "execution_count": 37,
      "outputs": [
        {
          "output_type": "execute_result",
          "data": {
            "text/plain": [
              "10"
            ]
          },
          "metadata": {},
          "execution_count": 37
        }
      ]
    },
    {
      "cell_type": "markdown",
      "source": [
        "Let's take a peek at an example from our `trainset` and `valset`!"
      ],
      "metadata": {
        "id": "GKKim9uRc8Q0"
      }
    },
    {
      "cell_type": "code",
      "source": [
        "train_example = trainset[0]\n",
        "print(f\"Sentence: {train_example.sentence}\")\n",
        "print(f\"Label: {train_example.rating}\")"
      ],
      "metadata": {
        "colab": {
          "base_uri": "https://localhost:8080/"
        },
        "id": "PVgP0ctkEJC9",
        "outputId": "18a13416-4ed2-4144-bacb-cce2e21f7e11"
      },
      "execution_count": 38,
      "outputs": [
        {
          "output_type": "stream",
          "name": "stdout",
          "text": [
            "Sentence: The results were satisfactory.\n",
            "Label: 0\n"
          ]
        }
      ]
    },
    {
      "cell_type": "code",
      "source": [
        "valset_example = valset[0]\n",
        "print(f\"Sentence: {valset_example.sentence}\")\n",
        "print(f\"Label: {valset_example.rating}\")"
      ],
      "metadata": {
        "colab": {
          "base_uri": "https://localhost:8080/"
        },
        "id": "zHFDjOT9EUip",
        "outputId": "3744d91b-6791-4935-ab0c-30f805ababcc"
      },
      "execution_count": 39,
      "outputs": [
        {
          "output_type": "stream",
          "name": "stdout",
          "text": [
            "Sentence: This is top tier.\n",
            "Label: 4\n"
          ]
        }
      ]
    },
    {
      "cell_type": "markdown",
      "source": [
        "## Task 4: Setting Our Signature\n",
        "\n",
        "The first foundational unit in DSPy is the `Signature`.\n",
        "\n",
        "In a sense, a `Signature` can be thought of as both a prompt, as well as metadata about that prompt.\n",
        "\n",
        "Going beyond just a simple `SystemMessage`, as seen in other frameworks, the `Signature` helps DSPy validate datatypes, create examples, and more.\n",
        "\n",
        "> NOTE: DSPy's [documentation](https://dspy-docs.vercel.app/docs/deep-dive/signature/understanding-signatures#what-is-a-signature) goes into more detail about what exactly a `Signature` is."
      ],
      "metadata": {
        "id": "lbjjPIJsdAYs"
      }
    },
    {
      "cell_type": "code",
      "source": [
        "from dspy import Signature, InputField, OutputField\n",
        "\n",
        "class DopeOrNopeSignature(Signature):\n",
        "  \"\"\"Rate a sentence from 0 to 4 on a dopeness scale\"\"\"\n",
        "  sentence: str = InputField()\n",
        "  rating: int = OutputField()"
      ],
      "metadata": {
        "id": "WcshNXosEaRb"
      },
      "execution_count": 40,
      "outputs": []
    },
    {
      "cell_type": "markdown",
      "source": [
        "## Task 5: Creating a Predictor\n",
        "\n",
        "Now that we have our `Signature`, we can build a `Predictor` that leverages it.\n",
        "\n",
        "A `Predictor`, in the simplest terms, is what calls the LLM using our signature. Importantly, the `Predictor` knows how to leverage our signature to call the LLM. From DSPy's documentation, one of the most interesting parts of a `Predictor` is that it can *learn* to become better at the desired task!\n",
        "\n",
        "Let's take a look at our `TypedPredictor` below to see more."
      ],
      "metadata": {
        "id": "R5BnXK3VdnSL"
      }
    },
    {
      "cell_type": "code",
      "source": [
        "from dspy.functional import TypedPredictor\n",
        "\n",
        "generate_label = TypedPredictor(DopeOrNopeSignature)"
      ],
      "metadata": {
        "id": "xxsLox0KEtwk"
      },
      "execution_count": 41,
      "outputs": []
    },
    {
      "cell_type": "code",
      "source": [
        "generate_label"
      ],
      "metadata": {
        "colab": {
          "base_uri": "https://localhost:8080/"
        },
        "id": "uKjZPqJCeeGs",
        "outputId": "7305bfe1-4414-46bb-bcac-4f8566022317"
      },
      "execution_count": 42,
      "outputs": [
        {
          "output_type": "execute_result",
          "data": {
            "text/plain": [
              "TypedPredictor(DopeOrNopeSignature(sentence -> rating\n",
              "    instructions='Rate a sentence from 0 to 4 on a dopeness scale'\n",
              "    sentence = Field(annotation=str required=True json_schema_extra={'__dspy_field_type': 'input', 'prefix': 'Sentence:', 'desc': '${sentence}'})\n",
              "    rating = Field(annotation=int required=True json_schema_extra={'__dspy_field_type': 'output', 'prefix': 'Rating:', 'desc': '${rating}'})\n",
              "))"
            ]
          },
          "metadata": {},
          "execution_count": 42
        }
      ]
    },
    {
      "cell_type": "code",
      "source": [
        "label_prediction = generate_label(sentence=valset_example.sentence)\n",
        "print(f\"Sentence: {valset_example.sentence}\")\n",
        "print(f\"Prediction: {label_prediction}\")"
      ],
      "metadata": {
        "colab": {
          "base_uri": "https://localhost:8080/"
        },
        "id": "UUjXc2BIE_as",
        "outputId": "15c937b9-f0ef-4c3c-8aef-f09e73ee8e6a"
      },
      "execution_count": 43,
      "outputs": [
        {
          "output_type": "stream",
          "name": "stdout",
          "text": [
            "Sentence: This is top tier.\n",
            "Prediction: Prediction(\n",
            "    rating=4\n",
            ")\n"
          ]
        }
      ]
    },
    {
      "cell_type": "markdown",
      "source": [
        "We can, at any time, check our LLMs outputs through the `inspect_history`."
      ],
      "metadata": {
        "id": "Fw6qrDP7gbf1"
      }
    },
    {
      "cell_type": "code",
      "source": [
        "llm.inspect_history(n=1)"
      ],
      "metadata": {
        "colab": {
          "base_uri": "https://localhost:8080/"
        },
        "id": "ncjnowmCHGd0",
        "outputId": "f3ecc6a9-db92-45a8-eef4-b9b68928d09f"
      },
      "execution_count": 44,
      "outputs": [
        {
          "output_type": "stream",
          "name": "stdout",
          "text": [
            "\n",
            "\n",
            "\n",
            "\n",
            "\u001b[31mSystem message:\u001b[0m\n",
            "\n",
            "Your input fields are:\n",
            "1. `sentence` (str)\n",
            "\n",
            "Your output fields are:\n",
            "1. `rating` (int): ${rating} (Respond with a single int value)\n",
            "\n",
            "All interactions will be structured in the following way, with the appropriate values filled in.\n",
            "\n",
            "[[ ## sentence ## ]]\n",
            "{sentence}\n",
            "\n",
            "[[ ## rating ## ]]\n",
            "{rating}\n",
            "\n",
            "[[ ## completed ## ]]\n",
            "\n",
            "In adhering to this structure, your objective is: \n",
            "        Rate a sentence from 0 to 4 on a dopeness scale\n",
            "\n",
            "\n",
            "\u001b[31mUser message:\u001b[0m\n",
            "\n",
            "[[ ## sentence ## ]]\n",
            "This is top tier.\n",
            "\n",
            "Respond with the corresponding output fields, starting with the field `rating`, and then ending with the marker for `completed`.\n",
            "\n",
            "\n",
            "\u001b[31mResponse:\u001b[0m\n",
            "\n",
            "\u001b[32m[[ ## rating ## ]]\n",
            "4\n",
            "\n",
            "[[ ## completed ## ]]\u001b[0m\n",
            "\n",
            "\n",
            "\n",
            "\n",
            "\n"
          ]
        }
      ]
    },
    {
      "cell_type": "markdown",
      "source": [
        "Notice how, without our input - the `TypedPredictor` has included format instructions to the LLM to help ensure our returned data resembles what we desire."
      ],
      "metadata": {
        "id": "XTiQ2g3afO8k"
      }
    },
    {
      "cell_type": "markdown",
      "source": [
        "Let's look at another example of a `Predictor` - this time with Chain of Thought.\n",
        "\n",
        "In order to use this - we don't have to do anything with our `Signature`! We can leave it exactly as is - and allow the `Predictor` to adapt to it.\n",
        "\n",
        "> NOTE: We won't be using this predictor going forward - this is just to showcase the ease of using another `Predictor` with a `Signature`."
      ],
      "metadata": {
        "id": "wuuQ1GxNffdm"
      }
    },
    {
      "cell_type": "code",
      "source": [
        "from dspy.functional import TypedChainOfThought\n",
        "\n",
        "generate_label_with_chain_of_thought = TypedChainOfThought(DopeOrNopeSignature)\n",
        "\n",
        "label_prediction = generate_label_with_chain_of_thought(sentence=valset_example.sentence)"
      ],
      "metadata": {
        "id": "CcRQk4uQHImC"
      },
      "execution_count": 45,
      "outputs": []
    },
    {
      "cell_type": "code",
      "source": [
        "print(f\"Sentence: {valset_example.sentence}\")\n",
        "print(f\"Reasoning: {label_prediction.reasoning}\")\n",
        "print(f\"Ground Truth Label: {valset_example.rating}\")\n",
        "print(f\"Prediction: {label_prediction.rating}\")"
      ],
      "metadata": {
        "colab": {
          "base_uri": "https://localhost:8080/"
        },
        "id": "vZf2PNb8HYaT",
        "outputId": "e4fb363d-a7dd-41c0-eb2d-dae82939ee07"
      },
      "execution_count": 46,
      "outputs": [
        {
          "output_type": "stream",
          "name": "stdout",
          "text": [
            "Sentence: This is top tier.\n",
            "Reasoning: This sentence expresses high praise and indicates that something is of excellent quality.\n",
            "Ground Truth Label: 4\n",
            "Prediction: 3\n"
          ]
        }
      ]
    },
    {
      "cell_type": "markdown",
      "source": [
        "We can, again, check our LLM's history to see what the actual prompt/response is.\n"
      ],
      "metadata": {
        "id": "miii9xQxgAzm"
      }
    },
    {
      "cell_type": "code",
      "source": [
        "llm.inspect_history(n=1)"
      ],
      "metadata": {
        "colab": {
          "base_uri": "https://localhost:8080/"
        },
        "id": "dMxOlK65VzCZ",
        "outputId": "ba589f03-e711-4574-f19e-069a0904193d"
      },
      "execution_count": 47,
      "outputs": [
        {
          "output_type": "stream",
          "name": "stdout",
          "text": [
            "\n",
            "\n",
            "\n",
            "\n",
            "\u001b[31mSystem message:\u001b[0m\n",
            "\n",
            "Your input fields are:\n",
            "1. `sentence` (str)\n",
            "\n",
            "Your output fields are:\n",
            "1. `reasoning` (str): ${produce the rating}. We ...\n",
            "2. `rating` (int): ${rating} (Respond with a single int value)\n",
            "\n",
            "All interactions will be structured in the following way, with the appropriate values filled in.\n",
            "\n",
            "[[ ## sentence ## ]]\n",
            "{sentence}\n",
            "\n",
            "[[ ## reasoning ## ]]\n",
            "{reasoning}\n",
            "\n",
            "[[ ## rating ## ]]\n",
            "{rating}\n",
            "\n",
            "[[ ## completed ## ]]\n",
            "\n",
            "In adhering to this structure, your objective is: \n",
            "        Rate a sentence from 0 to 4 on a dopeness scale\n",
            "\n",
            "\n",
            "\u001b[31mUser message:\u001b[0m\n",
            "\n",
            "[[ ## sentence ## ]]\n",
            "This is top tier.\n",
            "\n",
            "Respond with the corresponding output fields, starting with the field `reasoning`, then `rating`, and then ending with the marker for `completed`.\n",
            "\n",
            "\n",
            "\u001b[31mResponse:\u001b[0m\n",
            "\n",
            "\u001b[32m[[ ## reasoning ## ]]\n",
            "This sentence expresses high praise and indicates that something is of excellent quality.\n",
            "\n",
            "[[ ## rating ## ]]\n",
            "3\n",
            "\n",
            "[[ ## completed ## ]]\u001b[0m\n",
            "\n",
            "\n",
            "\n",
            "\n",
            "\n"
          ]
        }
      ]
    },
    {
      "cell_type": "markdown",
      "source": [
        "## Task 6: Making a Chain, I mean...Module.\n",
        "\n",
        "Now that we have our `TypedPredictor`, we can create a `Module`!\n",
        "\n",
        "A `Module` is useful because it allows us to interact with the `Predictor` and `Signature` in a way that DSPy can leverage for optimization.\n",
        "\n",
        "The helps the DSPy framework determine paths through your program - and helps during the `compilation` or optimisation steps (formerly `teleprompting`).\n",
        "\n",
        "> NOTE: You might notice this looks strikingly familiar to PyTorch, and this is by design!"
      ],
      "metadata": {
        "id": "a7U3yeCsg3B2"
      }
    },
    {
      "cell_type": "code",
      "source": [
        "from dspy import Module, Prediction\n",
        "\n",
        "class DopeOrNopeStudent(Module):\n",
        "  def __init__(self):\n",
        "    super().__init__()\n",
        "\n",
        "    self.generate_rating = TypedPredictor(DopeOrNopeSignature)\n",
        "\n",
        "  def forward(self, sentence):\n",
        "    prediction = self.generate_rating(sentence=sentence)\n",
        "    return Prediction(rating=prediction.rating)"
      ],
      "metadata": {
        "id": "H6GoyWyUJkl6"
      },
      "execution_count": 48,
      "outputs": []
    },
    {
      "cell_type": "markdown",
      "source": [
        "## Task 7: Evaluate\n",
        "\n",
        "As with any good framework, DSPy has the ability to `Evaluate` - we can leverage this to determine how our current DSPy \"program\" (our `Module` in this case) operates.\n",
        "\n",
        "> NOTE: DSPy's \"program\" could be loosely related to a \"chain\" from the popular LLM Framework LangChain."
      ],
      "metadata": {
        "id": "PS2pf8tjh7lH"
      }
    },
    {
      "cell_type": "code",
      "source": [
        "from dspy.evaluate.evaluate import Evaluate\n",
        "\n",
        "evaluate_fewshot = Evaluate(devset=valset, num_threads=1, display_progress=True, display_table=10)\n",
        "\n",
        "def exact_match_metric(answer, pred, trace=None):\n",
        "  return answer.rating == pred.rating\n",
        "\n",
        "evaluate_fewshot(DopeOrNopeStudent(), metric=exact_match_metric)"
      ],
      "metadata": {
        "colab": {
          "base_uri": "https://localhost:8080/",
          "height": 397
        },
        "id": "C9o5461qMKyt",
        "outputId": "7237d853-bdc1-4e48-c084-81d49e110d47"
      },
      "execution_count": 49,
      "outputs": [
        {
          "output_type": "stream",
          "name": "stdout",
          "text": [
            "Average Metric: 4 / 10  (40.0): 100%|██████████| 10/10 [00:04<00:00,  2.07it/s]\n"
          ]
        },
        {
          "output_type": "display_data",
          "data": {
            "text/plain": [
              "<pandas.io.formats.style.Styler at 0x79de30fbb250>"
            ],
            "text/html": [
              "<style type=\"text/css\">\n",
              "#T_d1c9c th {\n",
              "  text-align: left;\n",
              "}\n",
              "#T_d1c9c td {\n",
              "  text-align: left;\n",
              "}\n",
              "#T_d1c9c_row0_col0, #T_d1c9c_row0_col1, #T_d1c9c_row0_col2, #T_d1c9c_row0_col3, #T_d1c9c_row1_col0, #T_d1c9c_row1_col1, #T_d1c9c_row1_col2, #T_d1c9c_row1_col3, #T_d1c9c_row2_col0, #T_d1c9c_row2_col1, #T_d1c9c_row2_col2, #T_d1c9c_row2_col3, #T_d1c9c_row3_col0, #T_d1c9c_row3_col1, #T_d1c9c_row3_col2, #T_d1c9c_row3_col3, #T_d1c9c_row4_col0, #T_d1c9c_row4_col1, #T_d1c9c_row4_col2, #T_d1c9c_row4_col3, #T_d1c9c_row5_col0, #T_d1c9c_row5_col1, #T_d1c9c_row5_col2, #T_d1c9c_row5_col3, #T_d1c9c_row6_col0, #T_d1c9c_row6_col1, #T_d1c9c_row6_col2, #T_d1c9c_row6_col3, #T_d1c9c_row7_col0, #T_d1c9c_row7_col1, #T_d1c9c_row7_col2, #T_d1c9c_row7_col3, #T_d1c9c_row8_col0, #T_d1c9c_row8_col1, #T_d1c9c_row8_col2, #T_d1c9c_row8_col3, #T_d1c9c_row9_col0, #T_d1c9c_row9_col1, #T_d1c9c_row9_col2, #T_d1c9c_row9_col3 {\n",
              "  text-align: left;\n",
              "  white-space: pre-wrap;\n",
              "  word-wrap: break-word;\n",
              "  max-width: 400px;\n",
              "}\n",
              "</style>\n",
              "<table id=\"T_d1c9c\" class=\"dataframe\">\n",
              "  <thead>\n",
              "    <tr>\n",
              "      <th class=\"blank level0\" >&nbsp;</th>\n",
              "      <th id=\"T_d1c9c_level0_col0\" class=\"col_heading level0 col0\" >sentence</th>\n",
              "      <th id=\"T_d1c9c_level0_col1\" class=\"col_heading level0 col1\" >example_rating</th>\n",
              "      <th id=\"T_d1c9c_level0_col2\" class=\"col_heading level0 col2\" >pred_rating</th>\n",
              "      <th id=\"T_d1c9c_level0_col3\" class=\"col_heading level0 col3\" >exact_match_metric</th>\n",
              "    </tr>\n",
              "  </thead>\n",
              "  <tbody>\n",
              "    <tr>\n",
              "      <th id=\"T_d1c9c_level0_row0\" class=\"row_heading level0 row0\" >0</th>\n",
              "      <td id=\"T_d1c9c_row0_col0\" class=\"data row0 col0\" >This is top tier.</td>\n",
              "      <td id=\"T_d1c9c_row0_col1\" class=\"data row0 col1\" >4</td>\n",
              "      <td id=\"T_d1c9c_row0_col2\" class=\"data row0 col2\" >4</td>\n",
              "      <td id=\"T_d1c9c_row0_col3\" class=\"data row0 col3\" >✔️ [True]</td>\n",
              "    </tr>\n",
              "    <tr>\n",
              "      <th id=\"T_d1c9c_level0_row1\" class=\"row_heading level0 row1\" >1</th>\n",
              "      <td id=\"T_d1c9c_row1_col0\" class=\"data row1 col0\" >Big mood.</td>\n",
              "      <td id=\"T_d1c9c_row1_col1\" class=\"data row1 col1\" >3</td>\n",
              "      <td id=\"T_d1c9c_row1_col2\" class=\"data row1 col2\" >3</td>\n",
              "      <td id=\"T_d1c9c_row1_col3\" class=\"data row1 col3\" >✔️ [True]</td>\n",
              "    </tr>\n",
              "    <tr>\n",
              "      <th id=\"T_d1c9c_level0_row2\" class=\"row_heading level0 row2\" >2</th>\n",
              "      <td id=\"T_d1c9c_row2_col0\" class=\"data row2 col0\" >The presentation was outstanding.</td>\n",
              "      <td id=\"T_d1c9c_row2_col1\" class=\"data row2 col1\" >1</td>\n",
              "      <td id=\"T_d1c9c_row2_col2\" class=\"data row2 col2\" >4</td>\n",
              "      <td id=\"T_d1c9c_row2_col3\" class=\"data row2 col3\" ><class 'str'></td>\n",
              "    </tr>\n",
              "    <tr>\n",
              "      <th id=\"T_d1c9c_level0_row3\" class=\"row_heading level0 row3\" >3</th>\n",
              "      <td id=\"T_d1c9c_row3_col0\" class=\"data row3 col0\" >I'm living my best life.</td>\n",
              "      <td id=\"T_d1c9c_row3_col1\" class=\"data row3 col1\" >4</td>\n",
              "      <td id=\"T_d1c9c_row3_col2\" class=\"data row3 col2\" >3</td>\n",
              "      <td id=\"T_d1c9c_row3_col3\" class=\"data row3 col3\" ><class 'str'></td>\n",
              "    </tr>\n",
              "    <tr>\n",
              "      <th id=\"T_d1c9c_level0_row4\" class=\"row_heading level0 row4\" >4</th>\n",
              "      <td id=\"T_d1c9c_row4_col0\" class=\"data row4 col0\" >Sksksksk, that's hilarious.</td>\n",
              "      <td id=\"T_d1c9c_row4_col1\" class=\"data row4 col1\" >3</td>\n",
              "      <td id=\"T_d1c9c_row4_col2\" class=\"data row4 col2\" >2</td>\n",
              "      <td id=\"T_d1c9c_row4_col3\" class=\"data row4 col3\" ><class 'str'></td>\n",
              "    </tr>\n",
              "    <tr>\n",
              "      <th id=\"T_d1c9c_level0_row5\" class=\"row_heading level0 row5\" >5</th>\n",
              "      <td id=\"T_d1c9c_row5_col0\" class=\"data row5 col0\" >The report is comprehensive.</td>\n",
              "      <td id=\"T_d1c9c_row5_col1\" class=\"data row5 col1\" >1</td>\n",
              "      <td id=\"T_d1c9c_row5_col2\" class=\"data row5 col2\" >3</td>\n",
              "      <td id=\"T_d1c9c_row5_col3\" class=\"data row5 col3\" ><class 'str'></td>\n",
              "    </tr>\n",
              "    <tr>\n",
              "      <th id=\"T_d1c9c_level0_row6\" class=\"row_heading level0 row6\" >6</th>\n",
              "      <td id=\"T_d1c9c_row6_col0\" class=\"data row6 col0\" >This is next level.</td>\n",
              "      <td id=\"T_d1c9c_row6_col1\" class=\"data row6 col1\" >4</td>\n",
              "      <td id=\"T_d1c9c_row6_col2\" class=\"data row6 col2\" >4</td>\n",
              "      <td id=\"T_d1c9c_row6_col3\" class=\"data row6 col3\" >✔️ [True]</td>\n",
              "    </tr>\n",
              "    <tr>\n",
              "      <th id=\"T_d1c9c_level0_row7\" class=\"row_heading level0 row7\" >7</th>\n",
              "      <td id=\"T_d1c9c_row7_col0\" class=\"data row7 col0\" >The meeting was productive.</td>\n",
              "      <td id=\"T_d1c9c_row7_col1\" class=\"data row7 col1\" >1</td>\n",
              "      <td id=\"T_d1c9c_row7_col2\" class=\"data row7 col2\" >3</td>\n",
              "      <td id=\"T_d1c9c_row7_col3\" class=\"data row7 col3\" ><class 'str'></td>\n",
              "    </tr>\n",
              "    <tr>\n",
              "      <th id=\"T_d1c9c_level0_row8\" class=\"row_heading level0 row8\" >8</th>\n",
              "      <td id=\"T_d1c9c_row8_col0\" class=\"data row8 col0\" >The analysis was insightful.</td>\n",
              "      <td id=\"T_d1c9c_row8_col1\" class=\"data row8 col1\" >1</td>\n",
              "      <td id=\"T_d1c9c_row8_col2\" class=\"data row8 col2\" >3</td>\n",
              "      <td id=\"T_d1c9c_row8_col3\" class=\"data row8 col3\" ><class 'str'></td>\n",
              "    </tr>\n",
              "    <tr>\n",
              "      <th id=\"T_d1c9c_level0_row9\" class=\"row_heading level0 row9\" >9</th>\n",
              "      <td id=\"T_d1c9c_row9_col0\" class=\"data row9 col0\" >I stan a legend.</td>\n",
              "      <td id=\"T_d1c9c_row9_col1\" class=\"data row9 col1\" >3</td>\n",
              "      <td id=\"T_d1c9c_row9_col2\" class=\"data row9 col2\" >3</td>\n",
              "      <td id=\"T_d1c9c_row9_col3\" class=\"data row9 col3\" >✔️ [True]</td>\n",
              "    </tr>\n",
              "  </tbody>\n",
              "</table>\n"
            ]
          },
          "metadata": {}
        },
        {
          "output_type": "execute_result",
          "data": {
            "text/plain": [
              "40.0"
            ]
          },
          "metadata": {},
          "execution_count": 49
        }
      ]
    },
    {
      "cell_type": "markdown",
      "source": [
        "#### ❓Question #1:\n",
        "\n",
        "Does DSPy lend itself to more complex less exactly defined evaluations? Provide reasoning for your answer."
      ],
      "metadata": {
        "id": "tw030e6I4UEo"
      }
    },
    {
      "cell_type": "markdown",
      "source": [
        "## Task 8: Program Optimization (the Artist Formerly Known as Teleprompting)\n",
        "\n",
        "Optimization is the crux of the DSPy framework - it is what allows it to operate at a level beyond traditional prompt engineering.\n",
        "\n",
        "At a high level, optimisation is a way for the DSPy framework to take the program, a training set, and a metric - and make changes/tweaks to our program to improve our metrics on our dataset.\n",
        "\n",
        "Let's get started with the `LabeledFewShot` optimizer.\n",
        "\n",
        "The `LabeledFewShot` optimizer very simply provides a sample of the `trainset` as few-shot examples!"
      ],
      "metadata": {
        "id": "eIK6OdQFiUww"
      }
    },
    {
      "cell_type": "code",
      "source": [
        "from dspy.teleprompt import LabeledFewShot\n",
        "\n",
        "labeled_fewshot_optimizer = LabeledFewShot(k=4)"
      ],
      "metadata": {
        "id": "wBq1Xs-CHphS"
      },
      "execution_count": 50,
      "outputs": []
    },
    {
      "cell_type": "markdown",
      "source": [
        "Once we define our optimizer, we can compile our program!"
      ],
      "metadata": {
        "id": "KdtrS7hXjHzv"
      }
    },
    {
      "cell_type": "code",
      "source": [
        "compiled_dspy = labeled_fewshot_optimizer.compile(student=DopeOrNopeStudent(), trainset=trainset)"
      ],
      "metadata": {
        "id": "eVv4aK2QJD3v"
      },
      "execution_count": 51,
      "outputs": []
    },
    {
      "cell_type": "markdown",
      "source": [
        "Let's evaluate!"
      ],
      "metadata": {
        "id": "8k_KhbL_jMXK"
      }
    },
    {
      "cell_type": "code",
      "source": [
        "evaluate_fewshot(compiled_dspy, metric=exact_match_metric)"
      ],
      "metadata": {
        "colab": {
          "base_uri": "https://localhost:8080/",
          "height": 397
        },
        "id": "oxl_zZ51JQRc",
        "outputId": "b23db3fe-4902-4399-d0b7-e93dbbcc875a"
      },
      "execution_count": 52,
      "outputs": [
        {
          "output_type": "stream",
          "name": "stdout",
          "text": [
            "Average Metric: 4 / 10  (40.0): 100%|██████████| 10/10 [00:07<00:00,  1.37it/s]\n"
          ]
        },
        {
          "output_type": "display_data",
          "data": {
            "text/plain": [
              "<pandas.io.formats.style.Styler at 0x79de30fbaef0>"
            ],
            "text/html": [
              "<style type=\"text/css\">\n",
              "#T_2fdf3 th {\n",
              "  text-align: left;\n",
              "}\n",
              "#T_2fdf3 td {\n",
              "  text-align: left;\n",
              "}\n",
              "#T_2fdf3_row0_col0, #T_2fdf3_row0_col1, #T_2fdf3_row0_col2, #T_2fdf3_row0_col3, #T_2fdf3_row1_col0, #T_2fdf3_row1_col1, #T_2fdf3_row1_col2, #T_2fdf3_row1_col3, #T_2fdf3_row2_col0, #T_2fdf3_row2_col1, #T_2fdf3_row2_col2, #T_2fdf3_row2_col3, #T_2fdf3_row3_col0, #T_2fdf3_row3_col1, #T_2fdf3_row3_col2, #T_2fdf3_row3_col3, #T_2fdf3_row4_col0, #T_2fdf3_row4_col1, #T_2fdf3_row4_col2, #T_2fdf3_row4_col3, #T_2fdf3_row5_col0, #T_2fdf3_row5_col1, #T_2fdf3_row5_col2, #T_2fdf3_row5_col3, #T_2fdf3_row6_col0, #T_2fdf3_row6_col1, #T_2fdf3_row6_col2, #T_2fdf3_row6_col3, #T_2fdf3_row7_col0, #T_2fdf3_row7_col1, #T_2fdf3_row7_col2, #T_2fdf3_row7_col3, #T_2fdf3_row8_col0, #T_2fdf3_row8_col1, #T_2fdf3_row8_col2, #T_2fdf3_row8_col3, #T_2fdf3_row9_col0, #T_2fdf3_row9_col1, #T_2fdf3_row9_col2, #T_2fdf3_row9_col3 {\n",
              "  text-align: left;\n",
              "  white-space: pre-wrap;\n",
              "  word-wrap: break-word;\n",
              "  max-width: 400px;\n",
              "}\n",
              "</style>\n",
              "<table id=\"T_2fdf3\" class=\"dataframe\">\n",
              "  <thead>\n",
              "    <tr>\n",
              "      <th class=\"blank level0\" >&nbsp;</th>\n",
              "      <th id=\"T_2fdf3_level0_col0\" class=\"col_heading level0 col0\" >sentence</th>\n",
              "      <th id=\"T_2fdf3_level0_col1\" class=\"col_heading level0 col1\" >example_rating</th>\n",
              "      <th id=\"T_2fdf3_level0_col2\" class=\"col_heading level0 col2\" >pred_rating</th>\n",
              "      <th id=\"T_2fdf3_level0_col3\" class=\"col_heading level0 col3\" >exact_match_metric</th>\n",
              "    </tr>\n",
              "  </thead>\n",
              "  <tbody>\n",
              "    <tr>\n",
              "      <th id=\"T_2fdf3_level0_row0\" class=\"row_heading level0 row0\" >0</th>\n",
              "      <td id=\"T_2fdf3_row0_col0\" class=\"data row0 col0\" >This is top tier.</td>\n",
              "      <td id=\"T_2fdf3_row0_col1\" class=\"data row0 col1\" >4</td>\n",
              "      <td id=\"T_2fdf3_row0_col2\" class=\"data row0 col2\" >4</td>\n",
              "      <td id=\"T_2fdf3_row0_col3\" class=\"data row0 col3\" >✔️ [True]</td>\n",
              "    </tr>\n",
              "    <tr>\n",
              "      <th id=\"T_2fdf3_level0_row1\" class=\"row_heading level0 row1\" >1</th>\n",
              "      <td id=\"T_2fdf3_row1_col0\" class=\"data row1 col0\" >Big mood.</td>\n",
              "      <td id=\"T_2fdf3_row1_col1\" class=\"data row1 col1\" >3</td>\n",
              "      <td id=\"T_2fdf3_row1_col2\" class=\"data row1 col2\" >3</td>\n",
              "      <td id=\"T_2fdf3_row1_col3\" class=\"data row1 col3\" >✔️ [True]</td>\n",
              "    </tr>\n",
              "    <tr>\n",
              "      <th id=\"T_2fdf3_level0_row2\" class=\"row_heading level0 row2\" >2</th>\n",
              "      <td id=\"T_2fdf3_row2_col0\" class=\"data row2 col0\" >The presentation was outstanding.</td>\n",
              "      <td id=\"T_2fdf3_row2_col1\" class=\"data row2 col1\" >1</td>\n",
              "      <td id=\"T_2fdf3_row2_col2\" class=\"data row2 col2\" >3</td>\n",
              "      <td id=\"T_2fdf3_row2_col3\" class=\"data row2 col3\" ><class 'str'></td>\n",
              "    </tr>\n",
              "    <tr>\n",
              "      <th id=\"T_2fdf3_level0_row3\" class=\"row_heading level0 row3\" >3</th>\n",
              "      <td id=\"T_2fdf3_row3_col0\" class=\"data row3 col0\" >I'm living my best life.</td>\n",
              "      <td id=\"T_2fdf3_row3_col1\" class=\"data row3 col1\" >4</td>\n",
              "      <td id=\"T_2fdf3_row3_col2\" class=\"data row3 col2\" >3</td>\n",
              "      <td id=\"T_2fdf3_row3_col3\" class=\"data row3 col3\" ><class 'str'></td>\n",
              "    </tr>\n",
              "    <tr>\n",
              "      <th id=\"T_2fdf3_level0_row4\" class=\"row_heading level0 row4\" >4</th>\n",
              "      <td id=\"T_2fdf3_row4_col0\" class=\"data row4 col0\" >Sksksksk, that's hilarious.</td>\n",
              "      <td id=\"T_2fdf3_row4_col1\" class=\"data row4 col1\" >3</td>\n",
              "      <td id=\"T_2fdf3_row4_col2\" class=\"data row4 col2\" >3</td>\n",
              "      <td id=\"T_2fdf3_row4_col3\" class=\"data row4 col3\" >✔️ [True]</td>\n",
              "    </tr>\n",
              "    <tr>\n",
              "      <th id=\"T_2fdf3_level0_row5\" class=\"row_heading level0 row5\" >5</th>\n",
              "      <td id=\"T_2fdf3_row5_col0\" class=\"data row5 col0\" >The report is comprehensive.</td>\n",
              "      <td id=\"T_2fdf3_row5_col1\" class=\"data row5 col1\" >1</td>\n",
              "      <td id=\"T_2fdf3_row5_col2\" class=\"data row5 col2\" >2</td>\n",
              "      <td id=\"T_2fdf3_row5_col3\" class=\"data row5 col3\" ><class 'str'></td>\n",
              "    </tr>\n",
              "    <tr>\n",
              "      <th id=\"T_2fdf3_level0_row6\" class=\"row_heading level0 row6\" >6</th>\n",
              "      <td id=\"T_2fdf3_row6_col0\" class=\"data row6 col0\" >This is next level.</td>\n",
              "      <td id=\"T_2fdf3_row6_col1\" class=\"data row6 col1\" >4</td>\n",
              "      <td id=\"T_2fdf3_row6_col2\" class=\"data row6 col2\" >3</td>\n",
              "      <td id=\"T_2fdf3_row6_col3\" class=\"data row6 col3\" ><class 'str'></td>\n",
              "    </tr>\n",
              "    <tr>\n",
              "      <th id=\"T_2fdf3_level0_row7\" class=\"row_heading level0 row7\" >7</th>\n",
              "      <td id=\"T_2fdf3_row7_col0\" class=\"data row7 col0\" >The meeting was productive.</td>\n",
              "      <td id=\"T_2fdf3_row7_col1\" class=\"data row7 col1\" >1</td>\n",
              "      <td id=\"T_2fdf3_row7_col2\" class=\"data row7 col2\" >3</td>\n",
              "      <td id=\"T_2fdf3_row7_col3\" class=\"data row7 col3\" ><class 'str'></td>\n",
              "    </tr>\n",
              "    <tr>\n",
              "      <th id=\"T_2fdf3_level0_row8\" class=\"row_heading level0 row8\" >8</th>\n",
              "      <td id=\"T_2fdf3_row8_col0\" class=\"data row8 col0\" >The analysis was insightful.</td>\n",
              "      <td id=\"T_2fdf3_row8_col1\" class=\"data row8 col1\" >1</td>\n",
              "      <td id=\"T_2fdf3_row8_col2\" class=\"data row8 col2\" >3</td>\n",
              "      <td id=\"T_2fdf3_row8_col3\" class=\"data row8 col3\" ><class 'str'></td>\n",
              "    </tr>\n",
              "    <tr>\n",
              "      <th id=\"T_2fdf3_level0_row9\" class=\"row_heading level0 row9\" >9</th>\n",
              "      <td id=\"T_2fdf3_row9_col0\" class=\"data row9 col0\" >I stan a legend.</td>\n",
              "      <td id=\"T_2fdf3_row9_col1\" class=\"data row9 col1\" >3</td>\n",
              "      <td id=\"T_2fdf3_row9_col2\" class=\"data row9 col2\" >3</td>\n",
              "      <td id=\"T_2fdf3_row9_col3\" class=\"data row9 col3\" >✔️ [True]</td>\n",
              "    </tr>\n",
              "  </tbody>\n",
              "</table>\n"
            ]
          },
          "metadata": {}
        },
        {
          "output_type": "execute_result",
          "data": {
            "text/plain": [
              "40.0"
            ]
          },
          "metadata": {},
          "execution_count": 52
        }
      ]
    },
    {
      "cell_type": "markdown",
      "source": [
        "As you can see - with no effort at all - we can improve our performance on our `valset`!"
      ],
      "metadata": {
        "id": "htpDiJLcjOOI"
      }
    },
    {
      "cell_type": "markdown",
      "source": [
        "Let's try another optimizer - this time: [`BootstrapFewShot`](https://dspy-docs.vercel.app/docs/deep-dive/teleprompter/bootstrap-fewshot).\n",
        "\n",
        "The key thing to note is that this optimizer works with even very few examples - by way of generating new examples by the LLMs!"
      ],
      "metadata": {
        "id": "fyf5baq0jU1Z"
      }
    },
    {
      "cell_type": "code",
      "source": [
        "from dspy.teleprompt import BootstrapFewShot\n",
        "\n",
        "optimizer = BootstrapFewShot(metric=exact_match_metric, max_bootstrapped_demos=4, max_labeled_demos=12)\n",
        "\n",
        "compiled_dspy_BOOTSTRAP = optimizer.compile(student=DopeOrNopeStudent(), trainset=trainset)"
      ],
      "metadata": {
        "colab": {
          "base_uri": "https://localhost:8080/"
        },
        "id": "vPx1wKpAUKBx",
        "outputId": "72691991-d2b1-4c2e-c064-2f62e79f6ba5"
      },
      "execution_count": 53,
      "outputs": [
        {
          "output_type": "stream",
          "name": "stderr",
          "text": [
            "  6%|▌         | 5/89 [00:03<00:56,  1.48it/s]"
          ]
        },
        {
          "output_type": "stream",
          "name": "stdout",
          "text": [
            "Bootstrapped 4 full traces after 6 examples in round 0.\n"
          ]
        },
        {
          "output_type": "stream",
          "name": "stderr",
          "text": [
            "\n"
          ]
        }
      ]
    },
    {
      "cell_type": "markdown",
      "source": [
        "#### 🏗️ Activity #1:\n",
        "\n",
        "Outline how `BootstrapFewShot` works \"under the hood\" in natural language or create a diagram of the workflow."
      ],
      "metadata": {
        "id": "xBO22kS42TLi"
      }
    },
    {
      "cell_type": "markdown",
      "source": [
        "Let's finally evaluate!"
      ],
      "metadata": {
        "id": "YsF13taMo6dm"
      }
    },
    {
      "cell_type": "code",
      "source": [
        "evaluate_fewshot(compiled_dspy_BOOTSTRAP, metric=exact_match_metric)"
      ],
      "metadata": {
        "colab": {
          "base_uri": "https://localhost:8080/",
          "height": 397
        },
        "id": "lFwORTZbUcwG",
        "outputId": "9eddab79-f222-4ac3-ad43-02c4076f4d1a"
      },
      "execution_count": 54,
      "outputs": [
        {
          "output_type": "stream",
          "name": "stdout",
          "text": [
            "Average Metric: 8 / 10  (80.0): 100%|██████████| 10/10 [00:05<00:00,  1.87it/s]\n"
          ]
        },
        {
          "output_type": "display_data",
          "data": {
            "text/plain": [
              "<pandas.io.formats.style.Styler at 0x79de3823dfc0>"
            ],
            "text/html": [
              "<style type=\"text/css\">\n",
              "#T_788d7 th {\n",
              "  text-align: left;\n",
              "}\n",
              "#T_788d7 td {\n",
              "  text-align: left;\n",
              "}\n",
              "#T_788d7_row0_col0, #T_788d7_row0_col1, #T_788d7_row0_col2, #T_788d7_row0_col3, #T_788d7_row1_col0, #T_788d7_row1_col1, #T_788d7_row1_col2, #T_788d7_row1_col3, #T_788d7_row2_col0, #T_788d7_row2_col1, #T_788d7_row2_col2, #T_788d7_row2_col3, #T_788d7_row3_col0, #T_788d7_row3_col1, #T_788d7_row3_col2, #T_788d7_row3_col3, #T_788d7_row4_col0, #T_788d7_row4_col1, #T_788d7_row4_col2, #T_788d7_row4_col3, #T_788d7_row5_col0, #T_788d7_row5_col1, #T_788d7_row5_col2, #T_788d7_row5_col3, #T_788d7_row6_col0, #T_788d7_row6_col1, #T_788d7_row6_col2, #T_788d7_row6_col3, #T_788d7_row7_col0, #T_788d7_row7_col1, #T_788d7_row7_col2, #T_788d7_row7_col3, #T_788d7_row8_col0, #T_788d7_row8_col1, #T_788d7_row8_col2, #T_788d7_row8_col3, #T_788d7_row9_col0, #T_788d7_row9_col1, #T_788d7_row9_col2, #T_788d7_row9_col3 {\n",
              "  text-align: left;\n",
              "  white-space: pre-wrap;\n",
              "  word-wrap: break-word;\n",
              "  max-width: 400px;\n",
              "}\n",
              "</style>\n",
              "<table id=\"T_788d7\" class=\"dataframe\">\n",
              "  <thead>\n",
              "    <tr>\n",
              "      <th class=\"blank level0\" >&nbsp;</th>\n",
              "      <th id=\"T_788d7_level0_col0\" class=\"col_heading level0 col0\" >sentence</th>\n",
              "      <th id=\"T_788d7_level0_col1\" class=\"col_heading level0 col1\" >example_rating</th>\n",
              "      <th id=\"T_788d7_level0_col2\" class=\"col_heading level0 col2\" >pred_rating</th>\n",
              "      <th id=\"T_788d7_level0_col3\" class=\"col_heading level0 col3\" >exact_match_metric</th>\n",
              "    </tr>\n",
              "  </thead>\n",
              "  <tbody>\n",
              "    <tr>\n",
              "      <th id=\"T_788d7_level0_row0\" class=\"row_heading level0 row0\" >0</th>\n",
              "      <td id=\"T_788d7_row0_col0\" class=\"data row0 col0\" >This is top tier.</td>\n",
              "      <td id=\"T_788d7_row0_col1\" class=\"data row0 col1\" >4</td>\n",
              "      <td id=\"T_788d7_row0_col2\" class=\"data row0 col2\" >4</td>\n",
              "      <td id=\"T_788d7_row0_col3\" class=\"data row0 col3\" >✔️ [True]</td>\n",
              "    </tr>\n",
              "    <tr>\n",
              "      <th id=\"T_788d7_level0_row1\" class=\"row_heading level0 row1\" >1</th>\n",
              "      <td id=\"T_788d7_row1_col0\" class=\"data row1 col0\" >Big mood.</td>\n",
              "      <td id=\"T_788d7_row1_col1\" class=\"data row1 col1\" >3</td>\n",
              "      <td id=\"T_788d7_row1_col2\" class=\"data row1 col2\" >3</td>\n",
              "      <td id=\"T_788d7_row1_col3\" class=\"data row1 col3\" >✔️ [True]</td>\n",
              "    </tr>\n",
              "    <tr>\n",
              "      <th id=\"T_788d7_level0_row2\" class=\"row_heading level0 row2\" >2</th>\n",
              "      <td id=\"T_788d7_row2_col0\" class=\"data row2 col0\" >The presentation was outstanding.</td>\n",
              "      <td id=\"T_788d7_row2_col1\" class=\"data row2 col1\" >1</td>\n",
              "      <td id=\"T_788d7_row2_col2\" class=\"data row2 col2\" >3</td>\n",
              "      <td id=\"T_788d7_row2_col3\" class=\"data row2 col3\" ><class 'str'></td>\n",
              "    </tr>\n",
              "    <tr>\n",
              "      <th id=\"T_788d7_level0_row3\" class=\"row_heading level0 row3\" >3</th>\n",
              "      <td id=\"T_788d7_row3_col0\" class=\"data row3 col0\" >I'm living my best life.</td>\n",
              "      <td id=\"T_788d7_row3_col1\" class=\"data row3 col1\" >4</td>\n",
              "      <td id=\"T_788d7_row3_col2\" class=\"data row3 col2\" >4</td>\n",
              "      <td id=\"T_788d7_row3_col3\" class=\"data row3 col3\" >✔️ [True]</td>\n",
              "    </tr>\n",
              "    <tr>\n",
              "      <th id=\"T_788d7_level0_row4\" class=\"row_heading level0 row4\" >4</th>\n",
              "      <td id=\"T_788d7_row4_col0\" class=\"data row4 col0\" >Sksksksk, that's hilarious.</td>\n",
              "      <td id=\"T_788d7_row4_col1\" class=\"data row4 col1\" >3</td>\n",
              "      <td id=\"T_788d7_row4_col2\" class=\"data row4 col2\" >3</td>\n",
              "      <td id=\"T_788d7_row4_col3\" class=\"data row4 col3\" >✔️ [True]</td>\n",
              "    </tr>\n",
              "    <tr>\n",
              "      <th id=\"T_788d7_level0_row5\" class=\"row_heading level0 row5\" >5</th>\n",
              "      <td id=\"T_788d7_row5_col0\" class=\"data row5 col0\" >The report is comprehensive.</td>\n",
              "      <td id=\"T_788d7_row5_col1\" class=\"data row5 col1\" >1</td>\n",
              "      <td id=\"T_788d7_row5_col2\" class=\"data row5 col2\" >1</td>\n",
              "      <td id=\"T_788d7_row5_col3\" class=\"data row5 col3\" >✔️ [True]</td>\n",
              "    </tr>\n",
              "    <tr>\n",
              "      <th id=\"T_788d7_level0_row6\" class=\"row_heading level0 row6\" >6</th>\n",
              "      <td id=\"T_788d7_row6_col0\" class=\"data row6 col0\" >This is next level.</td>\n",
              "      <td id=\"T_788d7_row6_col1\" class=\"data row6 col1\" >4</td>\n",
              "      <td id=\"T_788d7_row6_col2\" class=\"data row6 col2\" >4</td>\n",
              "      <td id=\"T_788d7_row6_col3\" class=\"data row6 col3\" >✔️ [True]</td>\n",
              "    </tr>\n",
              "    <tr>\n",
              "      <th id=\"T_788d7_level0_row7\" class=\"row_heading level0 row7\" >7</th>\n",
              "      <td id=\"T_788d7_row7_col0\" class=\"data row7 col0\" >The meeting was productive.</td>\n",
              "      <td id=\"T_788d7_row7_col1\" class=\"data row7 col1\" >1</td>\n",
              "      <td id=\"T_788d7_row7_col2\" class=\"data row7 col2\" >1</td>\n",
              "      <td id=\"T_788d7_row7_col3\" class=\"data row7 col3\" >✔️ [True]</td>\n",
              "    </tr>\n",
              "    <tr>\n",
              "      <th id=\"T_788d7_level0_row8\" class=\"row_heading level0 row8\" >8</th>\n",
              "      <td id=\"T_788d7_row8_col0\" class=\"data row8 col0\" >The analysis was insightful.</td>\n",
              "      <td id=\"T_788d7_row8_col1\" class=\"data row8 col1\" >1</td>\n",
              "      <td id=\"T_788d7_row8_col2\" class=\"data row8 col2\" >2</td>\n",
              "      <td id=\"T_788d7_row8_col3\" class=\"data row8 col3\" ><class 'str'></td>\n",
              "    </tr>\n",
              "    <tr>\n",
              "      <th id=\"T_788d7_level0_row9\" class=\"row_heading level0 row9\" >9</th>\n",
              "      <td id=\"T_788d7_row9_col0\" class=\"data row9 col0\" >I stan a legend.</td>\n",
              "      <td id=\"T_788d7_row9_col1\" class=\"data row9 col1\" >3</td>\n",
              "      <td id=\"T_788d7_row9_col2\" class=\"data row9 col2\" >3</td>\n",
              "      <td id=\"T_788d7_row9_col3\" class=\"data row9 col3\" >✔️ [True]</td>\n",
              "    </tr>\n",
              "  </tbody>\n",
              "</table>\n"
            ]
          },
          "metadata": {}
        },
        {
          "output_type": "execute_result",
          "data": {
            "text/plain": [
              "80.0"
            ]
          },
          "metadata": {},
          "execution_count": 54
        }
      ]
    },
    {
      "cell_type": "markdown",
      "source": [
        "We can see that this optimization helps our program achieve 30 points higher on our evaluation!"
      ],
      "metadata": {
        "id": "2k9ov1j-pMV8"
      }
    },
    {
      "cell_type": "code",
      "source": [
        "llm.inspect_history(n=1)"
      ],
      "metadata": {
        "colab": {
          "base_uri": "https://localhost:8080/"
        },
        "id": "K-7qjXPKWMWF",
        "outputId": "b53cb50f-2dac-44d1-9b6d-732374516a27"
      },
      "execution_count": 55,
      "outputs": [
        {
          "output_type": "stream",
          "name": "stdout",
          "text": [
            "\n",
            "\n",
            "\n",
            "\n",
            "\u001b[31mSystem message:\u001b[0m\n",
            "\n",
            "Your input fields are:\n",
            "1. `sentence` (str)\n",
            "\n",
            "Your output fields are:\n",
            "1. `rating` (int): ${rating} (Respond with a single int value)\n",
            "\n",
            "All interactions will be structured in the following way, with the appropriate values filled in.\n",
            "\n",
            "[[ ## sentence ## ]]\n",
            "{sentence}\n",
            "\n",
            "[[ ## rating ## ]]\n",
            "{rating}\n",
            "\n",
            "[[ ## completed ## ]]\n",
            "\n",
            "In adhering to this structure, your objective is: \n",
            "        Rate a sentence from 0 to 4 on a dopeness scale\n",
            "\n",
            "\n",
            "\u001b[31mUser message:\u001b[0m\n",
            "\n",
            "[[ ## sentence ## ]]\n",
            "This tea is piping hot.\n",
            "\n",
            "Respond with the corresponding output fields, starting with the field `rating`, and then ending with the marker for `completed`.\n",
            "\n",
            "\n",
            "\u001b[31mAssistant message:\u001b[0m\n",
            "\n",
            "[[ ## rating ## ]]\n",
            "4\n",
            "\n",
            "[[ ## completed ## ]]\n",
            "\n",
            "\n",
            "\u001b[31mUser message:\u001b[0m\n",
            "\n",
            "[[ ## sentence ## ]]\n",
            "Your professionalism is appreciated.\n",
            "\n",
            "Respond with the corresponding output fields, starting with the field `rating`, and then ending with the marker for `completed`.\n",
            "\n",
            "\n",
            "\u001b[31mAssistant message:\u001b[0m\n",
            "\n",
            "[[ ## rating ## ]]\n",
            "1\n",
            "\n",
            "[[ ## completed ## ]]\n",
            "\n",
            "\n",
            "\u001b[31mUser message:\u001b[0m\n",
            "\n",
            "[[ ## sentence ## ]]\n",
            "I'm shook!\n",
            "\n",
            "Respond with the corresponding output fields, starting with the field `rating`, and then ending with the marker for `completed`.\n",
            "\n",
            "\n",
            "\u001b[31mAssistant message:\u001b[0m\n",
            "\n",
            "[[ ## rating ## ]]\n",
            "4\n",
            "\n",
            "[[ ## completed ## ]]\n",
            "\n",
            "\n",
            "\u001b[31mUser message:\u001b[0m\n",
            "\n",
            "[[ ## sentence ## ]]\n",
            "This is a whole mood.\n",
            "\n",
            "Respond with the corresponding output fields, starting with the field `rating`, and then ending with the marker for `completed`.\n",
            "\n",
            "\n",
            "\u001b[31mAssistant message:\u001b[0m\n",
            "\n",
            "[[ ## rating ## ]]\n",
            "4\n",
            "\n",
            "[[ ## completed ## ]]\n",
            "\n",
            "\n",
            "\u001b[31mUser message:\u001b[0m\n",
            "\n",
            "[[ ## sentence ## ]]\n",
            "The research was extensive.\n",
            "\n",
            "Respond with the corresponding output fields, starting with the field `rating`, and then ending with the marker for `completed`.\n",
            "\n",
            "\n",
            "\u001b[31mAssistant message:\u001b[0m\n",
            "\n",
            "[[ ## rating ## ]]\n",
            "1\n",
            "\n",
            "[[ ## completed ## ]]\n",
            "\n",
            "\n",
            "\u001b[31mUser message:\u001b[0m\n",
            "\n",
            "[[ ## sentence ## ]]\n",
            "No cap, that's amazing.\n",
            "\n",
            "Respond with the corresponding output fields, starting with the field `rating`, and then ending with the marker for `completed`.\n",
            "\n",
            "\n",
            "\u001b[31mAssistant message:\u001b[0m\n",
            "\n",
            "[[ ## rating ## ]]\n",
            "4\n",
            "\n",
            "[[ ## completed ## ]]\n",
            "\n",
            "\n",
            "\u001b[31mUser message:\u001b[0m\n",
            "\n",
            "[[ ## sentence ## ]]\n",
            "I'm so here for this drama.\n",
            "\n",
            "Respond with the corresponding output fields, starting with the field `rating`, and then ending with the marker for `completed`.\n",
            "\n",
            "\n",
            "\u001b[31mAssistant message:\u001b[0m\n",
            "\n",
            "[[ ## rating ## ]]\n",
            "3\n",
            "\n",
            "[[ ## completed ## ]]\n",
            "\n",
            "\n",
            "\u001b[31mUser message:\u001b[0m\n",
            "\n",
            "[[ ## sentence ## ]]\n",
            "The documentation is complete.\n",
            "\n",
            "Respond with the corresponding output fields, starting with the field `rating`, and then ending with the marker for `completed`.\n",
            "\n",
            "\n",
            "\u001b[31mAssistant message:\u001b[0m\n",
            "\n",
            "[[ ## rating ## ]]\n",
            "1\n",
            "\n",
            "[[ ## completed ## ]]\n",
            "\n",
            "\n",
            "\u001b[31mUser message:\u001b[0m\n",
            "\n",
            "[[ ## sentence ## ]]\n",
            "I can't even with this homework.\n",
            "\n",
            "Respond with the corresponding output fields, starting with the field `rating`, and then ending with the marker for `completed`.\n",
            "\n",
            "\n",
            "\u001b[31mAssistant message:\u001b[0m\n",
            "\n",
            "[[ ## rating ## ]]\n",
            "3\n",
            "\n",
            "[[ ## completed ## ]]\n",
            "\n",
            "\n",
            "\u001b[31mUser message:\u001b[0m\n",
            "\n",
            "[[ ## sentence ## ]]\n",
            "Your feedback is valuable.\n",
            "\n",
            "Respond with the corresponding output fields, starting with the field `rating`, and then ending with the marker for `completed`.\n",
            "\n",
            "\n",
            "\u001b[31mAssistant message:\u001b[0m\n",
            "\n",
            "[[ ## rating ## ]]\n",
            "1\n",
            "\n",
            "[[ ## completed ## ]]\n",
            "\n",
            "\n",
            "\u001b[31mUser message:\u001b[0m\n",
            "\n",
            "[[ ## sentence ## ]]\n",
            "I'm hyped.\n",
            "\n",
            "Respond with the corresponding output fields, starting with the field `rating`, and then ending with the marker for `completed`.\n",
            "\n",
            "\n",
            "\u001b[31mAssistant message:\u001b[0m\n",
            "\n",
            "[[ ## rating ## ]]\n",
            "4\n",
            "\n",
            "[[ ## completed ## ]]\n",
            "\n",
            "\n",
            "\u001b[31mUser message:\u001b[0m\n",
            "\n",
            "[[ ## sentence ## ]]\n",
            "Bless up!\n",
            "\n",
            "Respond with the corresponding output fields, starting with the field `rating`, and then ending with the marker for `completed`.\n",
            "\n",
            "\n",
            "\u001b[31mAssistant message:\u001b[0m\n",
            "\n",
            "[[ ## rating ## ]]\n",
            "4\n",
            "\n",
            "[[ ## completed ## ]]\n",
            "\n",
            "\n",
            "\u001b[31mUser message:\u001b[0m\n",
            "\n",
            "[[ ## sentence ## ]]\n",
            "I stan a legend.\n",
            "\n",
            "Respond with the corresponding output fields, starting with the field `rating`, and then ending with the marker for `completed`.\n",
            "\n",
            "\n",
            "\u001b[31mResponse:\u001b[0m\n",
            "\n",
            "\u001b[32m[[ ## rating ## ]]\n",
            "3\n",
            "\n",
            "[[ ## completed ## ]]\u001b[0m\n",
            "\n",
            "\n",
            "\n",
            "\n",
            "\n"
          ]
        }
      ]
    },
    {
      "cell_type": "code",
      "source": [
        "for name, parameter in compiled_dspy_BOOTSTRAP.named_parameters():\n",
        "  print(f\"Parameter {name}: Num Examples: {len(parameter.demos)}, {parameter.demos[0]}\")\n",
        "  print()"
      ],
      "metadata": {
        "colab": {
          "base_uri": "https://localhost:8080/"
        },
        "id": "XEP0Sf6CUvuo",
        "outputId": "c1c961c5-e375-491e-f8d1-10fa04f41bc5"
      },
      "execution_count": 56,
      "outputs": [
        {
          "output_type": "stream",
          "name": "stdout",
          "text": [
            "Parameter generate_rating.predictor: Num Examples: 12, Example({'augmented': True, 'sentence': 'This tea is piping hot.', 'rating': 4}) (input_keys=None)\n",
            "\n"
          ]
        }
      ]
    },
    {
      "cell_type": "markdown",
      "source": [
        "# 🤝 Breakout Room #2"
      ],
      "metadata": {
        "id": "EnKHiDch1H8O"
      }
    },
    {
      "cell_type": "markdown",
      "source": [
        "## Task 1: Defining Application\n",
        "\n",
        "In this breakoutroom, we'll be using DSPy to optimize a Multi-Hop QA module with `Assertions`.\n",
        "\n",
        "So what is a \"Multi-Hop QA module\"?\n",
        "\n",
        "Well - going beyond naive RAG retrieval, Multi-Hop QA lets us create applications that are well-suited to questions that (potentially have) multiple \"hops\" required to answer them.\n",
        "\n",
        "For instance: \"Who is the top goal scorer that has ever played on the Winnipeg Jets, and what years did he play for the Winnipeg Jets?\"\n",
        "\n",
        "You can see that there are two \"hops\" required to respond correctly:\n",
        "\n",
        "1. Who is the top goal scorer for the Winnipeg Jets?\n",
        "2. What years did X player play for the Winnipeg Jets?\n",
        "\n",
        "While this is a toy example, the idea is the same across complexity: Questions that take more than one step of reasoning to answer.\n",
        "\n",
        "Let's grab some data, set-up some hyper-parameters, and then get to implmentation!"
      ],
      "metadata": {
        "id": "mbRgUUYK-qbd"
      }
    },
    {
      "cell_type": "markdown",
      "source": [
        "## Task 2: Hyper-Parameters and Data\n",
        "\n",
        "We'll use the DSPy ColBERT abstracts as our retrieval system for this example.\n",
        "\n",
        "We'll also use `GPT-4o-Mini` as our LM to keep things light and inexpensive as we'll be sending quite a few LLM calls."
      ],
      "metadata": {
        "id": "DtLPLh-RAHgx"
      }
    },
    {
      "cell_type": "code",
      "source": [
        "colbertv2_wiki17_abstracts = dspy.ColBERTv2(url='http://20.102.90.50:2017/wiki17_abstracts')\n",
        "dspy.settings.configure(rm=colbertv2_wiki17_abstracts)\n",
        "lm_openai_four_mini = dspy.LM(model='openai/gpt-4o-mini', max_tokens=500)\n",
        "dspy.settings.configure(lm=lm_openai_four_mini, trace=[], temperature=0.7)"
      ],
      "metadata": {
        "id": "TsZ_AUUg5HaL"
      },
      "execution_count": 61,
      "outputs": []
    },
    {
      "cell_type": "markdown",
      "source": [
        "We'll be using the [`HotPotQA`](https://hotpotqa.github.io/) dataset which is a number of multi-hop QA pairs that includes context, and is based on Wikipedia (for compatibility with our Retriever system)."
      ],
      "metadata": {
        "id": "_36Kh9pbAZ7R"
      }
    },
    {
      "cell_type": "code",
      "source": [
        "from dspy.datasets import HotPotQA\n",
        "\n",
        "dataset = HotPotQA(train_seed=1, train_size=20, eval_seed=2023, dev_size=50, test_size=0, keep_details=True)\n",
        "trainset = [x.with_inputs('question') for x in dataset.train]\n",
        "devset = [x.with_inputs('question') for x in dataset.dev]"
      ],
      "metadata": {
        "colab": {
          "base_uri": "https://localhost:8080/",
          "height": 273,
          "referenced_widgets": [
            "ddc89690926542edb21e18d21b38f290",
            "c9a5e98ac1c0439184a25156faccafa4",
            "3cc62e51c0054391a97285041effb9eb",
            "157f2e32d4d64b0f97fce8dd6b6c0aa0",
            "e9f68cc27b0447edbf869c2b574561d3",
            "f582823133e742fd97c493b13ad6725a",
            "3fabea11413045bc855b15f67a19295b",
            "a6b6a55df9e54f4e8a78b60be2d6b428",
            "bfdd211fe3254acebc8055c64d860df4",
            "13a65abc2df041a883bbb5eed0e52b5f",
            "46706fe76314427dadc2ace6cd08298f",
            "cccb6cb145144b4dbc1193a3ad038da6",
            "ef9741e6c7294731a93322a729722a70",
            "7fe72ab9ede74cc99fe65d4661711878",
            "aa094cc9d2de43628f9c5d84e912cc28",
            "439d0a0aa2ee45a596ffb818f7e9aba7",
            "67d1745c64aa4b84ae3ee9af9913300d",
            "9c17831856c9468db0a509757dad7bab",
            "287f9d25fd2b4067ac2cceab564582ad",
            "b3a0943acee3465f8b8a17022e5377e4",
            "7e2b681cdc6a4bdc9fe8960f0716075b",
            "d21d239a8cd4400b9987c0d8f67e9e6a",
            "8095e6b1e63f435f8cca916f3e006ad6",
            "068bac62fba641dfbcbd5c3196ff7340",
            "a15e6f0872ef42b0b3dbb911d8230e38",
            "114148a5f6604d3b884979d817e0de14",
            "a44728f29e1a4ac1be943dea32b4f523",
            "53b4ac424fb64014ba31b3a2a23d115d",
            "d493a94b45e043cb9160bfa1c8551034",
            "0f19dcbac295409eb34c344398253185",
            "6b836b589fec4ebaaf87cf8e09231188",
            "99d0d381e9a04abfa13f7d77c545fd4e",
            "e4252456e5e64ffcb8b878cd8e91fccd",
            "04ed1e19a0804e43a57c24237d8bf39b",
            "40bce611191f458ea7cb46c377772aaf",
            "b2ee20a1a0304a53ad2fb0f255eaa238",
            "65d95352e3734b888baf328f43052059",
            "fa46867bccfa46a99776ef6860efcad5",
            "b6bda1a7494144b2a33f90d388904cb1",
            "7489ab1143944c04a43852be97abf167",
            "7602ef16a6cd47ea99437b7169309bf5",
            "c5074a2d505e4ec3bbdeda7fd102d136",
            "210d4c7b54194dde94b537fe4241121b",
            "b5470ceb8e7549e182922046553ebe14",
            "ea13eefe1e5146c1b0efaf6daea9836d",
            "a73e7ea4421a48caaabee0d52dd9b587",
            "b3b02e6442fb404794e71927d1f51193",
            "bfff80779eec4b5892db0bffc21b51dc",
            "ef61094d96b947fbb6eae94525f26de4",
            "6a175e0b70904ad38ae51a34b1e45213",
            "aad65fcec3914434b3426c4642525fdb",
            "8368607ff6a245d28651cb836f69f4ce",
            "ea18f461695c46929f5e460171076f78",
            "67e6d1b2ee2c4848ab2d970eab619ba8",
            "332e15773ba849e19240cc8445fdb8a0",
            "9c6ef46097514ed9bbfd47bdda092428",
            "eaa63f930e1b42cab7f023a7269adbfd",
            "929627c2c12b494a970a680ba02afa13",
            "a1b4ff4c4a914ae8b5b9022ca62859fb",
            "18249fe85f49463591078ace65faadc6",
            "52076f7a4bac47cfb3a65c9757694908",
            "19ef5ad5902d43b38a2fce37391800ea",
            "0302a171e46b464abe17d81469b0594c",
            "28ee5df360274ac698d8b48462d70fe2",
            "957992fd850d4775ad9c54e41e77fdd8",
            "6bc764919f624e44b55a55fd6a3f8c4d",
            "4ebace7f52db461faf6e8f130bde035d",
            "0eea145cf3254a5c83ab0da961cf4def",
            "819092066aac4d7d8a5e51d56fb04539",
            "67fafbee75954a389a6d18b5b9fb1db4",
            "ba1fb3d2e0444db7aadd5e36d0ee3554",
            "aea86595dc1240df892fa61d2cb08b9f",
            "07ef69ac580e43f19cf1b5ce479e3a6d",
            "6f29c0d47e6e44428e7507bd2096d595",
            "ce41c10f3b084a3b8a85c4f5773204fe",
            "3f80665ab98b4c028258ce6f54cef756",
            "2918717a6b0c48a5b51f86ae538955b1",
            "b6222ce0ab55472c803f1e588b2094d1",
            "37aa6d1288f64fe48404a0225d057f90",
            "1b61b7277cfc4b93b00ae0d5e912672a",
            "18ec38fb829f489e9f70ec1a99b1ac8a",
            "6594989c3c784e1889bfab4936bf0202",
            "c8648d7df7aa4a788baf738a1b741d18",
            "7641e40416f44e628da9577cd185be33",
            "bfc1ab5a674b4f43bce5a2426be04fa3",
            "a7916b5cf83d478392c92d03d613ad0b",
            "04816968076446bd89d71a9133c889b8",
            "7a1ddbc8d17e47ec9686dba8c11a50da"
          ]
        },
        "id": "eHlnHiJD31G_",
        "outputId": "19897c4c-fb85-4315-b181-4373f952473c"
      },
      "execution_count": 57,
      "outputs": [
        {
          "output_type": "display_data",
          "data": {
            "text/plain": [
              "hotpot_qa.py:   0%|          | 0.00/6.42k [00:00<?, ?B/s]"
            ],
            "application/vnd.jupyter.widget-view+json": {
              "version_major": 2,
              "version_minor": 0,
              "model_id": "ddc89690926542edb21e18d21b38f290"
            }
          },
          "metadata": {}
        },
        {
          "output_type": "display_data",
          "data": {
            "text/plain": [
              "README.md:   0%|          | 0.00/9.19k [00:00<?, ?B/s]"
            ],
            "application/vnd.jupyter.widget-view+json": {
              "version_major": 2,
              "version_minor": 0,
              "model_id": "cccb6cb145144b4dbc1193a3ad038da6"
            }
          },
          "metadata": {}
        },
        {
          "output_type": "display_data",
          "data": {
            "text/plain": [
              "Downloading data:   0%|          | 0.00/566M [00:00<?, ?B/s]"
            ],
            "application/vnd.jupyter.widget-view+json": {
              "version_major": 2,
              "version_minor": 0,
              "model_id": "8095e6b1e63f435f8cca916f3e006ad6"
            }
          },
          "metadata": {}
        },
        {
          "output_type": "display_data",
          "data": {
            "text/plain": [
              "Downloading data:   0%|          | 0.00/47.5M [00:00<?, ?B/s]"
            ],
            "application/vnd.jupyter.widget-view+json": {
              "version_major": 2,
              "version_minor": 0,
              "model_id": "04ed1e19a0804e43a57c24237d8bf39b"
            }
          },
          "metadata": {}
        },
        {
          "output_type": "display_data",
          "data": {
            "text/plain": [
              "Downloading data:   0%|          | 0.00/46.2M [00:00<?, ?B/s]"
            ],
            "application/vnd.jupyter.widget-view+json": {
              "version_major": 2,
              "version_minor": 0,
              "model_id": "ea13eefe1e5146c1b0efaf6daea9836d"
            }
          },
          "metadata": {}
        },
        {
          "output_type": "display_data",
          "data": {
            "text/plain": [
              "Generating train split:   0%|          | 0/90447 [00:00<?, ? examples/s]"
            ],
            "application/vnd.jupyter.widget-view+json": {
              "version_major": 2,
              "version_minor": 0,
              "model_id": "9c6ef46097514ed9bbfd47bdda092428"
            }
          },
          "metadata": {}
        },
        {
          "output_type": "display_data",
          "data": {
            "text/plain": [
              "Generating validation split:   0%|          | 0/7405 [00:00<?, ? examples/s]"
            ],
            "application/vnd.jupyter.widget-view+json": {
              "version_major": 2,
              "version_minor": 0,
              "model_id": "4ebace7f52db461faf6e8f130bde035d"
            }
          },
          "metadata": {}
        },
        {
          "output_type": "display_data",
          "data": {
            "text/plain": [
              "Generating test split:   0%|          | 0/7405 [00:00<?, ? examples/s]"
            ],
            "application/vnd.jupyter.widget-view+json": {
              "version_major": 2,
              "version_minor": 0,
              "model_id": "b6222ce0ab55472c803f1e588b2094d1"
            }
          },
          "metadata": {}
        }
      ]
    },
    {
      "cell_type": "markdown",
      "source": [
        "We can look at a few examples:"
      ],
      "metadata": {
        "id": "fiBIhbwCA26F"
      }
    },
    {
      "cell_type": "code",
      "source": [
        "train_example = trainset[0]\n",
        "print(f\"Question: {train_example.question}\")\n",
        "print(f\"Answer: {train_example.answer}\")\n",
        "print(f\"Relevant Wikipedia Titles: {train_example.gold_titles}\")"
      ],
      "metadata": {
        "colab": {
          "base_uri": "https://localhost:8080/"
        },
        "id": "jLYSTfNh47I6",
        "outputId": "aeed7294-e288-497a-8231-0324172608c1"
      },
      "execution_count": 62,
      "outputs": [
        {
          "output_type": "stream",
          "name": "stdout",
          "text": [
            "Question: At My Window was released by which American singer-songwriter?\n",
            "Answer: John Townes Van Zandt\n",
            "Relevant Wikipedia Titles: {'At My Window (album)', 'Townes Van Zandt'}\n"
          ]
        }
      ]
    },
    {
      "cell_type": "code",
      "source": [
        "dev_example = devset[18]\n",
        "print(f\"Question: {dev_example.question}\")\n",
        "print(f\"Answer: {dev_example.answer}\")\n",
        "print(f\"Relevant Wikipedia Titles: {dev_example.gold_titles}\")"
      ],
      "metadata": {
        "colab": {
          "base_uri": "https://localhost:8080/"
        },
        "id": "lLQTYBXY48Gx",
        "outputId": "b76ae68f-6453-4041-a932-962166a1a746"
      },
      "execution_count": 63,
      "outputs": [
        {
          "output_type": "stream",
          "name": "stdout",
          "text": [
            "Question: What is the nationality of the chef and restaurateur featured in Restaurant: Impossible?\n",
            "Answer: English\n",
            "Relevant Wikipedia Titles: {'Restaurant: Impossible', 'Robert Irvine'}\n"
          ]
        }
      ]
    },
    {
      "cell_type": "markdown",
      "source": [
        "## Task 3: Signature and Module Creation\n",
        "\n",
        "As we learned above - the bread and butter for DSPy is the `Signature` and `Module`, so we'll create each below.\n",
        "\n",
        "For our `Signatures`, things are fairly straight-forward, we need to:\n",
        "\n",
        "1. Create a `Signature` that will allow us to generate sub-questions.\n",
        "2. Create a `Signature` that will provide citations for our responses."
      ],
      "metadata": {
        "id": "EINXkiD4A4-e"
      }
    },
    {
      "cell_type": "code",
      "source": [
        "from dsp.utils import deduplicate\n",
        "\n",
        "class GenerateSearchQuery(dspy.Signature):\n",
        "    \"\"\"Write a simple search query that will help answer a complex question.\"\"\"\n",
        "    context = dspy.InputField(desc=\"may contain relevant facts\")\n",
        "    question = dspy.InputField()\n",
        "    query = dspy.OutputField()\n",
        "\n",
        "class GenerateCitedParagraph(dspy.Signature):\n",
        "    \"\"\"Generate a paragraph with citations.\"\"\"\n",
        "    context = dspy.InputField(desc=\"may contain relevant facts\")\n",
        "    question = dspy.InputField()\n",
        "    paragraph = dspy.OutputField(desc=\"includes citations\")"
      ],
      "metadata": {
        "id": "QozzQ2YnBErb"
      },
      "execution_count": null,
      "outputs": []
    },
    {
      "cell_type": "markdown",
      "source": [
        "Our `Module` is a bit more complex than what we've seen before - so let's walk through what's happening inside of it. We're going to concern ourselves with the `forward` method - as that is where the logic of our `Module` is contained.\n",
        "\n",
        "In the `forward` method we:\n",
        "\n",
        "1. Create an empty list of contexts.\n",
        "2. For each `hop` in our `max_hops` (by default, it will be 2) we:\n",
        "  - Generate a new `query` using our `GenerateSearchQuery` with a `ChainOfThought` predictor.\n",
        "  - Retrieve a number (default 3) of `passages` based on that new `query`.\n",
        "  - Add unique (non-present) `passages` into our `context` list.\n",
        "3. Take all that `context` and our original `question` and generate a cited paragraph and use it to predict an answer."
      ],
      "metadata": {
        "id": "vktUyOnOBUxf"
      }
    },
    {
      "cell_type": "code",
      "source": [
        "class LongFormQA(dspy.Module):\n",
        "    def __init__(self, passages_per_hop=3, max_hops=2):\n",
        "        super().__init__()\n",
        "        self.generate_query = [dspy.ChainOfThought(GenerateSearchQuery) for _ in range(max_hops)]\n",
        "        self.retrieve = dspy.Retrieve(k=passages_per_hop)\n",
        "        self.generate_cited_paragraph = dspy.ChainOfThought(GenerateCitedParagraph)\n",
        "        self.max_hops = max_hops\n",
        "\n",
        "    def forward(self, question):\n",
        "        context = []\n",
        "        for hop in range(self.max_hops):\n",
        "            query = self.generate_query[hop](context=context, question=question).query\n",
        "            passages = self.retrieve(query).passages\n",
        "            context = deduplicate(context + passages)\n",
        "        pred = self.generate_cited_paragraph(context=context, question=question)\n",
        "        pred = dspy.Prediction(context=context, paragraph=pred.paragraph)\n",
        "        return pred"
      ],
      "metadata": {
        "id": "5yLb4hAY4_ti"
      },
      "execution_count": 82,
      "outputs": []
    },
    {
      "cell_type": "markdown",
      "source": [
        "Next, we'll need a way to evaluate how we're doing!"
      ],
      "metadata": {
        "id": "tgY7ZP43CmIg"
      }
    },
    {
      "cell_type": "markdown",
      "source": [
        "## Task 4: Evaluating our LongFormQA Module.\n",
        "\n",
        "Now we'd like to evaluate our module - we'll need a number of helper functions to do so - which will be instantiated below."
      ],
      "metadata": {
        "id": "-gReqGYZCuE9"
      }
    },
    {
      "cell_type": "markdown",
      "source": [
        "#### Utility Functions for Citation Checking"
      ],
      "metadata": {
        "id": "KbQ26BmM5M-a"
      }
    },
    {
      "cell_type": "code",
      "source": [
        "import nltk\n",
        "import regex as re\n",
        "\n",
        "from nltk.tokenize import sent_tokenize\n",
        "nltk.download('punkt')\n",
        "\n",
        "def extract_text_by_citation(paragraph):\n",
        "    citation_regex = re.compile(r'(.*?)(\\[\\d+\\]\\.)', re.DOTALL)\n",
        "    parts_with_citation = citation_regex.findall(paragraph)\n",
        "    citation_dict = {}\n",
        "    for part, citation in parts_with_citation:\n",
        "        part = part.strip()\n",
        "        citation_num = re.search(r'\\[(\\d+)\\]\\.', citation).group(1)\n",
        "        citation_dict.setdefault(str(int(citation_num) - 1), []).append(part)\n",
        "    return citation_dict\n",
        "\n",
        "def correct_citation_format(paragraph):\n",
        "    modified_sentences = []\n",
        "    sentences = sent_tokenize(paragraph)\n",
        "    for sentence in sentences:\n",
        "        modified_sentences.append(sentence)\n",
        "    citation_regex = re.compile(r'\\[\\d+\\]\\.')\n",
        "    i = 0\n",
        "    if len(modified_sentences) == 1:\n",
        "      has_citation = bool(citation_regex.search(modified_sentences[i]))\n",
        "    while i < len(modified_sentences):\n",
        "      if len(modified_sentences[i:i+2]) == 2:\n",
        "        sentence_group = \" \".join(modified_sentences[i:i+2])\n",
        "        has_citation = bool(citation_regex.search(sentence_group))\n",
        "        if not has_citation:\n",
        "            return False\n",
        "        i += 2 if has_citation and i+1 < len(modified_sentences) and citation_regex.search(modified_sentences[i+1]) else 1\n",
        "      else:\n",
        "        return True\n",
        "    return True\n",
        "\n",
        "def has_citations(paragraph):\n",
        "    return bool(re.search(r'\\[\\d+\\]\\.', paragraph))\n",
        "\n",
        "def citations_check(paragraph):\n",
        "    return has_citations(paragraph) and correct_citation_format(paragraph)"
      ],
      "metadata": {
        "colab": {
          "base_uri": "https://localhost:8080/"
        },
        "id": "ZeYo6sTX5NiZ",
        "outputId": "181ad9e7-f39d-4c33-8b72-94f3ccfcebac"
      },
      "execution_count": 83,
      "outputs": [
        {
          "output_type": "stream",
          "name": "stderr",
          "text": [
            "[nltk_data] Downloading package punkt to /root/nltk_data...\n",
            "[nltk_data]   Package punkt is already up-to-date!\n"
          ]
        }
      ]
    },
    {
      "cell_type": "markdown",
      "source": [
        "### Checking Citation Faithfulness\n",
        "\n",
        "We will create a number of useful metrics for our pipeline - included \"Faithfulness\", as well as a number of more traditional metrics. \""
      ],
      "metadata": {
        "id": "7-odXQWg5WWD"
      }
    },
    {
      "cell_type": "code",
      "source": [
        "class CheckCitationFaithfulness(dspy.Signature):\n",
        "    \"\"\"Verify that the text is based on the provided context.\"\"\"\n",
        "    context = dspy.InputField(desc=\"may contain relevant facts\")\n",
        "    text = dspy.InputField(desc=\"between 1 to 2 sentences\")\n",
        "    faithfulness = dspy.OutputField(desc=\"boolean indicating if text is faithful to context\")\n",
        "\n",
        "def citation_faithfulness(example, pred, trace):\n",
        "    paragraph, context = pred.paragraph, pred.context\n",
        "    citation_dict = extract_text_by_citation(paragraph)\n",
        "    if not citation_dict:\n",
        "        return False, None\n",
        "    context_dict = {str(i): context[i].split(' | ')[1] for i in range(len(context))}\n",
        "    faithfulness_results = []\n",
        "    unfaithful_citations = []\n",
        "    check_citation_faithfulness = dspy.ChainOfThought(CheckCitationFaithfulness)\n",
        "    for citation_num, texts in citation_dict.items():\n",
        "        if citation_num not in context_dict:\n",
        "            continue\n",
        "        current_context = context_dict[citation_num]\n",
        "        for text in texts:\n",
        "            try:\n",
        "                result = check_citation_faithfulness(context=current_context, text=text)\n",
        "                is_faithful = result.faithfulness.lower() == 'true'\n",
        "                faithfulness_results.append(is_faithful)\n",
        "                if not is_faithful:\n",
        "                    unfaithful_citations.append({'paragraph': paragraph, 'text': text, 'context': current_context})\n",
        "            except ValueError as e:\n",
        "                faithfulness_results.append(False)\n",
        "                unfaithful_citations.append({'paragraph': paragraph, 'text': text, 'error': str(e)})\n",
        "    final_faithfulness = all(faithfulness_results)\n",
        "    if not faithfulness_results:\n",
        "        return False, None\n",
        "    return final_faithfulness, unfaithful_citations"
      ],
      "metadata": {
        "id": "TU5Yx0gE5C1c"
      },
      "execution_count": 84,
      "outputs": []
    },
    {
      "cell_type": "markdown",
      "source": [
        "#### ❓Question #2:\n",
        "\n",
        "How is faithfulness being determined here? How is this different from Ragas Faithfulness."
      ],
      "metadata": {
        "id": "dOinluoLDRXr"
      }
    },
    {
      "cell_type": "markdown",
      "source": [
        "Next, we can create a number of useful metrics that rely on more traditional evaluations, like Precision, Recall, and \"does this contain the answer\"."
      ],
      "metadata": {
        "id": "L1yA4kEbDbea"
      }
    },
    {
      "cell_type": "code",
      "source": [
        "from dsp.utils import normalize_text\n",
        "\n",
        "def extract_cited_titles_from_paragraph(paragraph, context):\n",
        "    cited_indices = [int(m.group(1)) for m in re.finditer(r'\\[(\\d+)\\]\\.', paragraph)]\n",
        "    cited_indices = [index - 1 for index in cited_indices if index <= len(context)]\n",
        "    cited_titles = [context[index].split(' | ')[0] for index in cited_indices]\n",
        "    return cited_titles\n",
        "\n",
        "def calculate_recall(example, pred, trace=None):\n",
        "    gold_titles = set(example['gold_titles'])\n",
        "    found_cited_titles = set(extract_cited_titles_from_paragraph(pred.paragraph, pred.context))\n",
        "    intersection = gold_titles.intersection(found_cited_titles)\n",
        "    recall = len(intersection) / len(gold_titles) if gold_titles else 0\n",
        "    return recall\n",
        "\n",
        "def calculate_precision(example, pred, trace=None):\n",
        "    gold_titles = set(example['gold_titles'])\n",
        "    found_cited_titles = set(extract_cited_titles_from_paragraph(pred.paragraph, pred.context))\n",
        "    intersection = gold_titles.intersection(found_cited_titles)\n",
        "    precision = len(intersection) / len(found_cited_titles) if found_cited_titles else 0\n",
        "    return precision\n",
        "\n",
        "def answer_correctness(example, pred, trace=None):\n",
        "    assert hasattr(example, 'answer'), \"Example does not have 'answer'.\"\n",
        "    normalized_context = normalize_text(pred.paragraph)\n",
        "    if isinstance(example.answer, str):\n",
        "        gold_answers = [example.answer]\n",
        "    elif isinstance(example.answer, list):\n",
        "        gold_answers = example.answer\n",
        "    else:\n",
        "        raise ValueError(\"'example.answer' is not string or list.\")\n",
        "    return 1 if any(normalize_text(answer) in normalized_context for answer in gold_answers) else 0"
      ],
      "metadata": {
        "id": "Cimjr9Ji5yY5"
      },
      "execution_count": 85,
      "outputs": []
    },
    {
      "cell_type": "markdown",
      "source": [
        "### Creating the Evaluation Function\n",
        "\n",
        "In essence, all this function does is call all the created metrics above and sum/average them."
      ],
      "metadata": {
        "id": "aDdr3nY1D4Rb"
      }
    },
    {
      "cell_type": "code",
      "source": [
        "from tqdm import tqdm\n",
        "\n",
        "def evaluate(module):\n",
        "    correctness_values = []\n",
        "    recall_values = []\n",
        "    precision_values = []\n",
        "    citation_faithfulness_values = []\n",
        "    for i in tqdm(range(len(devset[:20]))):\n",
        "        example = devset[i]\n",
        "        try:\n",
        "            pred = module(question=example.question)\n",
        "            correctness_values.append(answer_correctness(example, pred))\n",
        "            citation_faithfulness_score, _ = citation_faithfulness(None, pred, None)\n",
        "            citation_faithfulness_values.append(citation_faithfulness_score)\n",
        "            recall = calculate_recall(example, pred)\n",
        "            precision = calculate_precision(example, pred)\n",
        "            recall_values.append(recall)\n",
        "            precision_values.append(precision)\n",
        "        except Exception as e:\n",
        "            print(f\"Failed generation with error: {e}\")\n",
        "\n",
        "    average_correctness = sum(correctness_values) / len(devset[:20]) if correctness_values else 0\n",
        "    average_recall = sum(recall_values) / len(devset[:20]) if recall_values else 0\n",
        "    average_precision = sum(precision_values) / len(devset[:20]) if precision_values else 0\n",
        "    average_citation_faithfulness = sum(citation_faithfulness_values) / len(devset[:20]) if citation_faithfulness_values else 0\n",
        "\n",
        "    print(f\"\\nAverage Correctness: {average_correctness}\")\n",
        "    print(f\"Average Recall: {average_recall}\")\n",
        "    print(f\"Average Precision: {average_precision}\")\n",
        "    print(f\"Average Citation Faithfulness: {average_citation_faithfulness}\")"
      ],
      "metadata": {
        "id": "yiLjsf5050j9"
      },
      "execution_count": 89,
      "outputs": []
    },
    {
      "cell_type": "markdown",
      "source": [
        "### Evaluating our LongFormQA Module\n",
        "\n",
        "Finally, we can evaluate our module!"
      ],
      "metadata": {
        "id": "e9hqGVpaEXOi"
      }
    },
    {
      "cell_type": "code",
      "source": [
        "longformqa = LongFormQA()\n",
        "evaluate(longformqa)"
      ],
      "metadata": {
        "colab": {
          "base_uri": "https://localhost:8080/"
        },
        "id": "kuHF8UQo52Qu",
        "outputId": "b7db8106-d495-45b2-9f4a-aa6c3aa7dc84"
      },
      "execution_count": 90,
      "outputs": [
        {
          "output_type": "stream",
          "name": "stderr",
          "text": [
            "\n",
            "100%|██████████| 20/20 [00:00<00:00, 778.03it/s]"
          ]
        },
        {
          "output_type": "stream",
          "name": "stdout",
          "text": [
            "\n",
            "Average Correctness: 0.7\n",
            "Average Recall: 0.0\n",
            "Average Precision: 0.0\n",
            "Average Citation Faithfulness: 0.0\n"
          ]
        },
        {
          "output_type": "stream",
          "name": "stderr",
          "text": [
            "\n"
          ]
        }
      ]
    },
    {
      "cell_type": "markdown",
      "source": [
        "This did surprisingly poorly on `Recall`, `Precision` and `Citation Faithfulness`."
      ],
      "metadata": {
        "id": "U3TKIZrGEh8p"
      }
    },
    {
      "cell_type": "markdown",
      "source": [
        "❓Question #3:\n",
        "\n",
        "Why did our `Module` do surprisingly poorly on `Recall`, `Precision` and `Citation Faithfulness`?\n",
        "\n",
        "> HINT: The name `LongFormQA` should provide a fairly big hint."
      ],
      "metadata": {
        "id": "_BMGNZSeEpfe"
      }
    },
    {
      "cell_type": "markdown",
      "source": [
        "## Task 5: Adding `Assertions`.\n",
        "\n",
        "DSPy comes equipped with an extremely useful feature called `Assertions` and `Suggestions`.\n",
        "\n",
        "Let's take a look at what each one does:\n",
        "\n",
        "1. `dspy.Assert` - this is a hard rule that must be followed, and if it's not followed; an exception will be raised.\n",
        "2. `dspy.Suggest` - this is a looser rule, or guiding principle, it will not raise an exception if the rule isn't met; but it will try and ensure the suggestion is met.\n",
        "\n",
        "Let's improve our `Module` with some `dspy.Suggest`s!\n"
      ],
      "metadata": {
        "id": "iX3rawv5E3xe"
      }
    },
    {
      "cell_type": "code",
      "source": [
        "class LongFormQAWithAssertions(dspy.Module):\n",
        "    def __init__(self, passages_per_hop=3, max_hops=2):\n",
        "        super().__init__()\n",
        "        self.generate_query = [dspy.ChainOfThought(GenerateSearchQuery) for _ in range(max_hops)]\n",
        "        self.retrieve = dspy.Retrieve(k=passages_per_hop)\n",
        "        self.generate_cited_paragraph = dspy.ChainOfThought(GenerateCitedParagraph)\n",
        "        self.max_hops = max_hops\n",
        "\n",
        "    def forward(self, question):\n",
        "        context = []\n",
        "        for hop in range(self.max_hops):\n",
        "            query = self.generate_query[hop](context=context, question=question).query\n",
        "            passages = self.retrieve(query).passages\n",
        "            context = deduplicate(context + passages)\n",
        "        pred = self.generate_cited_paragraph(context=context, question=question)\n",
        "        pred = dspy.Prediction(context=context, paragraph=pred.paragraph)\n",
        "        dspy.Suggest(citations_check(pred.paragraph), \"Make sure every 1-2 sentences has citations. If any 1-2 sentences lack citations, add them in 'text... [x].' format.\", target_module=self.generate_cited_paragraph)\n",
        "        _, unfaithful_outputs = citation_faithfulness(None, pred, None)\n",
        "        if unfaithful_outputs:\n",
        "            unfaithful_pairs = [(output['text'], output['context']) for output in unfaithful_outputs]\n",
        "            for _, context in unfaithful_pairs:\n",
        "                dspy.Suggest(len(unfaithful_pairs) == 0, f\"Make sure your output is based on the following context: '{context}'.\", target_module=self.generate_cited_paragraph)\n",
        "        else:\n",
        "            return pred\n",
        "        return pred"
      ],
      "metadata": {
        "id": "yAHRD9pm7Paa"
      },
      "execution_count": 91,
      "outputs": []
    },
    {
      "cell_type": "markdown",
      "source": [
        "#### 🏗️ Activity #2:\n",
        "\n",
        "Write out the above flow in natural language or using a drawing program.\n",
        "\n",
        "What is the key advantage provided by using `dspy.Suggest`?"
      ],
      "metadata": {
        "id": "qsnkEzZ_9Lkc"
      }
    },
    {
      "cell_type": "code",
      "source": [
        "from dspy.primitives.assertions import assert_transform_module, backtrack_handler\n",
        "from dspy.predict import Retry\n",
        "\n",
        "longformqa_with_assertions = assert_transform_module(LongFormQAWithAssertions().map_named_predictors(Retry), backtrack_handler)\n",
        "evaluate(longformqa_with_assertions)"
      ],
      "metadata": {
        "colab": {
          "base_uri": "https://localhost:8080/"
        },
        "id": "WBzJTpvq7RXW",
        "outputId": "609ac2bb-2f16-4ed1-ee58-f75ccbc2374d"
      },
      "execution_count": 92,
      "outputs": [
        {
          "output_type": "stream",
          "name": "stderr",
          "text": [
            "\n",
            "  0%|          | 0/20 [00:00<?, ?it/s]\u001b[A\n",
            "  5%|▌         | 1/20 [00:51<16:20, 51.60s/it]\u001b[A\n",
            "100%|██████████| 20/20 [00:51<00:00,  2.59s/it]"
          ]
        },
        {
          "output_type": "stream",
          "name": "stdout",
          "text": [
            "\n",
            "Average Correctness: 0.7\n",
            "Average Recall: 0.55\n",
            "Average Precision: 0.6333333333333333\n",
            "Average Citation Faithfulness: 0.45\n"
          ]
        },
        {
          "output_type": "stream",
          "name": "stderr",
          "text": [
            "\n"
          ]
        }
      ]
    },
    {
      "cell_type": "code",
      "source": [
        "from dspy.teleprompt import BootstrapFewShotWithRandomSearch\n",
        "\n",
        "longformqa = LongFormQAWithAssertions()\n",
        "teleprompter = BootstrapFewShotWithRandomSearch(metric = answer_correctness, max_bootstrapped_demos=2, num_candidate_programs=6)\n",
        "cited_longformqa_student_teacher = teleprompter.compile(student=assert_transform_module(LongFormQAWithAssertions().map_named_predictors(Retry), backtrack_handler), teacher = assert_transform_module(LongFormQAWithAssertions().map_named_predictors(Retry), backtrack_handler), trainset=trainset, valset=devset[:25])\n",
        "evaluate(cited_longformqa_student_teacher)"
      ],
      "metadata": {
        "colab": {
          "base_uri": "https://localhost:8080/"
        },
        "id": "6I8qm_Oq8bUo",
        "outputId": "4fa42a02-bbbb-4fe7-b38c-fa87914a24e8"
      },
      "execution_count": 94,
      "outputs": [
        {
          "output_type": "stream",
          "name": "stdout",
          "text": [
            "Going to sample between 1 and 2 traces per predictor.\n",
            "Will attempt to bootstrap 6 candidate sets.\n"
          ]
        },
        {
          "output_type": "stream",
          "name": "stderr",
          "text": [
            "Average Metric: 18 / 25  (72.0): 100%|██████████| 25/25 [00:00<00:00, 120.79it/s]\n"
          ]
        },
        {
          "output_type": "stream",
          "name": "stdout",
          "text": [
            "New best score: 72.0 for seed -3\n",
            "Scores so far: [72.0]\n",
            "Best score so far: 72.0\n"
          ]
        },
        {
          "output_type": "stream",
          "name": "stderr",
          "text": [
            "Average Metric: 18 / 25  (72.0): 100%|██████████| 25/25 [00:00<00:00, 119.73it/s]\n"
          ]
        },
        {
          "output_type": "stream",
          "name": "stdout",
          "text": [
            "Scores so far: [72.0, 72.0]\n",
            "Best score so far: 72.0\n"
          ]
        },
        {
          "output_type": "stream",
          "name": "stderr",
          "text": [
            " 20%|██        | 4/20 [00:00<00:00, 105.74it/s]\n"
          ]
        },
        {
          "output_type": "stream",
          "name": "stdout",
          "text": [
            "Bootstrapped 2 full traces after 5 examples in round 0.\n"
          ]
        },
        {
          "output_type": "stream",
          "name": "stderr",
          "text": [
            "Average Metric: 20 / 25  (80.0): 100%|██████████| 25/25 [00:00<00:00, 99.76it/s]\n"
          ]
        },
        {
          "output_type": "stream",
          "name": "stdout",
          "text": [
            "New best score: 80.0 for seed -1\n",
            "Scores so far: [72.0, 72.0, 80.0]\n",
            "Best score so far: 80.0\n"
          ]
        },
        {
          "output_type": "stream",
          "name": "stderr",
          "text": [
            " 10%|█         | 2/20 [00:00<00:00, 63.92it/s]\n"
          ]
        },
        {
          "output_type": "stream",
          "name": "stdout",
          "text": [
            "Bootstrapped 2 full traces after 3 examples in round 0.\n"
          ]
        },
        {
          "output_type": "stream",
          "name": "stderr",
          "text": [
            "Average Metric: 19 / 25  (76.0): 100%|██████████| 25/25 [00:00<00:00, 69.07it/s]\n"
          ]
        },
        {
          "output_type": "stream",
          "name": "stdout",
          "text": [
            "Scores so far: [72.0, 72.0, 80.0, 76.0]\n",
            "Best score so far: 80.0\n"
          ]
        },
        {
          "output_type": "stream",
          "name": "stderr",
          "text": [
            "  5%|▌         | 1/20 [00:00<00:00, 157.19it/s]\n"
          ]
        },
        {
          "output_type": "stream",
          "name": "stdout",
          "text": [
            "Bootstrapped 1 full traces after 2 examples in round 0.\n"
          ]
        },
        {
          "output_type": "stream",
          "name": "stderr",
          "text": [
            "Average Metric: 20 / 25  (80.0): 100%|██████████| 25/25 [00:00<00:00, 199.20it/s]\n"
          ]
        },
        {
          "output_type": "stream",
          "name": "stdout",
          "text": [
            "Scores so far: [72.0, 72.0, 80.0, 76.0, 80.0]\n",
            "Best score so far: 80.0\n"
          ]
        },
        {
          "output_type": "stream",
          "name": "stderr",
          "text": [
            "  5%|▌         | 1/20 [00:00<00:00, 74.05it/s]\n"
          ]
        },
        {
          "output_type": "stream",
          "name": "stdout",
          "text": [
            "Bootstrapped 1 full traces after 2 examples in round 0.\n"
          ]
        },
        {
          "output_type": "stream",
          "name": "stderr",
          "text": [
            "Average Metric: 20 / 25  (80.0): 100%|██████████| 25/25 [00:00<00:00, 70.33it/s]\n"
          ]
        },
        {
          "output_type": "stream",
          "name": "stdout",
          "text": [
            "Scores so far: [72.0, 72.0, 80.0, 76.0, 80.0, 80.0]\n",
            "Best score so far: 80.0\n"
          ]
        },
        {
          "output_type": "stream",
          "name": "stderr",
          "text": [
            " 10%|█         | 2/20 [00:00<00:00, 147.58it/s]\n"
          ]
        },
        {
          "output_type": "stream",
          "name": "stdout",
          "text": [
            "Bootstrapped 1 full traces after 3 examples in round 0.\n"
          ]
        },
        {
          "output_type": "stream",
          "name": "stderr",
          "text": [
            "Average Metric: 22 / 25  (88.0): 100%|██████████| 25/25 [00:00<00:00, 166.82it/s]\n"
          ]
        },
        {
          "output_type": "stream",
          "name": "stdout",
          "text": [
            "New best score: 88.0 for seed 3\n",
            "Scores so far: [72.0, 72.0, 80.0, 76.0, 80.0, 80.0, 88.0]\n",
            "Best score so far: 88.0\n"
          ]
        },
        {
          "output_type": "stream",
          "name": "stderr",
          "text": [
            "  5%|▌         | 1/20 [00:00<00:00, 146.43it/s]\n"
          ]
        },
        {
          "output_type": "stream",
          "name": "stdout",
          "text": [
            "Bootstrapped 1 full traces after 2 examples in round 0.\n"
          ]
        },
        {
          "output_type": "stream",
          "name": "stderr",
          "text": [
            "Average Metric: 22 / 25  (88.0): 100%|██████████| 25/25 [00:00<00:00, 140.90it/s]\n"
          ]
        },
        {
          "output_type": "stream",
          "name": "stdout",
          "text": [
            "Scores so far: [72.0, 72.0, 80.0, 76.0, 80.0, 80.0, 88.0, 88.0]\n",
            "Best score so far: 88.0\n"
          ]
        },
        {
          "output_type": "stream",
          "name": "stderr",
          "text": [
            " 15%|█▌        | 3/20 [00:00<00:00, 70.86it/s]\n"
          ]
        },
        {
          "output_type": "stream",
          "name": "stdout",
          "text": [
            "Bootstrapped 2 full traces after 4 examples in round 0.\n"
          ]
        },
        {
          "output_type": "stream",
          "name": "stderr",
          "text": [
            "Average Metric: 20 / 25  (80.0): 100%|██████████| 25/25 [00:00<00:00, 84.45it/s]\n"
          ]
        },
        {
          "output_type": "stream",
          "name": "stdout",
          "text": [
            "Scores so far: [72.0, 72.0, 80.0, 76.0, 80.0, 80.0, 88.0, 88.0, 80.0]\n",
            "Best score so far: 88.0\n",
            "9 candidate programs found.\n"
          ]
        },
        {
          "output_type": "stream",
          "name": "stderr",
          "text": [
            "100%|██████████| 20/20 [00:00<00:00, 125.97it/s]"
          ]
        },
        {
          "output_type": "stream",
          "name": "stdout",
          "text": [
            "\n",
            "Average Correctness: 0.9\n",
            "Average Recall: 0.0\n",
            "Average Precision: 0.0\n",
            "Average Citation Faithfulness: 0.0\n"
          ]
        },
        {
          "output_type": "stream",
          "name": "stderr",
          "text": [
            "\n"
          ]
        }
      ]
    }
  ]
}