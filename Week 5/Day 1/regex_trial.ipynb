{
 "cells": [
  {
   "cell_type": "markdown",
   "metadata": {},
   "source": [
    "# Regex Trial to Extract Questions from LLM Response"
   ]
  },
  {
   "cell_type": "code",
   "execution_count": 1,
   "metadata": {},
   "outputs": [],
   "source": [
    "import re"
   ]
  },
  {
   "cell_type": "markdown",
   "metadata": {},
   "source": [
    "### Expected format of LLM response - shown with a few examples"
   ]
  },
  {
   "cell_type": "code",
   "execution_count": 2,
   "metadata": {},
   "outputs": [],
   "source": [
    "# qa_prompt = \"\"\"\\\n",
    "# Given the following context, you must generate questions based on only the provided context.\n",
    "\n",
    "# You are to generate {n_questions} questions which should be provided in the following format:\n",
    "\n",
    "# 1. QUESTION #1\n",
    "# 2. QUESTION #2\n",
    "# ...\n",
    "\n",
    "# Context:\n",
    "# {context}\n",
    "# \"\"\""
   ]
  },
  {
   "cell_type": "code",
   "execution_count": 3,
   "metadata": {},
   "outputs": [],
   "source": [
    "llm_response = \"\"\"\n",
    "1.  What is the capital of France?  What foods is the country famous for?\n",
    "2.  What major financial event happened in 2008?  How did it affect the economy?\n",
    "3.  Who is Warren Buffett?  And, why is he famous.\n",
    "4.  Anyone home.\n",
    "5.  $%&**\n",
    "\"\"\""
   ]
  },
  {
   "cell_type": "code",
   "execution_count": 4,
   "metadata": {},
   "outputs": [
    {
     "data": {
      "text/plain": [
       "'\\n1.  What is the capital of France?  What foods is the country famous for?\\n2.  What major financial event happened in 2008?  How did it affect the economy?\\n3.  Who is Warren Buffett?  And, why is he famous.\\n4.  Anyone home.\\n5.  $%&**\\n'"
      ]
     },
     "execution_count": 4,
     "metadata": {},
     "output_type": "execute_result"
    }
   ],
   "source": [
    "llm_response"
   ]
  },
  {
   "cell_type": "markdown",
   "metadata": {},
   "source": [
    "### First split on end-of-line character into elements in list"
   ]
  },
  {
   "cell_type": "code",
   "execution_count": 5,
   "metadata": {},
   "outputs": [],
   "source": [
    "list_of_q = llm_response.split(\"\\n\")"
   ]
  },
  {
   "cell_type": "code",
   "execution_count": 6,
   "metadata": {},
   "outputs": [
    {
     "data": {
      "text/plain": [
       "['',\n",
       " '1.  What is the capital of France?  What foods is the country famous for?',\n",
       " '2.  What major financial event happened in 2008?  How did it affect the economy?',\n",
       " '3.  Who is Warren Buffett?  And, why is he famous.',\n",
       " '4.  Anyone home.',\n",
       " '5.  $%&**',\n",
       " '']"
      ]
     },
     "execution_count": 6,
     "metadata": {},
     "output_type": "execute_result"
    }
   ],
   "source": [
    "list_of_q"
   ]
  },
  {
   "cell_type": "code",
   "execution_count": 7,
   "metadata": {},
   "outputs": [
    {
     "name": "stdout",
     "output_type": "stream",
     "text": [
      "  What is the capital of France?  What foods is the country famous for?\n",
      "  What major financial event happened in 2008?  How did it affect the economy?\n",
      "  Who is Warren Buffett?  And, why is he famous.\n",
      "  Anyone home.\n",
      "  $%&**\n"
     ]
    }
   ],
   "source": [
    "# pattern = r'(^\\d+).([\\s\\w*,\\?\\.!\\[\\]\\(\\)]*)'\n",
    "\n",
    "pattern = r'(^\\d+).(.+)'\n",
    "\n",
    "for question in list_of_q:\n",
    "    if len(question) > 0:\n",
    "        match = re.search(pattern, question)\n",
    "        print(match.group(2))"
   ]
  }
 ],
 "metadata": {
  "kernelspec": {
   "display_name": "aie4challenge",
   "language": "python",
   "name": "python3"
  },
  "language_info": {
   "codemirror_mode": {
    "name": "ipython",
    "version": 3
   },
   "file_extension": ".py",
   "mimetype": "text/x-python",
   "name": "python",
   "nbconvert_exporter": "python",
   "pygments_lexer": "ipython3",
   "version": "3.11.5"
  }
 },
 "nbformat": 4,
 "nbformat_minor": 2
}
